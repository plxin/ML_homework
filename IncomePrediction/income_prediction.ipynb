{
 "cells": [
  {
   "cell_type": "markdown",
   "metadata": {},
   "source": [
    "### 逻辑回归\n",
    "\n",
    "目标：建立分类器，求解出57个参数\n",
    "\n",
    "设定阈值：根据阈值判断收入是否大于50k\n",
    "\n",
    "#### 公式推导：\n",
    "\n",
    "sigmoid函数：\n",
    "\n",
    "$$g(z)=\\frac{1}{1+e^ {-z}} $$\n",
    "\n",
    "根据线性回归中的预测函数$h_\\theta(x)$得到一个预测值\n",
    "\n",
    "$$h_\\theta(x)=\\theta_0+\\theta_1x_1+\\theta_2x_2+...$$\n",
    "\n",
    "$$h_\\theta(x)=\\sum_{i=0}^{m}{\\theta_ix_i}=\\theta^Tx$$\n",
    "\n",
    "再将$h_\\theta(x)$带入sigmoid函数里,就可以完成有预测值到概率的转换，即完成分类任务\n",
    "\n",
    "新的预测函数$h_\\theta(x)$为：\n",
    "\n",
    "$$h_\\theta(x)=g(\\theta^Tx)=\\frac{1}{1+e^{-\\theta^Tx}}$$\n",
    "\n",
    "\n",
    "这是一个二分类任务，所以概率可以表示为：\n",
    "\n",
    "$$ p(y=1|x;\\theta) = h_\\theta(x)$$\n",
    "\n",
    "$$p(y=0|x;\\theta)=1-h_\\theta(x)$$ \n",
    "\n",
    "上面两个式子整合在一起，可以得到\n",
    "\n",
    "$$p(y|x;\\theta)=(h_\\theta(x))^y(1-h_\\theta(x))^{1-y}$$\n",
    "\n",
    "得到似然函数\n",
    "\n",
    "$$L(\\theta)=\\prod_{i=1}^{m}{p(y_i|x;\\theta)}=\\prod_{i=1}^{m}{(h_\\theta(x))^{y_i}(1-h_\\theta(x))^{1-y_i}}$$\n",
    "\n",
    "再对数似然得到：\n",
    "\n",
    "$$l(\\theta)=logL(\\theta)=\\sum_{i=1}^{m}{(y_ilogh_\\theta(x_i)+(1-y_i)log(1-h_\\theta(x_i)))}$$\n",
    "\n",
    "\n",
    "根据极大似然估计，要求最大值，相当于梯度上升，但是要用梯度下降来解决问题，所以引入$J(\\theta)$\n",
    "\n",
    "$$J(\\theta) = -\\frac{1}{m}l(\\theta)$$\n",
    "\n",
    "引入正则化参数，使用L2正则化：\n",
    "\n",
    "$$J(\\theta) = -\\frac{1}{m}l(\\theta)+\\frac{\\lambda}{2m}\\sum_{j=1}^{n}{\\theta_{j}^2}$$\n",
    "\n",
    "即：\n",
    "\n",
    "$$J(\\theta) = -\\frac{1}{m}\\sum_{i=1}^{m}{(y_ilogh_\\theta(x_i)+(1-y_i)log(1-h_\\theta(x_i)))}+\\frac{\\lambda}{2m}\\sum_{j=1}^{n}{\\theta_{j}^2}$$\n",
    "\n",
    "然后在$J(\\theta)$中对$\\theta$求偏导，结果为：\n",
    "\n",
    "未引入正则化参数时：\n",
    "\n",
    "$$\\frac{\\partial J(\\theta)}{\\partial\\theta_j} = \\frac{1}{m}\\sum_{i=1}^{m}(h_\\theta(x_i)-y_i)x_i^j$$\n",
    "\n",
    "引入正则化参数$\\lambda$后：\n",
    "\n",
    "$$\\frac{\\partial J(\\theta)}{\\partial\\theta_j} = (\\frac{1}{m}\\sum_{i=1}^{m}(h_\\theta(x_i)-y_i)x_i^j)+\\frac{\\lambda}{m}\\theta_j$$\n",
    "\n",
    "$x_i^j$  :其中i表示第i个样本，j表示该样本的第j个特征\n",
    "\n",
    "\n",
    "最后就可以进行参数更新了\n",
    "\n",
    "未引入正则化参数时：\n",
    "\n",
    "$$\\theta_j=\\theta_j-\\alpha\\frac{1}{m}\\sum_{i=1}^{m}(h_\\theta(x_i)-y_i)x_i^j$$\n",
    "\n",
    "引入正则化参数$\\lambda$后：\n",
    "\n",
    "$$\\theta_j=\\theta_j-\\alpha\\frac{1}{m}\\sum_{i=1}^{m}((h_\\theta(x_i)-y_i)x_i^j+\\frac{\\lambda}{m}\\theta_j)$$\n",
    "\n",
    "式子中$\\alpha$表示学习率或步长\n",
    "\n",
    "$\\frac{1}{m}\\sum_{i=1}^{m}(h_\\theta(x_i)-y_i)x_i^j$表示更新的方向\n",
    "\n",
    "步长* 方向=更新的值\n",
    "\n"
   ]
  },
  {
   "cell_type": "markdown",
   "metadata": {},
   "source": [
    "### 要完成的模块\n",
    "\n",
    "0.数据切分:分为测试集（3000）和验证集（1000）\n",
    "\n",
    "1.sigmoid：映射到概率的函数\n",
    "\n",
    "2.model：返回预测结果\n",
    "\n",
    "3.cost：根据参数计算损失\n",
    "\n",
    "4.gradient：计算每个参数的梯度方向\n",
    "\n",
    "5.descent：进行参数更新\n",
    "\n",
    "6.accuracy：计算精度"
   ]
  },
  {
   "cell_type": "code",
   "execution_count": 12,
   "metadata": {},
   "outputs": [],
   "source": [
    "import numpy as np\n",
    "import pandas as pd\n",
    "import matplotlib.pyplot as plt\n",
    "import seaborn as sns\n",
    "import matplotlib as mpl\n",
    "%matplotlib inline"
   ]
  },
  {
   "cell_type": "code",
   "execution_count": 13,
   "metadata": {
    "scrolled": false
   },
   "outputs": [
    {
     "data": {
      "text/html": [
       "<div>\n",
       "<style scoped>\n",
       "    .dataframe tbody tr th:only-of-type {\n",
       "        vertical-align: middle;\n",
       "    }\n",
       "\n",
       "    .dataframe tbody tr th {\n",
       "        vertical-align: top;\n",
       "    }\n",
       "\n",
       "    .dataframe thead th {\n",
       "        text-align: right;\n",
       "    }\n",
       "</style>\n",
       "<table border=\"1\" class=\"dataframe\">\n",
       "  <thead>\n",
       "    <tr style=\"text-align: right;\">\n",
       "      <th></th>\n",
       "      <th>0</th>\n",
       "      <th>1</th>\n",
       "      <th>2</th>\n",
       "      <th>3</th>\n",
       "      <th>4</th>\n",
       "      <th>5</th>\n",
       "      <th>6</th>\n",
       "      <th>7</th>\n",
       "      <th>8</th>\n",
       "      <th>9</th>\n",
       "      <th>...</th>\n",
       "      <th>49</th>\n",
       "      <th>50</th>\n",
       "      <th>51</th>\n",
       "      <th>52</th>\n",
       "      <th>53</th>\n",
       "      <th>54</th>\n",
       "      <th>55</th>\n",
       "      <th>56</th>\n",
       "      <th>57</th>\n",
       "      <th>58</th>\n",
       "    </tr>\n",
       "  </thead>\n",
       "  <tbody>\n",
       "    <tr>\n",
       "      <th>0</th>\n",
       "      <td>1</td>\n",
       "      <td>0.0</td>\n",
       "      <td>0.00</td>\n",
       "      <td>1.13</td>\n",
       "      <td>0.0</td>\n",
       "      <td>0.37</td>\n",
       "      <td>0.00</td>\n",
       "      <td>0.00</td>\n",
       "      <td>0.0</td>\n",
       "      <td>0.00</td>\n",
       "      <td>...</td>\n",
       "      <td>0.0</td>\n",
       "      <td>0.145</td>\n",
       "      <td>0.000</td>\n",
       "      <td>0.436</td>\n",
       "      <td>0.000</td>\n",
       "      <td>0.0</td>\n",
       "      <td>1.792</td>\n",
       "      <td>55</td>\n",
       "      <td>147</td>\n",
       "      <td>0</td>\n",
       "    </tr>\n",
       "    <tr>\n",
       "      <th>1</th>\n",
       "      <td>2</td>\n",
       "      <td>0.0</td>\n",
       "      <td>0.00</td>\n",
       "      <td>0.60</td>\n",
       "      <td>0.0</td>\n",
       "      <td>0.00</td>\n",
       "      <td>0.60</td>\n",
       "      <td>0.00</td>\n",
       "      <td>0.0</td>\n",
       "      <td>0.60</td>\n",
       "      <td>...</td>\n",
       "      <td>0.0</td>\n",
       "      <td>0.143</td>\n",
       "      <td>0.047</td>\n",
       "      <td>0.191</td>\n",
       "      <td>0.143</td>\n",
       "      <td>0.0</td>\n",
       "      <td>2.041</td>\n",
       "      <td>31</td>\n",
       "      <td>196</td>\n",
       "      <td>1</td>\n",
       "    </tr>\n",
       "    <tr>\n",
       "      <th>2</th>\n",
       "      <td>3</td>\n",
       "      <td>0.0</td>\n",
       "      <td>0.00</td>\n",
       "      <td>0.48</td>\n",
       "      <td>0.0</td>\n",
       "      <td>0.00</td>\n",
       "      <td>0.00</td>\n",
       "      <td>0.00</td>\n",
       "      <td>0.0</td>\n",
       "      <td>0.00</td>\n",
       "      <td>...</td>\n",
       "      <td>0.0</td>\n",
       "      <td>0.000</td>\n",
       "      <td>0.000</td>\n",
       "      <td>0.450</td>\n",
       "      <td>0.000</td>\n",
       "      <td>0.0</td>\n",
       "      <td>1.138</td>\n",
       "      <td>4</td>\n",
       "      <td>41</td>\n",
       "      <td>0</td>\n",
       "    </tr>\n",
       "    <tr>\n",
       "      <th>3</th>\n",
       "      <td>4</td>\n",
       "      <td>0.0</td>\n",
       "      <td>0.51</td>\n",
       "      <td>0.00</td>\n",
       "      <td>0.0</td>\n",
       "      <td>0.51</td>\n",
       "      <td>0.51</td>\n",
       "      <td>1.02</td>\n",
       "      <td>0.0</td>\n",
       "      <td>0.00</td>\n",
       "      <td>...</td>\n",
       "      <td>0.0</td>\n",
       "      <td>0.142</td>\n",
       "      <td>0.000</td>\n",
       "      <td>0.071</td>\n",
       "      <td>1.212</td>\n",
       "      <td>0.0</td>\n",
       "      <td>7.025</td>\n",
       "      <td>130</td>\n",
       "      <td>281</td>\n",
       "      <td>1</td>\n",
       "    </tr>\n",
       "    <tr>\n",
       "      <th>4</th>\n",
       "      <td>5</td>\n",
       "      <td>0.0</td>\n",
       "      <td>0.00</td>\n",
       "      <td>0.00</td>\n",
       "      <td>0.0</td>\n",
       "      <td>0.00</td>\n",
       "      <td>0.00</td>\n",
       "      <td>0.00</td>\n",
       "      <td>0.0</td>\n",
       "      <td>0.64</td>\n",
       "      <td>...</td>\n",
       "      <td>0.0</td>\n",
       "      <td>0.116</td>\n",
       "      <td>0.000</td>\n",
       "      <td>0.232</td>\n",
       "      <td>0.000</td>\n",
       "      <td>0.0</td>\n",
       "      <td>1.551</td>\n",
       "      <td>6</td>\n",
       "      <td>45</td>\n",
       "      <td>0</td>\n",
       "    </tr>\n",
       "  </tbody>\n",
       "</table>\n",
       "<p>5 rows × 59 columns</p>\n",
       "</div>"
      ],
      "text/plain": [
       "   0    1     2     3    4     5     6     7    8     9   ...   49     50  \\\n",
       "0   1  0.0  0.00  1.13  0.0  0.37  0.00  0.00  0.0  0.00  ...  0.0  0.145   \n",
       "1   2  0.0  0.00  0.60  0.0  0.00  0.60  0.00  0.0  0.60  ...  0.0  0.143   \n",
       "2   3  0.0  0.00  0.48  0.0  0.00  0.00  0.00  0.0  0.00  ...  0.0  0.000   \n",
       "3   4  0.0  0.51  0.00  0.0  0.51  0.51  1.02  0.0  0.00  ...  0.0  0.142   \n",
       "4   5  0.0  0.00  0.00  0.0  0.00  0.00  0.00  0.0  0.64  ...  0.0  0.116   \n",
       "\n",
       "      51     52     53   54     55   56   57  58  \n",
       "0  0.000  0.436  0.000  0.0  1.792   55  147   0  \n",
       "1  0.047  0.191  0.143  0.0  2.041   31  196   1  \n",
       "2  0.000  0.450  0.000  0.0  1.138    4   41   0  \n",
       "3  0.000  0.071  1.212  0.0  7.025  130  281   1  \n",
       "4  0.000  0.232  0.000  0.0  1.551    6   45   0  \n",
       "\n",
       "[5 rows x 59 columns]"
      ]
     },
     "execution_count": 13,
     "metadata": {},
     "output_type": "execute_result"
    }
   ],
   "source": [
    "import os\n",
    "path = 'income.csv'\n",
    "data = pd.read_csv(path, header = None)\n",
    "\n",
    "data.head()"
   ]
  },
  {
   "cell_type": "code",
   "execution_count": 14,
   "metadata": {},
   "outputs": [
    {
     "data": {
      "text/plain": [
       "(4000, 59)"
      ]
     },
     "execution_count": 14,
     "metadata": {},
     "output_type": "execute_result"
    }
   ],
   "source": [
    "data.shape"
   ]
  },
  {
   "cell_type": "markdown",
   "metadata": {},
   "source": [
    "因为这个数据中ID没啥用，所以为了方便处理，将ID那一列置为1，作为第一个特征，方便确定$\\theta_0$"
   ]
  },
  {
   "cell_type": "code",
   "execution_count": 15,
   "metadata": {
    "scrolled": true
   },
   "outputs": [
    {
     "data": {
      "text/html": [
       "<div>\n",
       "<style scoped>\n",
       "    .dataframe tbody tr th:only-of-type {\n",
       "        vertical-align: middle;\n",
       "    }\n",
       "\n",
       "    .dataframe tbody tr th {\n",
       "        vertical-align: top;\n",
       "    }\n",
       "\n",
       "    .dataframe thead th {\n",
       "        text-align: right;\n",
       "    }\n",
       "</style>\n",
       "<table border=\"1\" class=\"dataframe\">\n",
       "  <thead>\n",
       "    <tr style=\"text-align: right;\">\n",
       "      <th></th>\n",
       "      <th>0</th>\n",
       "      <th>1</th>\n",
       "      <th>2</th>\n",
       "      <th>3</th>\n",
       "      <th>4</th>\n",
       "      <th>5</th>\n",
       "      <th>6</th>\n",
       "      <th>7</th>\n",
       "      <th>8</th>\n",
       "      <th>9</th>\n",
       "      <th>...</th>\n",
       "      <th>49</th>\n",
       "      <th>50</th>\n",
       "      <th>51</th>\n",
       "      <th>52</th>\n",
       "      <th>53</th>\n",
       "      <th>54</th>\n",
       "      <th>55</th>\n",
       "      <th>56</th>\n",
       "      <th>57</th>\n",
       "      <th>58</th>\n",
       "    </tr>\n",
       "  </thead>\n",
       "  <tbody>\n",
       "    <tr>\n",
       "      <th>0</th>\n",
       "      <td>1.0</td>\n",
       "      <td>0.0</td>\n",
       "      <td>0.00</td>\n",
       "      <td>1.13</td>\n",
       "      <td>0.0</td>\n",
       "      <td>0.37</td>\n",
       "      <td>0.00</td>\n",
       "      <td>0.00</td>\n",
       "      <td>0.0</td>\n",
       "      <td>0.00</td>\n",
       "      <td>...</td>\n",
       "      <td>0.0</td>\n",
       "      <td>0.145</td>\n",
       "      <td>0.000</td>\n",
       "      <td>0.436</td>\n",
       "      <td>0.000</td>\n",
       "      <td>0.0</td>\n",
       "      <td>1.792</td>\n",
       "      <td>55</td>\n",
       "      <td>147</td>\n",
       "      <td>0</td>\n",
       "    </tr>\n",
       "    <tr>\n",
       "      <th>1</th>\n",
       "      <td>1.0</td>\n",
       "      <td>0.0</td>\n",
       "      <td>0.00</td>\n",
       "      <td>0.60</td>\n",
       "      <td>0.0</td>\n",
       "      <td>0.00</td>\n",
       "      <td>0.60</td>\n",
       "      <td>0.00</td>\n",
       "      <td>0.0</td>\n",
       "      <td>0.60</td>\n",
       "      <td>...</td>\n",
       "      <td>0.0</td>\n",
       "      <td>0.143</td>\n",
       "      <td>0.047</td>\n",
       "      <td>0.191</td>\n",
       "      <td>0.143</td>\n",
       "      <td>0.0</td>\n",
       "      <td>2.041</td>\n",
       "      <td>31</td>\n",
       "      <td>196</td>\n",
       "      <td>1</td>\n",
       "    </tr>\n",
       "    <tr>\n",
       "      <th>2</th>\n",
       "      <td>1.0</td>\n",
       "      <td>0.0</td>\n",
       "      <td>0.00</td>\n",
       "      <td>0.48</td>\n",
       "      <td>0.0</td>\n",
       "      <td>0.00</td>\n",
       "      <td>0.00</td>\n",
       "      <td>0.00</td>\n",
       "      <td>0.0</td>\n",
       "      <td>0.00</td>\n",
       "      <td>...</td>\n",
       "      <td>0.0</td>\n",
       "      <td>0.000</td>\n",
       "      <td>0.000</td>\n",
       "      <td>0.450</td>\n",
       "      <td>0.000</td>\n",
       "      <td>0.0</td>\n",
       "      <td>1.138</td>\n",
       "      <td>4</td>\n",
       "      <td>41</td>\n",
       "      <td>0</td>\n",
       "    </tr>\n",
       "    <tr>\n",
       "      <th>3</th>\n",
       "      <td>1.0</td>\n",
       "      <td>0.0</td>\n",
       "      <td>0.51</td>\n",
       "      <td>0.00</td>\n",
       "      <td>0.0</td>\n",
       "      <td>0.51</td>\n",
       "      <td>0.51</td>\n",
       "      <td>1.02</td>\n",
       "      <td>0.0</td>\n",
       "      <td>0.00</td>\n",
       "      <td>...</td>\n",
       "      <td>0.0</td>\n",
       "      <td>0.142</td>\n",
       "      <td>0.000</td>\n",
       "      <td>0.071</td>\n",
       "      <td>1.212</td>\n",
       "      <td>0.0</td>\n",
       "      <td>7.025</td>\n",
       "      <td>130</td>\n",
       "      <td>281</td>\n",
       "      <td>1</td>\n",
       "    </tr>\n",
       "    <tr>\n",
       "      <th>4</th>\n",
       "      <td>1.0</td>\n",
       "      <td>0.0</td>\n",
       "      <td>0.00</td>\n",
       "      <td>0.00</td>\n",
       "      <td>0.0</td>\n",
       "      <td>0.00</td>\n",
       "      <td>0.00</td>\n",
       "      <td>0.00</td>\n",
       "      <td>0.0</td>\n",
       "      <td>0.64</td>\n",
       "      <td>...</td>\n",
       "      <td>0.0</td>\n",
       "      <td>0.116</td>\n",
       "      <td>0.000</td>\n",
       "      <td>0.232</td>\n",
       "      <td>0.000</td>\n",
       "      <td>0.0</td>\n",
       "      <td>1.551</td>\n",
       "      <td>6</td>\n",
       "      <td>45</td>\n",
       "      <td>0</td>\n",
       "    </tr>\n",
       "  </tbody>\n",
       "</table>\n",
       "<p>5 rows × 59 columns</p>\n",
       "</div>"
      ],
      "text/plain": [
       "    0    1     2     3    4     5     6     7    8     9   ...   49     50  \\\n",
       "0  1.0  0.0  0.00  1.13  0.0  0.37  0.00  0.00  0.0  0.00  ...  0.0  0.145   \n",
       "1  1.0  0.0  0.00  0.60  0.0  0.00  0.60  0.00  0.0  0.60  ...  0.0  0.143   \n",
       "2  1.0  0.0  0.00  0.48  0.0  0.00  0.00  0.00  0.0  0.00  ...  0.0  0.000   \n",
       "3  1.0  0.0  0.51  0.00  0.0  0.51  0.51  1.02  0.0  0.00  ...  0.0  0.142   \n",
       "4  1.0  0.0  0.00  0.00  0.0  0.00  0.00  0.00  0.0  0.64  ...  0.0  0.116   \n",
       "\n",
       "      51     52     53   54     55   56   57  58  \n",
       "0  0.000  0.436  0.000  0.0  1.792   55  147   0  \n",
       "1  0.047  0.191  0.143  0.0  2.041   31  196   1  \n",
       "2  0.000  0.450  0.000  0.0  1.138    4   41   0  \n",
       "3  0.000  0.071  1.212  0.0  7.025  130  281   1  \n",
       "4  0.000  0.232  0.000  0.0  1.551    6   45   0  \n",
       "\n",
       "[5 rows x 59 columns]"
      ]
     },
     "execution_count": 15,
     "metadata": {},
     "output_type": "execute_result"
    }
   ],
   "source": [
    "data[[0]] = data[[0]] / data[[0]]\n",
    "data.head()"
   ]
  },
  {
   "cell_type": "code",
   "execution_count": 16,
   "metadata": {},
   "outputs": [
    {
     "data": {
      "text/plain": [
       "Text(0, 0.5, 'Frequency')"
      ]
     },
     "execution_count": 16,
     "metadata": {},
     "output_type": "execute_result"
    },
    {
     "data": {
      "image/png": "[encoded data removed]",
      "text/plain": [
       "<Figure size 432x288 with 1 Axes>"
      ]
     },
     "metadata": {
      "needs_background": "light"
     },
     "output_type": "display_data"
    }
   ],
   "source": [
    "count_classes = pd.value_counts(data[58], sort = True).sort_index()\n",
    "count_classes.plot(kind = 'bar')# kind = 'bar',表示画条形图\n",
    "plt.title(\"income > 50k\")\n",
    "plt.xlabel(\"F or T\")\n",
    "plt.ylabel(\"Frequency\")"
   ]
  },
  {
   "cell_type": "markdown",
   "metadata": {},
   "source": [
    "可以发现样本中收入大于60k和小于的差距不是特别悬殊，故暂时不对样本进行均衡处理\n",
    "\n",
    "均衡处理方案：下采样（同样少）、过采样（同样多）"
   ]
  },
  {
   "cell_type": "markdown",
   "metadata": {},
   "source": [
    "#### 0.数据切分\n",
    "\n",
    "利用sklearn中的train_test_split函数"
   ]
  },
  {
   "cell_type": "code",
   "execution_count": 17,
   "metadata": {
    "scrolled": true
   },
   "outputs": [
    {
     "name": "stdout",
     "output_type": "stream",
     "text": [
      "Number transactions train dataset:  3000\n",
      "Number transactions test dataset:  1000\n",
      "Total number of transactions:  4000\n"
     ]
    }
   ],
   "source": [
    "Data = data.values \n",
    "cols = Data.shape[1]\n",
    "X = Data[:,0:cols-1] # 特征\n",
    "y = Data[:,cols-1:cols]  # class\n",
    "\n",
    "from sklearn.model_selection import train_test_split\n",
    "\n",
    "X_train, X_test, y_train, y_test = train_test_split(X, y, test_size = 0.25, random_state = 0)\n",
    "\n",
    "print(\"Number transactions train dataset: \", len(X_train))\n",
    "print(\"Number transactions test dataset: \", len(X_test))\n",
    "print(\"Total number of transactions: \", len(X_train)+len(X_test))"
   ]
  },
  {
   "cell_type": "code",
   "execution_count": 18,
   "metadata": {
    "scrolled": true
   },
   "outputs": [
    {
     "data": {
      "text/plain": [
       "array([[1.000e+00, 0.000e+00, 0.000e+00, 0.000e+00, 0.000e+00, 0.000e+00,\n",
       "        0.000e+00, 0.000e+00, 5.880e+00, 0.000e+00, 0.000e+00, 0.000e+00,\n",
       "        0.000e+00, 0.000e+00, 0.000e+00, 0.000e+00, 0.000e+00, 0.000e+00,\n",
       "        0.000e+00, 0.000e+00, 0.000e+00, 0.000e+00, 0.000e+00, 0.000e+00,\n",
       "        0.000e+00, 0.000e+00, 0.000e+00, 0.000e+00, 0.000e+00, 0.000e+00,\n",
       "        0.000e+00, 0.000e+00, 0.000e+00, 0.000e+00, 0.000e+00, 0.000e+00,\n",
       "        0.000e+00, 0.000e+00, 0.000e+00, 0.000e+00, 0.000e+00, 0.000e+00,\n",
       "        0.000e+00, 0.000e+00, 0.000e+00, 0.000e+00, 0.000e+00, 0.000e+00,\n",
       "        0.000e+00, 0.000e+00, 0.000e+00, 0.000e+00, 0.000e+00, 0.000e+00,\n",
       "        0.000e+00, 1.000e+00, 1.000e+00, 1.000e+01],\n",
       "       [1.000e+00, 0.000e+00, 0.000e+00, 0.000e+00, 0.000e+00, 0.000e+00,\n",
       "        0.000e+00, 0.000e+00, 0.000e+00, 0.000e+00, 0.000e+00, 0.000e+00,\n",
       "        1.470e+00, 0.000e+00, 0.000e+00, 0.000e+00, 0.000e+00, 0.000e+00,\n",
       "        0.000e+00, 2.200e+00, 0.000e+00, 7.300e-01, 0.000e+00, 0.000e+00,\n",
       "        0.000e+00, 7.300e-01, 7.300e-01, 0.000e+00, 0.000e+00, 0.000e+00,\n",
       "        0.000e+00, 0.000e+00, 0.000e+00, 0.000e+00, 0.000e+00, 0.000e+00,\n",
       "        0.000e+00, 0.000e+00, 0.000e+00, 0.000e+00, 0.000e+00, 0.000e+00,\n",
       "        0.000e+00, 0.000e+00, 0.000e+00, 0.000e+00, 0.000e+00, 0.000e+00,\n",
       "        0.000e+00, 0.000e+00, 0.000e+00, 0.000e+00, 1.110e-01, 2.230e-01,\n",
       "        0.000e+00, 1.760e+00, 6.000e+00, 8.800e+01],\n",
       "       [1.000e+00, 0.000e+00, 0.000e+00, 0.000e+00, 0.000e+00, 0.000e+00,\n",
       "        1.120e+00, 0.000e+00, 0.000e+00, 0.000e+00, 0.000e+00, 0.000e+00,\n",
       "        0.000e+00, 0.000e+00, 0.000e+00, 0.000e+00, 0.000e+00, 0.000e+00,\n",
       "        0.000e+00, 2.240e+00, 0.000e+00, 0.000e+00, 0.000e+00, 0.000e+00,\n",
       "        0.000e+00, 0.000e+00, 0.000e+00, 0.000e+00, 0.000e+00, 0.000e+00,\n",
       "        0.000e+00, 0.000e+00, 0.000e+00, 0.000e+00, 0.000e+00, 0.000e+00,\n",
       "        0.000e+00, 0.000e+00, 0.000e+00, 0.000e+00, 0.000e+00, 0.000e+00,\n",
       "        0.000e+00, 0.000e+00, 0.000e+00, 0.000e+00, 0.000e+00, 0.000e+00,\n",
       "        0.000e+00, 0.000e+00, 3.920e-01, 0.000e+00, 3.333e+00, 0.000e+00,\n",
       "        0.000e+00, 2.551e+00, 1.200e+01, 7.400e+01],\n",
       "       [1.000e+00, 0.000e+00, 0.000e+00, 1.330e+00, 0.000e+00, 1.780e+00,\n",
       "        4.400e-01, 0.000e+00, 4.400e-01, 0.000e+00, 0.000e+00, 0.000e+00,\n",
       "        0.000e+00, 0.000e+00, 0.000e+00, 0.000e+00, 0.000e+00, 0.000e+00,\n",
       "        0.000e+00, 4.460e+00, 8.900e-01, 8.900e-01, 0.000e+00, 4.400e-01,\n",
       "        0.000e+00, 0.000e+00, 0.000e+00, 0.000e+00, 0.000e+00, 0.000e+00,\n",
       "        0.000e+00, 0.000e+00, 0.000e+00, 0.000e+00, 0.000e+00, 0.000e+00,\n",
       "        0.000e+00, 0.000e+00, 0.000e+00, 0.000e+00, 0.000e+00, 0.000e+00,\n",
       "        0.000e+00, 0.000e+00, 0.000e+00, 4.400e-01, 0.000e+00, 0.000e+00,\n",
       "        0.000e+00, 7.800e-02, 7.800e-02, 0.000e+00, 0.000e+00, 0.000e+00,\n",
       "        0.000e+00, 1.541e+00, 5.000e+00, 3.700e+01],\n",
       "       [1.000e+00, 0.000e+00, 0.000e+00, 0.000e+00, 0.000e+00, 0.000e+00,\n",
       "        0.000e+00, 0.000e+00, 0.000e+00, 0.000e+00, 0.000e+00, 0.000e+00,\n",
       "        4.220e+00, 0.000e+00, 0.000e+00, 0.000e+00, 0.000e+00, 0.000e+00,\n",
       "        0.000e+00, 0.000e+00, 0.000e+00, 1.400e+00, 0.000e+00, 0.000e+00,\n",
       "        0.000e+00, 0.000e+00, 2.810e+00, 0.000e+00, 0.000e+00, 0.000e+00,\n",
       "        0.000e+00, 0.000e+00, 0.000e+00, 0.000e+00, 0.000e+00, 0.000e+00,\n",
       "        0.000e+00, 0.000e+00, 0.000e+00, 0.000e+00, 0.000e+00, 0.000e+00,\n",
       "        2.810e+00, 0.000e+00, 0.000e+00, 0.000e+00, 0.000e+00, 0.000e+00,\n",
       "        0.000e+00, 0.000e+00, 0.000e+00, 0.000e+00, 0.000e+00, 0.000e+00,\n",
       "        0.000e+00, 3.153e+00, 3.800e+01, 8.200e+01]])"
      ]
     },
     "execution_count": 18,
     "metadata": {},
     "output_type": "execute_result"
    }
   ],
   "source": [
    "X_train[:5]"
   ]
  },
  {
   "cell_type": "code",
   "execution_count": 19,
   "metadata": {},
   "outputs": [
    {
     "data": {
      "text/plain": [
       "array([[0.],\n",
       "       [0.],\n",
       "       [1.],\n",
       "       [1.],\n",
       "       [0.]])"
      ]
     },
     "execution_count": 19,
     "metadata": {},
     "output_type": "execute_result"
    }
   ],
   "source": [
    "y_train[:5]"
   ]
  },
  {
   "cell_type": "markdown",
   "metadata": {},
   "source": [
    "将参数$\\theta$初始化"
   ]
  },
  {
   "cell_type": "code",
   "execution_count": 20,
   "metadata": {},
   "outputs": [
    {
     "data": {
      "text/plain": [
       "(1, 58)"
      ]
     },
     "execution_count": 20,
     "metadata": {},
     "output_type": "execute_result"
    }
   ],
   "source": [
    "theta = np.zeros([1,58])\n",
    "theta.shape"
   ]
  },
  {
   "cell_type": "markdown",
   "metadata": {},
   "source": [
    "#### 1.sigmoid函数实现\n",
    "\n",
    "$$g(z)=\\frac{1}{1+e^ {-z}} $$"
   ]
  },
  {
   "cell_type": "code",
   "execution_count": 21,
   "metadata": {},
   "outputs": [],
   "source": [
    "def sigmoid(z):\n",
    "    return 1. / (1 + np.exp(-z))"
   ]
  },
  {
   "cell_type": "code",
   "execution_count": 22,
   "metadata": {},
   "outputs": [
    {
     "data": {
      "text/plain": [
       "[<matplotlib.lines.Line2D at 0x247f70f7248>]"
      ]
     },
     "execution_count": 22,
     "metadata": {},
     "output_type": "execute_result"
    },
    {
     "data": {
      "image/png": "[encoded data removed]",
      "text/plain": [
       "<Figure size 864x288 with 1 Axes>"
      ]
     },
     "metadata": {},
     "output_type": "display_data"
    }
   ],
   "source": [
    "sns.set_style(\"whitegrid\")\n",
    "nums = np.arange(-10, 10, step = 1)\n",
    "fig, ax = plt.subplots(figsize=(12, 4))\n",
    "ax.plot(nums, sigmoid(nums), 'r')"
   ]
  },
  {
   "cell_type": "markdown",
   "metadata": {},
   "source": [
    "#### 2.model(预测函数)实现\n",
    "\n",
    "$$ h_\\theta(x)=g(\\theta^Tx)=\\frac{1}{1+e^{-\\theta^Tx}}$$"
   ]
  },
  {
   "cell_type": "code",
   "execution_count": 23,
   "metadata": {},
   "outputs": [],
   "source": [
    "def model(X, theta):\n",
    "    return sigmoid(np.dot(X,theta.T))"
   ]
  },
  {
   "cell_type": "markdown",
   "metadata": {},
   "source": [
    "#### 3.损失函数\n",
    "\n",
    "将对数似然函数去掉负号\n",
    "\n",
    "$$Cost(h_\\theta(x),y) = -y\\log(h_\\theta(x))-(1-y)\\log(1-h_\\theta(x))$$\n",
    "\n",
    "另外引入正则化参数后，损失函数变为，使用L2正则化：\n",
    "\n",
    "求平均损失：\n",
    "\n",
    "$$J(\\theta)=\\frac{1}{m}\\sum_{i=1}^{m}{Cost(h_\\theta(x_i),y_i)}$$\n",
    "\n",
    "另外引入正则化参数后，损失函数变为，使用L2正则化：\n",
    "\n",
    "$$J(\\theta) = -\\frac{1}{m}\\sum_{i=1}^{m}{(y_ilogh_\\theta(x_i)+(1-y_i)log(1-h_\\theta(x_i)))}+\\frac{\\lambda}{2m}\\sum_{j=1}^{n}{\\theta_{j}^2}$$\n",
    "\n",
    "\n",
    "\n",
    "$$model(X,theta) = h_\\theta(x)$$"
   ]
  },
  {
   "cell_type": "code",
   "execution_count": 58,
   "metadata": {},
   "outputs": [],
   "source": [
    "def cost(X, y, theta):\n",
    "    left = np.multiply(-y, np.log(model(X, theta)+0.000000001))\n",
    "    right = np.multiply(1-y, np.log(1-model(X, theta)+0.000000001))\n",
    "    return (np.sum(left - right) / len(X))"
   ]
  },
  {
   "cell_type": "code",
   "execution_count": 59,
   "metadata": {},
   "outputs": [
    {
     "data": {
      "text/plain": [
       "0.6931471785599455"
      ]
     },
     "execution_count": 59,
     "metadata": {},
     "output_type": "execute_result"
    }
   ],
   "source": [
    "cost(X_train,y_train,theta)"
   ]
  },
  {
   "cell_type": "markdown",
   "metadata": {},
   "source": [
    "#### 4.计算梯度\n",
    "\n",
    "$$\\frac{\\partial J}{\\partial\\theta_j} = -\\frac{1}{m}\\sum_{i=1}^{m}(y_i-\n",
    "h_\\theta(x_i))x_i^j$$\n",
    "\n",
    "引入正则化后：\n",
    "\n",
    "$$\\frac{\\partial J(\\theta)}{\\partial\\theta_j} = (\\frac{1}{m}\\sum_{i=1}^{m}(h_\\theta(x_i)-y_i)x_i^j)+\\frac{\\lambda}{m}\\theta_j$$"
   ]
  },
  {
   "cell_type": "code",
   "execution_count": 60,
   "metadata": {},
   "outputs": [],
   "source": [
    "def gradient(X, y, theta):\n",
    "    grad = np.zeros(theta.shape)\n",
    "    error = (model(X, theta)-y).ravel()\n",
    "    for j in range(len(theta.ravel())):\n",
    "        term = np.multiply(error, X[:,j])\n",
    "        grad[0, j] = np.sum(term) / len(X)\n",
    "        \n",
    "    return grad"
   ]
  },
  {
   "cell_type": "markdown",
   "metadata": {},
   "source": [
    "#### 几种停止策略"
   ]
  },
  {
   "cell_type": "code",
   "execution_count": 73,
   "metadata": {},
   "outputs": [],
   "source": [
    "STOP_ITER = 0 # 以迭代次数为准\n",
    "STOP_COST = 1 # 以损失值为准\n",
    "STOP_GRAD = 2 # 以梯度为准\n",
    "# 上面是三种梯度下降停止策略\n",
    "def stopCriterion(type, value, threshold):\n",
    "    if type == STOP_ITER:\n",
    "        return value > threshold\n",
    "    elif type == STOP_COST:\n",
    "        return abs(value[-1]-value[-2]) < threshold\n",
    "    elif type == STOP_GRAD:\n",
    "        return np.linalg.norm(value) < threshold"
   ]
  },
  {
   "cell_type": "markdown",
   "metadata": {},
   "source": [
    "#### 梯度下降求解"
   ]
  },
  {
   "cell_type": "code",
   "execution_count": 74,
   "metadata": {},
   "outputs": [],
   "source": [
    "import time\n",
    "# 梯度下降求解\n",
    "def descent(X, y, theta, batchSize, stopType, thresh, alpha):\n",
    "    init_time = time.time()\n",
    "    i = 0  # 迭代次数\n",
    "    k = 0  # batch\n",
    "    grad = np.zeros(theta.shape)  # 计算的梯度\n",
    "    costs = [cost(X, y, theta)]  # 损失值\n",
    "    while True:\n",
    "        grad = gradient(X[k:k+batchSize], y[k:k+batchSize], theta)\n",
    "        k += batchSize  # 取batchSize个数据\n",
    "        if k >= n:      # n是训练样本个数\n",
    "            k = 0\n",
    "        theta = theta - alpha*grad  # 参数更新\n",
    "        costs.append(cost(X, y, theta))  # 计算新的损失\n",
    "        i += 1\n",
    "        \n",
    "        if stopType == STOP_ITER:\n",
    "            value = i\n",
    "        elif stopType == STOP_COST:\n",
    "            value = costs\n",
    "        elif stopType == STOP_GRAD:\n",
    "            value = grad\n",
    "        if stopCriterion(stopType, value, thresh):\n",
    "            break\n",
    "        \n",
    "    return theta, i-1, costs, grad, time.time() - init_time"
   ]
  },
  {
   "cell_type": "code",
   "execution_count": 75,
   "metadata": {},
   "outputs": [],
   "source": [
    "def runExpe(X, y, theta, batchSize, stopType, thresh, alpha):\n",
    "    theta, iter, costs, grad, dur = descent(X, y, theta, batchSize, stopType, thresh, alpha)  \n",
    "    print(\"theta:{}\".format(theta))\n",
    "    print(\"duration:{:03.2f}s\".format(dur))\n",
    "    fig, ax = plt.subplots(figsize=(12,4))\n",
    "    # print(costs)\n",
    "    # print(len(costs))\n",
    "    # print(type(costs))\n",
    "    ax.plot(np.arange(len(costs)), costs, 'r')\n",
    "    ax.set_xlabel('Iteration')\n",
    "    ax.set_ylabel('Cost')\n",
    "    #ax.set_title(name.upper() + ' - Error vs. Iteration')\n",
    "    ax.set_title('loss')\n",
    "    return theta"
   ]
  },
  {
   "cell_type": "markdown",
   "metadata": {},
   "source": [
    "### 不同停止策略对结果的影响\n",
    "\n",
    "#### 1.设定迭代次数\n",
    "\n",
    "#### 2.设定阈值\n",
    "\n",
    "直到损失函数减小的值小于thresh时，停止迭代\n",
    "\n",
    "#### 3.根据梯度变化\n",
    "\n",
    "设定阈值thresh，当梯度变化小于这个值的时候停止迭代"
   ]
  },
  {
   "cell_type": "markdown",
   "metadata": {},
   "source": [
    "### 对比不同的梯度下降方法\n",
    "\n",
    "#### 1.随机梯度下降\n",
    "\n",
    "#### 2.Mini-batch"
   ]
  },
  {
   "cell_type": "code",
   "execution_count": 76,
   "metadata": {},
   "outputs": [],
   "source": [
    "n = 3000"
   ]
  },
  {
   "cell_type": "code",
   "execution_count": 78,
   "metadata": {
    "scrolled": true
   },
   "outputs": [
    {
     "name": "stderr",
     "output_type": "stream",
     "text": [
      "G:\\Anaconda3\\lib\\site-packages\\ipykernel_launcher.py:2: RuntimeWarning: overflow encountered in exp\n",
      "  \n"
     ]
    },
    {
     "name": "stdout",
     "output_type": "stream",
     "text": [
      "theta:[[-1.26435748e+00 -4.80123528e-02 -4.52198694e-01 -1.87689570e-01\n",
      "   8.02068324e-02 -2.39889048e-02  1.57848467e-02  1.09077040e-01\n",
      "   3.14888752e-02  3.51702341e-02 -1.10783629e-01  1.06154370e-02\n",
      "  -7.23519802e-01 -3.39846480e-02 -2.62369336e-02  4.08955860e-02\n",
      "   1.57473452e-01  5.50324388e-02 -6.16943784e-03 -1.03677474e+00\n",
      "   1.37612039e-01 -1.60565563e-01  1.19607082e-01  1.27117551e-01\n",
      "   1.07714749e-01 -1.48800678e+00 -7.11623792e-01 -9.76949286e-01\n",
      "  -3.40220535e-01 -2.64833497e-01 -2.67527675e-01 -1.84043870e-01\n",
      "  -1.09340668e-01 -3.05792240e-01 -1.08547335e-01 -3.16112633e-01\n",
      "  -2.17168762e-01 -3.48698665e-01 -2.72653546e-02 -2.81601483e-01\n",
      "  -1.13853119e-01 -1.56854809e-01 -3.95424474e-01 -1.29640454e-01\n",
      "  -2.01556341e-01 -6.57202275e-01 -5.26881826e-01 -1.04064862e-02\n",
      "  -1.04542289e-01 -6.89214545e-02 -2.41431977e-01 -3.49890097e-02\n",
      "   3.98734526e-02  6.80621591e-02  1.58135282e-03 -2.00033562e+00\n",
      "   2.02351591e+00 -5.01160616e-01]]\n",
      "duration:0.40s\n"
     ]
    },
    {
     "data": {
      "text/plain": [
       "array([[-1.26435748e+00, -4.80123528e-02, -4.52198694e-01,\n",
       "        -1.87689570e-01,  8.02068324e-02, -2.39889048e-02,\n",
       "         1.57848467e-02,  1.09077040e-01,  3.14888752e-02,\n",
       "         3.51702341e-02, -1.10783629e-01,  1.06154370e-02,\n",
       "        -7.23519802e-01, -3.39846480e-02, -2.62369336e-02,\n",
       "         4.08955860e-02,  1.57473452e-01,  5.50324388e-02,\n",
       "        -6.16943784e-03, -1.03677474e+00,  1.37612039e-01,\n",
       "        -1.60565563e-01,  1.19607082e-01,  1.27117551e-01,\n",
       "         1.07714749e-01, -1.48800678e+00, -7.11623792e-01,\n",
       "        -9.76949286e-01, -3.40220535e-01, -2.64833497e-01,\n",
       "        -2.67527675e-01, -1.84043870e-01, -1.09340668e-01,\n",
       "        -3.05792240e-01, -1.08547335e-01, -3.16112633e-01,\n",
       "        -2.17168762e-01, -3.48698665e-01, -2.72653546e-02,\n",
       "        -2.81601483e-01, -1.13853119e-01, -1.56854809e-01,\n",
       "        -3.95424474e-01, -1.29640454e-01, -2.01556341e-01,\n",
       "        -6.57202275e-01, -5.26881826e-01, -1.04064862e-02,\n",
       "        -1.04542289e-01, -6.89214545e-02, -2.41431977e-01,\n",
       "        -3.49890097e-02,  3.98734526e-02,  6.80621591e-02,\n",
       "         1.58135282e-03, -2.00033562e+00,  2.02351591e+00,\n",
       "        -5.01160616e-01]])"
      ]
     },
     "execution_count": 78,
     "metadata": {},
     "output_type": "execute_result"
    },
    {
     "data": {
      "image/png": "[encoded data removed]",
      "text/plain": [
       "<Figure size 864x288 with 1 Axes>"
      ]
     },
     "metadata": {},
     "output_type": "display_data"
    }
   ],
   "source": [
    "runExpe(X_train, y_train, theta, 30, STOP_ITER, thresh=500, alpha=0.01)"
   ]
  },
  {
   "cell_type": "markdown",
   "metadata": {},
   "source": [
    "### 精度预测"
   ]
  },
  {
   "cell_type": "code",
   "execution_count": 83,
   "metadata": {},
   "outputs": [],
   "source": [
    "def predict(X, theta):\n",
    "    # 阈值设定为0.5，概率大于0.5预测值为1，小于0.5则为0\n",
    "    return [1 if x>= 0.5 else 0 for x in model(X, theta)]"
   ]
  },
  {
   "cell_type": "code",
   "execution_count": 84,
   "metadata": {
    "scrolled": false
   },
   "outputs": [],
   "source": [
    "from sklearn.metrics import accuracy_score\n",
    "from sklearn.metrics import classification_report"
   ]
  },
  {
   "cell_type": "code",
   "execution_count": 85,
   "metadata": {
    "scrolled": false
   },
   "outputs": [
    {
     "name": "stdout",
     "output_type": "stream",
     "text": [
      "theta:[[-8.22022940e-04 -1.27616607e-06 -3.06666449e-04 -3.58282621e-05\n",
      "   1.14391668e-04  1.13502281e-04  6.10144282e-05  2.00338780e-04\n",
      "   9.62278262e-05  5.08753935e-05 -2.14376463e-06  3.98046751e-05\n",
      "  -4.45766702e-04  5.19117318e-06 -1.28692132e-05  5.08154213e-05\n",
      "   3.13245851e-04  1.47440871e-04  8.09135045e-05 -2.29571290e-04\n",
      "   1.47333902e-04  3.17073792e-04  1.34635995e-04  1.72654991e-04\n",
      "   1.48396645e-04 -1.34313707e-03 -6.34774384e-04 -2.11400158e-03\n",
      "  -2.72730587e-04 -2.27085453e-04 -2.28562823e-04 -1.50654771e-04\n",
      "  -9.79213566e-05 -2.38054595e-04 -9.69088626e-05 -2.44770539e-04\n",
      "  -1.78503499e-04 -2.81407277e-04 -2.27347207e-05 -2.00758850e-04\n",
      "  -8.53779429e-05 -1.17687697e-04 -3.53717115e-04 -1.07039728e-04\n",
      "  -1.85778759e-04 -5.53387583e-04 -4.41812960e-04 -9.59545083e-06\n",
      "  -7.46012034e-05 -5.51438336e-05 -1.71327126e-04 -2.83057633e-05\n",
      "   1.99427991e-04  1.06695072e-04  3.02097189e-05 -7.52989248e-04\n",
      "   7.04902829e-03 -1.08765376e-04]]\n",
      "duration:34.91s\n"
     ]
    },
    {
     "data": {
      "text/plain": [
       "0.436"
      ]
     },
     "execution_count": 85,
     "metadata": {},
     "output_type": "execute_result"
    },
    {
     "data": {
      "image/png": "[encoded data removed]",
      "text/plain": [
       "<Figure size 864x288 with 1 Axes>"
      ]
     },
     "metadata": {},
     "output_type": "display_data"
    }
   ],
   "source": [
    "theta0 = runExpe(X_train, y_train, theta, 30, STOP_ITER, thresh=50000, alpha=0.0000001)\n",
    "y_pred = predict(X_test, theta0)\n",
    "accuracy_score(y_test, y_pred)"
   ]
  },
  {
   "cell_type": "markdown",
   "metadata": {},
   "source": [
    "### 实验优化\n",
    "\n",
    "### 用数据预处理之后再次进行实验"
   ]
  },
  {
   "cell_type": "markdown",
   "metadata": {},
   "source": [
    "#### 数据预处理\n",
    "\n",
    "利用sklearn的一个函数preprocessing对数据进行预处理，使得生成的数据都在一定范围内波动，可以与没有进行预处理的数据最终的结果进行对比"
   ]
  },
  {
   "cell_type": "code",
   "execution_count": 94,
   "metadata": {},
   "outputs": [
    {
     "data": {
      "text/plain": [
       "array([[ 0.00000000e+00, -3.45874447e-01, -1.65937209e-01,\n",
       "         1.68280718e+00, -4.52716534e-02,  8.56244351e-02,\n",
       "        -3.56975977e-01, -2.82491805e-01, -2.59359944e-01,\n",
       "        -3.34025945e-01, -3.64195110e-01, -2.92460262e-01,\n",
       "        -6.22593873e-01, -3.10915158e-01, -1.74908288e-01,\n",
       "        -1.89925674e-01,  1.82477383e-01, -3.24729292e-01,\n",
       "         3.53615478e-01, -2.90015771e-01, -1.67465564e-01,\n",
       "        -3.61366212e-01, -1.17483863e-01, -2.87188505e-01,\n",
       "        -2.07073366e-01, -3.26222481e-01, -3.00701625e-01,\n",
       "        -2.31931689e-01, -2.26672371e-01, -1.57422194e-01,\n",
       "        -2.24434963e-01, -1.54687899e-01, -1.43011509e-01,\n",
       "        -1.71756713e-01, -1.45370909e-01, -1.88663070e-01,\n",
       "        -2.46906277e-01, -3.22841360e-01, -6.25240738e-02,\n",
       "        -1.80429365e-01, -1.93758795e-01, -1.23533713e-01,\n",
       "        -1.74158913e-01, -2.06057510e-01, -1.26933178e-01,\n",
       "        -3.03661932e-01, -2.01432997e-01, -6.92997491e-02,\n",
       "        -1.18648948e-01, -1.59700804e-01,  3.36701605e-02,\n",
       "        -1.76107611e-01,  2.01019580e-01, -3.02462017e-01,\n",
       "        -1.02645559e-01, -1.03960315e-01,  1.34577045e-02,\n",
       "        -2.38062347e-01, -7.97071500e-01],\n",
       "       [ 0.00000000e+00, -3.45874447e-01, -1.65937209e-01,\n",
       "         6.36490946e-01, -4.52716534e-02, -4.56580613e-01,\n",
       "         1.94220108e+00, -2.82491805e-01, -2.59359944e-01,\n",
       "         1.91486532e+00, -3.64195110e-01, -2.92460262e-01,\n",
       "         1.53392419e+00, -3.10915158e-01, -1.74908288e-01,\n",
       "        -1.89925674e-01,  8.54462814e-02, -3.24729292e-01,\n",
       "        -3.42320624e-01,  6.13372750e-01, -1.67465564e-01,\n",
       "         3.39509729e-01, -1.17483863e-01, -2.87188505e-01,\n",
       "         1.09058207e+00, -3.26222481e-01, -3.00701625e-01,\n",
       "        -2.31931689e-01, -2.26672371e-01, -1.57422194e-01,\n",
       "        -2.24434963e-01, -1.54687899e-01, -1.43011509e-01,\n",
       "        -1.71756713e-01, -1.45370909e-01, -1.88663070e-01,\n",
       "        -2.46906277e-01, -3.22841360e-01, -6.25240738e-02,\n",
       "        -1.80429365e-01, -1.93758795e-01, -1.23533713e-01,\n",
       "        -1.74158913e-01, -2.06057510e-01, -1.26933178e-01,\n",
       "        -3.03661932e-01, -2.01432997e-01, -6.92997491e-02,\n",
       "        -1.18648948e-01, -1.59700804e-01,  2.62185371e-02,\n",
       "         3.27347741e-01, -9.04812683e-02,  2.68143864e-01,\n",
       "        -1.02645559e-01, -9.64482100e-02, -1.04430756e-01,\n",
       "        -1.50550588e-01,  1.25459259e+00],\n",
       "       [ 0.00000000e+00, -3.45874447e-01, -1.65937209e-01,\n",
       "         3.99589157e-01, -4.52716534e-02, -4.56580613e-01,\n",
       "        -3.56975977e-01, -2.82491805e-01, -2.59359944e-01,\n",
       "        -3.34025945e-01, -3.64195110e-01, -2.92460262e-01,\n",
       "        -6.22593873e-01, -3.10915158e-01, -1.74908288e-01,\n",
       "        -1.89925674e-01,  3.34954829e-01, -3.24729292e-01,\n",
       "        -3.42320624e-01,  4.39428376e-01, -1.67465564e-01,\n",
       "         1.39259460e-01, -1.17483863e-01, -2.87188505e-01,\n",
       "         8.31050982e-01, -3.26222481e-01, -3.00701625e-01,\n",
       "        -2.31931689e-01, -2.26672371e-01, -1.57422194e-01,\n",
       "        -2.24434963e-01, -1.54687899e-01, -1.43011509e-01,\n",
       "        -1.71756713e-01, -1.45370909e-01, -1.88663070e-01,\n",
       "        -2.46906277e-01, -3.22841360e-01, -6.25240738e-02,\n",
       "        -1.80429365e-01, -1.93758795e-01, -1.23533713e-01,\n",
       "        -1.74158913e-01, -2.06057510e-01, -1.26933178e-01,\n",
       "         1.85052064e-01, -2.01432997e-01, -6.92997491e-02,\n",
       "        -1.18648948e-01, -1.59700804e-01, -5.06572539e-01,\n",
       "        -1.76107611e-01,  2.17676771e-01, -3.02462017e-01,\n",
       "        -1.02645559e-01, -1.23690904e-01, -2.37055273e-01,\n",
       "        -4.27373500e-01, -7.97071500e-01],\n",
       "       [ 0.00000000e+00, -3.45874447e-01,  2.04053508e-01,\n",
       "        -5.48017999e-01, -4.52716534e-02,  2.90783102e-01,\n",
       "         1.59732452e+00,  2.36010034e+00, -2.59359944e-01,\n",
       "        -3.34025945e-01, -3.64195110e-01, -2.92460262e-01,\n",
       "        -6.22593873e-01, -3.10915158e-01, -1.74908288e-01,\n",
       "        -1.89925674e-01, -3.30401298e-01, -3.24729292e-01,\n",
       "         6.16942652e-01, -6.37904518e-01, -1.67465564e-01,\n",
       "        -2.44553555e-01, -1.17483863e-01,  1.13778729e+00,\n",
       "        -2.07073366e-01, -3.26222481e-01, -3.00701625e-01,\n",
       "        -2.31931689e-01, -2.26672371e-01, -1.57422194e-01,\n",
       "        -2.24434963e-01, -1.54687899e-01, -1.43011509e-01,\n",
       "        -1.71756713e-01, -1.45370909e-01, -1.88663070e-01,\n",
       "        -2.46906277e-01, -3.22841360e-01, -6.25240738e-02,\n",
       "        -1.80429365e-01, -1.93758795e-01, -1.23533713e-01,\n",
       "        -1.74158913e-01, -2.06057510e-01, -1.26933178e-01,\n",
       "        -3.03661932e-01, -2.01432997e-01, -6.92997491e-02,\n",
       "        -1.18648948e-01, -1.59700804e-01,  2.24927254e-02,\n",
       "        -1.76107611e-01, -2.33257194e-01,  4.53372209e+00,\n",
       "        -1.02645559e-01,  5.39145660e-02,  3.81859143e-01,\n",
       "         1.25552586e-03,  1.25459259e+00],\n",
       "       [ 0.00000000e+00, -3.45874447e-01, -1.65937209e-01,\n",
       "        -5.48017999e-01, -4.52716534e-02, -4.56580613e-01,\n",
       "        -3.56975977e-01, -2.82491805e-01, -2.59359944e-01,\n",
       "         2.06479140e+00, -3.64195110e-01, -2.92460262e-01,\n",
       "        -6.22593873e-01, -3.10915158e-01, -1.74908288e-01,\n",
       "        -1.89925674e-01, -3.30401298e-01, -3.24729292e-01,\n",
       "        -3.42320624e-01, -2.00238029e-01, -1.67465564e-01,\n",
       "        -6.70085377e-01, -1.17483863e-01, -2.87188505e-01,\n",
       "        -2.07073366e-01, -3.26222481e-01, -3.00701625e-01,\n",
       "        -2.31931689e-01, -2.26672371e-01, -1.57422194e-01,\n",
       "        -2.24434963e-01, -1.54687899e-01, -1.43011509e-01,\n",
       "        -1.71756713e-01, -1.45370909e-01, -1.88663070e-01,\n",
       "        -2.46906277e-01, -3.22841360e-01, -6.25240738e-02,\n",
       "        -1.80429365e-01, -1.93758795e-01, -1.23533713e-01,\n",
       "        -1.74158913e-01, -2.06057510e-01, -1.26933178e-01,\n",
       "         3.47956729e-01, -2.01432997e-01, -6.92997491e-02,\n",
       "        -1.18648948e-01, -1.59700804e-01, -7.43783794e-02,\n",
       "        -1.76107611e-01, -4.16994938e-02, -3.02462017e-01,\n",
       "        -1.02645559e-01, -1.11231067e-01, -2.27231235e-01,\n",
       "        -4.20229683e-01, -7.97071500e-01]])"
      ]
     },
     "execution_count": 94,
     "metadata": {},
     "output_type": "execute_result"
    }
   ],
   "source": [
    "from sklearn import preprocessing as pp\n",
    "\n",
    "dealed_data = data.copy()\n",
    "dealed_data = pp.scale(data, axis=0)\n",
    "dealed_data[:5]"
   ]
  },
  {
   "cell_type": "markdown",
   "metadata": {},
   "source": [
    "标准化后数据格式变成了ndarray，不方便观察标准化后结果，给变回来变成dataframe"
   ]
  },
  {
   "cell_type": "code",
   "execution_count": 95,
   "metadata": {
    "scrolled": true
   },
   "outputs": [
    {
     "data": {
      "text/html": [
       "<div>\n",
       "<style scoped>\n",
       "    .dataframe tbody tr th:only-of-type {\n",
       "        vertical-align: middle;\n",
       "    }\n",
       "\n",
       "    .dataframe tbody tr th {\n",
       "        vertical-align: top;\n",
       "    }\n",
       "\n",
       "    .dataframe thead th {\n",
       "        text-align: right;\n",
       "    }\n",
       "</style>\n",
       "<table border=\"1\" class=\"dataframe\">\n",
       "  <thead>\n",
       "    <tr style=\"text-align: right;\">\n",
       "      <th></th>\n",
       "      <th>0</th>\n",
       "      <th>1</th>\n",
       "      <th>2</th>\n",
       "      <th>3</th>\n",
       "      <th>4</th>\n",
       "      <th>5</th>\n",
       "      <th>6</th>\n",
       "      <th>7</th>\n",
       "      <th>8</th>\n",
       "      <th>9</th>\n",
       "      <th>...</th>\n",
       "      <th>49</th>\n",
       "      <th>50</th>\n",
       "      <th>51</th>\n",
       "      <th>52</th>\n",
       "      <th>53</th>\n",
       "      <th>54</th>\n",
       "      <th>55</th>\n",
       "      <th>56</th>\n",
       "      <th>57</th>\n",
       "      <th>58</th>\n",
       "    </tr>\n",
       "  </thead>\n",
       "  <tbody>\n",
       "    <tr>\n",
       "      <th>0</th>\n",
       "      <td>0.0</td>\n",
       "      <td>-0.345874</td>\n",
       "      <td>-0.165937</td>\n",
       "      <td>1.682807</td>\n",
       "      <td>-0.045272</td>\n",
       "      <td>0.085624</td>\n",
       "      <td>-0.356976</td>\n",
       "      <td>-0.282492</td>\n",
       "      <td>-0.25936</td>\n",
       "      <td>-0.334026</td>\n",
       "      <td>...</td>\n",
       "      <td>-0.159701</td>\n",
       "      <td>0.033670</td>\n",
       "      <td>-0.176108</td>\n",
       "      <td>0.201020</td>\n",
       "      <td>-0.302462</td>\n",
       "      <td>-0.102646</td>\n",
       "      <td>-0.103960</td>\n",
       "      <td>0.013458</td>\n",
       "      <td>-0.238062</td>\n",
       "      <td>-0.797072</td>\n",
       "    </tr>\n",
       "    <tr>\n",
       "      <th>1</th>\n",
       "      <td>0.0</td>\n",
       "      <td>-0.345874</td>\n",
       "      <td>-0.165937</td>\n",
       "      <td>0.636491</td>\n",
       "      <td>-0.045272</td>\n",
       "      <td>-0.456581</td>\n",
       "      <td>1.942201</td>\n",
       "      <td>-0.282492</td>\n",
       "      <td>-0.25936</td>\n",
       "      <td>1.914865</td>\n",
       "      <td>...</td>\n",
       "      <td>-0.159701</td>\n",
       "      <td>0.026219</td>\n",
       "      <td>0.327348</td>\n",
       "      <td>-0.090481</td>\n",
       "      <td>0.268144</td>\n",
       "      <td>-0.102646</td>\n",
       "      <td>-0.096448</td>\n",
       "      <td>-0.104431</td>\n",
       "      <td>-0.150551</td>\n",
       "      <td>1.254593</td>\n",
       "    </tr>\n",
       "    <tr>\n",
       "      <th>2</th>\n",
       "      <td>0.0</td>\n",
       "      <td>-0.345874</td>\n",
       "      <td>-0.165937</td>\n",
       "      <td>0.399589</td>\n",
       "      <td>-0.045272</td>\n",
       "      <td>-0.456581</td>\n",
       "      <td>-0.356976</td>\n",
       "      <td>-0.282492</td>\n",
       "      <td>-0.25936</td>\n",
       "      <td>-0.334026</td>\n",
       "      <td>...</td>\n",
       "      <td>-0.159701</td>\n",
       "      <td>-0.506573</td>\n",
       "      <td>-0.176108</td>\n",
       "      <td>0.217677</td>\n",
       "      <td>-0.302462</td>\n",
       "      <td>-0.102646</td>\n",
       "      <td>-0.123691</td>\n",
       "      <td>-0.237055</td>\n",
       "      <td>-0.427374</td>\n",
       "      <td>-0.797072</td>\n",
       "    </tr>\n",
       "    <tr>\n",
       "      <th>3</th>\n",
       "      <td>0.0</td>\n",
       "      <td>-0.345874</td>\n",
       "      <td>0.204054</td>\n",
       "      <td>-0.548018</td>\n",
       "      <td>-0.045272</td>\n",
       "      <td>0.290783</td>\n",
       "      <td>1.597325</td>\n",
       "      <td>2.360100</td>\n",
       "      <td>-0.25936</td>\n",
       "      <td>-0.334026</td>\n",
       "      <td>...</td>\n",
       "      <td>-0.159701</td>\n",
       "      <td>0.022493</td>\n",
       "      <td>-0.176108</td>\n",
       "      <td>-0.233257</td>\n",
       "      <td>4.533722</td>\n",
       "      <td>-0.102646</td>\n",
       "      <td>0.053915</td>\n",
       "      <td>0.381859</td>\n",
       "      <td>0.001256</td>\n",
       "      <td>1.254593</td>\n",
       "    </tr>\n",
       "    <tr>\n",
       "      <th>4</th>\n",
       "      <td>0.0</td>\n",
       "      <td>-0.345874</td>\n",
       "      <td>-0.165937</td>\n",
       "      <td>-0.548018</td>\n",
       "      <td>-0.045272</td>\n",
       "      <td>-0.456581</td>\n",
       "      <td>-0.356976</td>\n",
       "      <td>-0.282492</td>\n",
       "      <td>-0.25936</td>\n",
       "      <td>2.064791</td>\n",
       "      <td>...</td>\n",
       "      <td>-0.159701</td>\n",
       "      <td>-0.074378</td>\n",
       "      <td>-0.176108</td>\n",
       "      <td>-0.041699</td>\n",
       "      <td>-0.302462</td>\n",
       "      <td>-0.102646</td>\n",
       "      <td>-0.111231</td>\n",
       "      <td>-0.227231</td>\n",
       "      <td>-0.420230</td>\n",
       "      <td>-0.797072</td>\n",
       "    </tr>\n",
       "  </tbody>\n",
       "</table>\n",
       "<p>5 rows × 59 columns</p>\n",
       "</div>"
      ],
      "text/plain": [
       "    0         1         2         3         4         5         6         7   \\\n",
       "0  0.0 -0.345874 -0.165937  1.682807 -0.045272  0.085624 -0.356976 -0.282492   \n",
       "1  0.0 -0.345874 -0.165937  0.636491 -0.045272 -0.456581  1.942201 -0.282492   \n",
       "2  0.0 -0.345874 -0.165937  0.399589 -0.045272 -0.456581 -0.356976 -0.282492   \n",
       "3  0.0 -0.345874  0.204054 -0.548018 -0.045272  0.290783  1.597325  2.360100   \n",
       "4  0.0 -0.345874 -0.165937 -0.548018 -0.045272 -0.456581 -0.356976 -0.282492   \n",
       "\n",
       "        8         9   ...        49        50        51        52        53  \\\n",
       "0 -0.25936 -0.334026  ... -0.159701  0.033670 -0.176108  0.201020 -0.302462   \n",
       "1 -0.25936  1.914865  ... -0.159701  0.026219  0.327348 -0.090481  0.268144   \n",
       "2 -0.25936 -0.334026  ... -0.159701 -0.506573 -0.176108  0.217677 -0.302462   \n",
       "3 -0.25936 -0.334026  ... -0.159701  0.022493 -0.176108 -0.233257  4.533722   \n",
       "4 -0.25936  2.064791  ... -0.159701 -0.074378 -0.176108 -0.041699 -0.302462   \n",
       "\n",
       "         54        55        56        57        58  \n",
       "0 -0.102646 -0.103960  0.013458 -0.238062 -0.797072  \n",
       "1 -0.102646 -0.096448 -0.104431 -0.150551  1.254593  \n",
       "2 -0.102646 -0.123691 -0.237055 -0.427374 -0.797072  \n",
       "3 -0.102646  0.053915  0.381859  0.001256  1.254593  \n",
       "4 -0.102646 -0.111231 -0.227231 -0.420230 -0.797072  \n",
       "\n",
       "[5 rows x 59 columns]"
      ]
     },
     "execution_count": 95,
     "metadata": {},
     "output_type": "execute_result"
    }
   ],
   "source": [
    "dealed_data = pd.DataFrame(dealed_data)\n",
    "dealed_data.head()"
   ]
  },
  {
   "cell_type": "markdown",
   "metadata": {},
   "source": [
    "因为前面用sklearn的一个函数对数据进行标准化的时候把class的值也改变了，所以这里给改回来"
   ]
  },
  {
   "cell_type": "code",
   "execution_count": 96,
   "metadata": {},
   "outputs": [
    {
     "data": {
      "text/html": [
       "<div>\n",
       "<style scoped>\n",
       "    .dataframe tbody tr th:only-of-type {\n",
       "        vertical-align: middle;\n",
       "    }\n",
       "\n",
       "    .dataframe tbody tr th {\n",
       "        vertical-align: top;\n",
       "    }\n",
       "\n",
       "    .dataframe thead th {\n",
       "        text-align: right;\n",
       "    }\n",
       "</style>\n",
       "<table border=\"1\" class=\"dataframe\">\n",
       "  <thead>\n",
       "    <tr style=\"text-align: right;\">\n",
       "      <th></th>\n",
       "      <th>0</th>\n",
       "      <th>1</th>\n",
       "      <th>2</th>\n",
       "      <th>3</th>\n",
       "      <th>4</th>\n",
       "      <th>5</th>\n",
       "      <th>6</th>\n",
       "      <th>7</th>\n",
       "      <th>8</th>\n",
       "      <th>9</th>\n",
       "      <th>...</th>\n",
       "      <th>49</th>\n",
       "      <th>50</th>\n",
       "      <th>51</th>\n",
       "      <th>52</th>\n",
       "      <th>53</th>\n",
       "      <th>54</th>\n",
       "      <th>55</th>\n",
       "      <th>56</th>\n",
       "      <th>57</th>\n",
       "      <th>58</th>\n",
       "    </tr>\n",
       "  </thead>\n",
       "  <tbody>\n",
       "    <tr>\n",
       "      <th>0</th>\n",
       "      <td>1</td>\n",
       "      <td>-0.345874</td>\n",
       "      <td>-0.165937</td>\n",
       "      <td>1.682807</td>\n",
       "      <td>-0.045272</td>\n",
       "      <td>0.085624</td>\n",
       "      <td>-0.356976</td>\n",
       "      <td>-0.282492</td>\n",
       "      <td>-0.25936</td>\n",
       "      <td>-0.334026</td>\n",
       "      <td>...</td>\n",
       "      <td>-0.159701</td>\n",
       "      <td>0.033670</td>\n",
       "      <td>-0.176108</td>\n",
       "      <td>0.201020</td>\n",
       "      <td>-0.302462</td>\n",
       "      <td>-0.102646</td>\n",
       "      <td>-0.103960</td>\n",
       "      <td>0.013458</td>\n",
       "      <td>-0.238062</td>\n",
       "      <td>0.0</td>\n",
       "    </tr>\n",
       "    <tr>\n",
       "      <th>1</th>\n",
       "      <td>1</td>\n",
       "      <td>-0.345874</td>\n",
       "      <td>-0.165937</td>\n",
       "      <td>0.636491</td>\n",
       "      <td>-0.045272</td>\n",
       "      <td>-0.456581</td>\n",
       "      <td>1.942201</td>\n",
       "      <td>-0.282492</td>\n",
       "      <td>-0.25936</td>\n",
       "      <td>1.914865</td>\n",
       "      <td>...</td>\n",
       "      <td>-0.159701</td>\n",
       "      <td>0.026219</td>\n",
       "      <td>0.327348</td>\n",
       "      <td>-0.090481</td>\n",
       "      <td>0.268144</td>\n",
       "      <td>-0.102646</td>\n",
       "      <td>-0.096448</td>\n",
       "      <td>-0.104431</td>\n",
       "      <td>-0.150551</td>\n",
       "      <td>1.0</td>\n",
       "    </tr>\n",
       "    <tr>\n",
       "      <th>2</th>\n",
       "      <td>1</td>\n",
       "      <td>-0.345874</td>\n",
       "      <td>-0.165937</td>\n",
       "      <td>0.399589</td>\n",
       "      <td>-0.045272</td>\n",
       "      <td>-0.456581</td>\n",
       "      <td>-0.356976</td>\n",
       "      <td>-0.282492</td>\n",
       "      <td>-0.25936</td>\n",
       "      <td>-0.334026</td>\n",
       "      <td>...</td>\n",
       "      <td>-0.159701</td>\n",
       "      <td>-0.506573</td>\n",
       "      <td>-0.176108</td>\n",
       "      <td>0.217677</td>\n",
       "      <td>-0.302462</td>\n",
       "      <td>-0.102646</td>\n",
       "      <td>-0.123691</td>\n",
       "      <td>-0.237055</td>\n",
       "      <td>-0.427374</td>\n",
       "      <td>0.0</td>\n",
       "    </tr>\n",
       "    <tr>\n",
       "      <th>3</th>\n",
       "      <td>1</td>\n",
       "      <td>-0.345874</td>\n",
       "      <td>0.204054</td>\n",
       "      <td>-0.548018</td>\n",
       "      <td>-0.045272</td>\n",
       "      <td>0.290783</td>\n",
       "      <td>1.597325</td>\n",
       "      <td>2.360100</td>\n",
       "      <td>-0.25936</td>\n",
       "      <td>-0.334026</td>\n",
       "      <td>...</td>\n",
       "      <td>-0.159701</td>\n",
       "      <td>0.022493</td>\n",
       "      <td>-0.176108</td>\n",
       "      <td>-0.233257</td>\n",
       "      <td>4.533722</td>\n",
       "      <td>-0.102646</td>\n",
       "      <td>0.053915</td>\n",
       "      <td>0.381859</td>\n",
       "      <td>0.001256</td>\n",
       "      <td>1.0</td>\n",
       "    </tr>\n",
       "    <tr>\n",
       "      <th>4</th>\n",
       "      <td>1</td>\n",
       "      <td>-0.345874</td>\n",
       "      <td>-0.165937</td>\n",
       "      <td>-0.548018</td>\n",
       "      <td>-0.045272</td>\n",
       "      <td>-0.456581</td>\n",
       "      <td>-0.356976</td>\n",
       "      <td>-0.282492</td>\n",
       "      <td>-0.25936</td>\n",
       "      <td>2.064791</td>\n",
       "      <td>...</td>\n",
       "      <td>-0.159701</td>\n",
       "      <td>-0.074378</td>\n",
       "      <td>-0.176108</td>\n",
       "      <td>-0.041699</td>\n",
       "      <td>-0.302462</td>\n",
       "      <td>-0.102646</td>\n",
       "      <td>-0.111231</td>\n",
       "      <td>-0.227231</td>\n",
       "      <td>-0.420230</td>\n",
       "      <td>0.0</td>\n",
       "    </tr>\n",
       "  </tbody>\n",
       "</table>\n",
       "<p>5 rows × 59 columns</p>\n",
       "</div>"
      ],
      "text/plain": [
       "   0         1         2         3         4         5         6         7   \\\n",
       "0   1 -0.345874 -0.165937  1.682807 -0.045272  0.085624 -0.356976 -0.282492   \n",
       "1   1 -0.345874 -0.165937  0.636491 -0.045272 -0.456581  1.942201 -0.282492   \n",
       "2   1 -0.345874 -0.165937  0.399589 -0.045272 -0.456581 -0.356976 -0.282492   \n",
       "3   1 -0.345874  0.204054 -0.548018 -0.045272  0.290783  1.597325  2.360100   \n",
       "4   1 -0.345874 -0.165937 -0.548018 -0.045272 -0.456581 -0.356976 -0.282492   \n",
       "\n",
       "        8         9   ...        49        50        51        52        53  \\\n",
       "0 -0.25936 -0.334026  ... -0.159701  0.033670 -0.176108  0.201020 -0.302462   \n",
       "1 -0.25936  1.914865  ... -0.159701  0.026219  0.327348 -0.090481  0.268144   \n",
       "2 -0.25936 -0.334026  ... -0.159701 -0.506573 -0.176108  0.217677 -0.302462   \n",
       "3 -0.25936 -0.334026  ... -0.159701  0.022493 -0.176108 -0.233257  4.533722   \n",
       "4 -0.25936  2.064791  ... -0.159701 -0.074378 -0.176108 -0.041699 -0.302462   \n",
       "\n",
       "         54        55        56        57   58  \n",
       "0 -0.102646 -0.103960  0.013458 -0.238062  0.0  \n",
       "1 -0.102646 -0.096448 -0.104431 -0.150551  1.0  \n",
       "2 -0.102646 -0.123691 -0.237055 -0.427374  0.0  \n",
       "3 -0.102646  0.053915  0.381859  0.001256  1.0  \n",
       "4 -0.102646 -0.111231 -0.227231 -0.420230  0.0  \n",
       "\n",
       "[5 rows x 59 columns]"
      ]
     },
     "execution_count": 96,
     "metadata": {},
     "output_type": "execute_result"
    }
   ],
   "source": [
    "dealed_data[58][dealed_data[58]<0]=0\n",
    "dealed_data[58][dealed_data[58]>0]=1\n",
    "dealed_data[0] = 1\n",
    "dealed_data.head()"
   ]
  },
  {
   "cell_type": "code",
   "execution_count": 97,
   "metadata": {},
   "outputs": [
    {
     "name": "stdout",
     "output_type": "stream",
     "text": [
      "Number transactions train dataset:  3000\n",
      "Number transactions test dataset:  1000\n",
      "Total number of transactions:  4000\n"
     ]
    }
   ],
   "source": [
    "# 预处理过的数据\n",
    "\n",
    "dealed_Data = dealed_data.values \n",
    "cols2 = dealed_Data.shape[1]\n",
    "dealed_X = dealed_Data[:,0:cols2-1]\n",
    "dealed_y = dealed_Data[:,cols2-1:cols2]\n",
    "\n",
    "from sklearn.model_selection import train_test_split\n",
    "\n",
    "dealed_X_train, dealed_X_test, dealed_y_train, dealed_y_test = train_test_split(dealed_X, dealed_y, test_size = 0.25, random_state = 0)\n",
    "\n",
    "print(\"Number transactions train dataset: \", len(dealed_X_train))\n",
    "print(\"Number transactions test dataset: \", len(dealed_X_test))\n",
    "print(\"Total number of transactions: \", len(dealed_X_train)+len(dealed_X_test))"
   ]
  },
  {
   "cell_type": "code",
   "execution_count": 98,
   "metadata": {},
   "outputs": [
    {
     "data": {
      "text/plain": [
       "array([[ 1.        , -0.34587445, -0.16593721, -0.548018  , -0.04527165,\n",
       "        -0.45658061, -0.35697598, -0.28249181, 14.0464628 , -0.33402594,\n",
       "        -0.36419511, -0.29246026, -0.62259387, -0.31091516, -0.17490829,\n",
       "        -0.18992567, -0.3304013 , -0.32472929, -0.34232062, -0.92407107,\n",
       "        -0.16746556, -0.67008538, -0.11748386, -0.2871885 , -0.20707337,\n",
       "        -0.32622248, -0.30070163, -0.23193169, -0.22667237, -0.15742219,\n",
       "        -0.22443496, -0.1546879 , -0.14301151, -0.17175671, -0.14537091,\n",
       "        -0.18866307, -0.24690628, -0.32284136, -0.06252407, -0.18042937,\n",
       "        -0.1937588 , -0.12353371, -0.17415891, -0.20605751, -0.12693318,\n",
       "        -0.30366193, -0.201433  , -0.06929975, -0.11864895, -0.1597008 ,\n",
       "        -0.50657254, -0.17610761, -0.31773295, -0.30246202, -0.10264556,\n",
       "        -0.12785424, -0.25179133, -0.48273808],\n",
       "       [ 1.        , -0.34587445, -0.16593721, -0.548018  , -0.04527165,\n",
       "        -0.45658061, -0.35697598, -0.28249181, -0.25935994, -0.33402594,\n",
       "        -0.36419511, -0.29246026,  1.11920917, -0.31091516, -0.17490829,\n",
       "        -0.18992567, -0.3304013 , -0.32472929, -0.34232062,  0.31037287,\n",
       "        -0.16746556, -0.06099081, -0.11748386, -0.2871885 , -0.20707337,\n",
       "         0.11640495,  0.55939686, -0.23193169, -0.22667237, -0.15742219,\n",
       "        -0.22443496, -0.1546879 , -0.14301151, -0.17175671, -0.14537091,\n",
       "        -0.18866307, -0.24690628, -0.32284136, -0.06252407, -0.18042937,\n",
       "        -0.1937588 , -0.12353371, -0.17415891, -0.20605751, -0.12693318,\n",
       "        -0.30366193, -0.201433  , -0.06929975, -0.11864895, -0.1597008 ,\n",
       "        -0.50657254, -0.17610761, -0.18566522,  0.58736394, -0.10264556,\n",
       "        -0.10492573, -0.22723123, -0.34343365],\n",
       "       [ 1.        , -0.34587445, -0.16593721, -0.548018  , -0.04527165,\n",
       "        -0.45658061,  3.93482119, -0.28249181, -0.25935994, -0.33402594,\n",
       "        -0.36419511, -0.29246026, -0.62259387, -0.31091516, -0.17490829,\n",
       "        -0.18992567, -0.3304013 , -0.32472929, -0.34232062,  0.33281731,\n",
       "        -0.16746556, -0.67008538, -0.11748386, -0.2871885 , -0.20707337,\n",
       "        -0.32622248, -0.30070163, -0.23193169, -0.22667237, -0.15742219,\n",
       "        -0.22443496, -0.1546879 , -0.14301151, -0.17175671, -0.14537091,\n",
       "        -0.18866307, -0.24690628, -0.32284136, -0.06252407, -0.18042937,\n",
       "        -0.1937588 , -0.12353371, -0.17415891, -0.20605751, -0.12693318,\n",
       "        -0.30366193, -0.201433  , -0.06929975, -0.11864895, -0.1597008 ,\n",
       "         0.95394566, -0.17610761,  3.64786838, -0.30246202, -0.10264556,\n",
       "        -0.08106197, -0.19775912, -0.36843701],\n",
       "       [ 1.        , -0.34587445, -0.16593721,  2.07764349, -0.04527165,\n",
       "         2.15186529,  1.3290872 , -0.28249181,  0.8111438 , -0.33402594,\n",
       "        -0.36419511, -0.29246026, -0.62259387, -0.31091516, -0.17490829,\n",
       "        -0.18992567, -0.3304013 , -0.32472929, -0.34232062,  1.57848347,\n",
       "         1.53017499,  0.07250937, -0.11748386,  0.94220238, -0.20707337,\n",
       "        -0.32622248, -0.30070163, -0.23193169, -0.22667237, -0.15742219,\n",
       "        -0.22443496, -0.1546879 , -0.14301151, -0.17175671, -0.14537091,\n",
       "        -0.18866307, -0.24690628, -0.32284136, -0.06252407, -0.18042937,\n",
       "        -0.1937588 , -0.12353371, -0.17415891, -0.20605751, -0.12693318,\n",
       "         0.1443259 , -0.201433  , -0.06929975, -0.11864895,  0.15123576,\n",
       "        -0.21595922, -0.17610761, -0.31773295, -0.30246202, -0.10264556,\n",
       "        -0.11153276, -0.23214325, -0.43451732],\n",
       "       [ 1.        , -0.34587445, -0.16593721, -0.548018  , -0.04527165,\n",
       "        -0.45658061, -0.35697598, -0.28249181, -0.25935994, -0.33402594,\n",
       "        -0.36419511, -0.29246026,  4.37768426, -0.31091516, -0.17490829,\n",
       "        -0.18992567, -0.3304013 , -0.32472929, -0.34232062, -0.92407107,\n",
       "        -0.16746556,  0.49804119, -0.11748386, -0.2871885 , -0.20707337,\n",
       "        -0.32622248,  3.01008845, -0.23193169, -0.22667237, -0.15742219,\n",
       "        -0.22443496, -0.1546879 , -0.14301151, -0.17175671, -0.14537091,\n",
       "        -0.18866307, -0.24690628, -0.32284136, -0.06252407, -0.18042937,\n",
       "        -0.1937588 , -0.12353371,  3.39071978, -0.20605751, -0.12693318,\n",
       "        -0.30366193, -0.201433  , -0.06929975, -0.11864895, -0.1597008 ,\n",
       "        -0.50657254, -0.17610761, -0.31773295, -0.30246202, -0.10264556,\n",
       "        -0.06290017, -0.07004662, -0.35414938]])"
      ]
     },
     "execution_count": 98,
     "metadata": {},
     "output_type": "execute_result"
    }
   ],
   "source": [
    "dealed_X_train[:5]"
   ]
  },
  {
   "cell_type": "code",
   "execution_count": 100,
   "metadata": {},
   "outputs": [
    {
     "data": {
      "text/plain": [
       "0.6931471785599455"
      ]
     },
     "execution_count": 100,
     "metadata": {},
     "output_type": "execute_result"
    }
   ],
   "source": [
    "cost(dealed_X_train, dealed_y_train, theta)"
   ]
  },
  {
   "cell_type": "code",
   "execution_count": 102,
   "metadata": {},
   "outputs": [
    {
     "name": "stdout",
     "output_type": "stream",
     "text": [
      "theta:[[-0.33303637  0.0229669  -0.04663419  0.10875702  0.07669644  0.22480632\n",
      "   0.18614207  0.36476913  0.17818234  0.1824935   0.12055672  0.09131867\n",
      "  -0.05593854  0.07459261  0.02944084  0.14596837  0.31545252  0.23709583\n",
      "   0.1678288   0.15136086  0.17916836  0.24277641  0.13674834  0.31925692\n",
      "   0.20146225 -0.19017242 -0.15313339 -0.16702259 -0.06460608 -0.07880157\n",
      "  -0.10726371 -0.06235586 -0.03410523 -0.11009342 -0.02828827 -0.08275331\n",
      "  -0.03723573 -0.10041676 -0.03290085 -0.09221401  0.00107909 -0.07391487\n",
      "  -0.13357939 -0.08035714 -0.07874325 -0.14673588 -0.15158561 -0.04123256\n",
      "  -0.08763477 -0.05072151 -0.05788162 -0.05135447  0.21115829  0.3077746\n",
      "   0.0737888   0.07983988  0.17405114  0.22996664]]\n",
      "duration:0.37s\n"
     ]
    },
    {
     "data": {
      "text/plain": [
       "0.906"
      ]
     },
     "execution_count": 102,
     "metadata": {},
     "output_type": "execute_result"
    },
    {
     "data": {
      "image/png": "[encoded data removed]",
      "text/plain": [
       "<Figure size 864x288 with 1 Axes>"
      ]
     },
     "metadata": {},
     "output_type": "display_data"
    }
   ],
   "source": [
    "theta1 = runExpe(dealed_X_train, dealed_y_train, theta, 30, STOP_ITER, thresh=500, alpha=0.01)\n",
    "y_pred = predict(dealed_X_test, theta1)\n",
    "accuracy_score(dealed_y_test, y_pred)"
   ]
  },
  {
   "cell_type": "code",
   "execution_count": 114,
   "metadata": {
    "scrolled": false
   },
   "outputs": [
    {
     "name": "stdout",
     "output_type": "stream",
     "text": [
      "theta:[[-0.05  0.02 -0.01  0.04  0.01  0.05  0.05  0.07  0.04  0.05  0.03  0.04\n",
      "  -0.    0.02  0.01  0.04  0.06  0.06  0.04  0.05  0.04  0.07  0.02  0.07\n",
      "   0.04 -0.05 -0.04 -0.04 -0.03 -0.02 -0.03 -0.02 -0.02 -0.02 -0.02 -0.02\n",
      "  -0.02 -0.03 -0.   -0.02 -0.   -0.02 -0.03 -0.02 -0.02 -0.03 -0.03 -0.01\n",
      "  -0.02 -0.01 -0.02 -0.01  0.05  0.06  0.01  0.02  0.04  0.06]]\n",
      "duration:0.37s\n"
     ]
    },
    {
     "data": {
      "text/plain": [
       "0.9"
      ]
     },
     "execution_count": 114,
     "metadata": {},
     "output_type": "execute_result"
    },
    {
     "data": {
      "image/png": "[encoded data removed]",
      "text/plain": [
       "<Figure size 864x288 with 1 Axes>"
      ]
     },
     "metadata": {},
     "output_type": "display_data"
    }
   ],
   "source": [
    "theta6 = runExpe(dealed_X_train, dealed_y_train, theta, 30, STOP_ITER, thresh=500, alpha=0.001)\n",
    "y_pred = predict(dealed_X_test, theta6)\n",
    "accuracy_score(dealed_y_test, y_pred)"
   ]
  },
  {
   "cell_type": "code",
   "execution_count": 104,
   "metadata": {},
   "outputs": [
    {
     "name": "stdout",
     "output_type": "stream",
     "text": [
      "theta:[[-4.0632217  -0.02980693 -0.28640108 -0.01566915  1.37829232  0.50533291\n",
      "   0.16060784  1.38818207  0.07077264  0.07333489  0.27971549 -0.08379025\n",
      "  -0.11804232  0.13471451 -0.02232556  0.19279112  0.6505452   0.64905291\n",
      "   0.06336074 -0.07347365  0.66840491  0.11408647  0.39695476  1.30283063\n",
      "   0.08292475 -2.77373501 -1.0918646  -7.1300881   0.29133478 -1.69841182\n",
      "  -0.26634768 -2.27823801 -0.51658993 -0.46374824  0.18479953 -1.09100493\n",
      "   0.43211618  0.02672441  0.22057959 -0.51489962 -0.16925841 -3.01658975\n",
      "  -2.63928642 -0.19408043 -0.8616261  -0.67132715 -1.36463243 -0.06528451\n",
      "  -1.27588142 -0.31141582 -0.25170719 -0.23057429  0.56497316  1.36851529\n",
      "   1.11726483 -0.31874753  1.28917462  0.55554539]]\n",
      "duration:3.57s\n"
     ]
    },
    {
     "data": {
      "text/plain": [
       "0.914"
      ]
     },
     "execution_count": 104,
     "metadata": {},
     "output_type": "execute_result"
    },
    {
     "data": {
      "image/png": "[encoded data removed]",
      "text/plain": [
       "<Figure size 864x288 with 1 Axes>"
      ]
     },
     "metadata": {},
     "output_type": "display_data"
    }
   ],
   "source": [
    "theta9 = runExpe(dealed_X_train, dealed_y_train, theta, 30, STOP_ITER, thresh=5000, alpha=1)\n",
    "y_pred = predict(dealed_X_test, theta9)\n",
    "accuracy_score(dealed_y_test, y_pred)"
   ]
  },
  {
   "cell_type": "code",
   "execution_count": 105,
   "metadata": {},
   "outputs": [
    {
     "name": "stdout",
     "output_type": "stream",
     "text": [
      "theta:[[-1.67820489 -0.05054686 -0.25532497  0.08445163  0.45883258  0.37357043\n",
      "   0.19212949  1.3266771   0.19556862  0.21613409  0.16078124 -0.0791195\n",
      "  -0.1254448   0.01266845  0.00428381  0.25427446  0.71038596  0.47852556\n",
      "   0.11328783  0.07602387  0.46729302  0.21386217  0.52566948  1.32420572\n",
      "   0.3340999  -1.99606792 -1.01723284 -1.82323598  0.2538135  -0.71310695\n",
      "  -0.29829274 -0.64457625 -0.22586398 -0.48168775  0.07110654 -0.8058104\n",
      "   0.30936539  0.1188919   0.0789718  -0.48059403 -0.12332807 -0.76344536\n",
      "  -1.26273685 -0.13235694 -0.67066179 -0.67842671 -1.09810293 -0.0853582\n",
      "  -0.73626869 -0.35703426 -0.23328025 -0.36466181  0.24508647  1.36239072\n",
      "   0.47024674 -0.20580585  0.87693484  0.40422113]]\n",
      "duration:3.62s\n"
     ]
    },
    {
     "data": {
      "text/plain": [
       "0.913"
      ]
     },
     "execution_count": 105,
     "metadata": {},
     "output_type": "execute_result"
    },
    {
     "data": {
      "image/png": "[encoded data removed]",
      "text/plain": [
       "<Figure size 864x288 with 1 Axes>"
      ]
     },
     "metadata": {},
     "output_type": "display_data"
    }
   ],
   "source": [
    "theta10 = runExpe(dealed_X_train, dealed_y_train, theta, 30, STOP_ITER, thresh=5000, alpha=0.1)\n",
    "y_pred = predict(dealed_X_test, theta10)\n",
    "accuracy_score(dealed_y_test, y_pred)"
   ]
  },
  {
   "cell_type": "code",
   "execution_count": 106,
   "metadata": {},
   "outputs": [
    {
     "name": "stdout",
     "output_type": "stream",
     "text": [
      "theta:[[-0.69765699 -0.0503803  -0.15714023  0.09794118  0.21635198  0.35786749\n",
      "   0.21584014  0.97233323  0.24992015  0.23812981  0.16250016 -0.01981153\n",
      "  -0.13805458  0.02782453  0.02119837  0.25757838  0.68614871  0.4118509\n",
      "   0.18323262  0.11072345  0.36593206  0.25815715  0.35127801  0.83553845\n",
      "   0.44062028 -0.71166431 -0.46488803 -0.51931456  0.0658495  -0.26500047\n",
      "  -0.28448119 -0.20098068 -0.08259137 -0.33083125 -0.04394192 -0.25892776\n",
      "   0.09649183 -0.05252946 -0.04816666 -0.24807485 -0.08115831 -0.23937973\n",
      "  -0.45122486 -0.14052248 -0.26862052 -0.42950199 -0.49934406 -0.09742476\n",
      "  -0.28678921 -0.21842804 -0.14513408 -0.18120804  0.36432225  0.85772802\n",
      "   0.19531431  0.12467619  0.40311146  0.38928704]]\n",
      "duration:3.42s\n"
     ]
    },
    {
     "data": {
      "text/plain": [
       "0.912"
      ]
     },
     "execution_count": 106,
     "metadata": {},
     "output_type": "execute_result"
    },
    {
     "data": {
      "image/png": "[encoded data removed]",
      "text/plain": [
       "<Figure size 864x288 with 1 Axes>"
      ]
     },
     "metadata": {},
     "output_type": "display_data"
    }
   ],
   "source": [
    "theta11 = runExpe(dealed_X_train, dealed_y_train, theta, 30, STOP_ITER, thresh=5000, alpha=0.01)\n",
    "y_pred = predict(dealed_X_test, theta11)\n",
    "accuracy_score(dealed_y_test, y_pred)"
   ]
  },
  {
   "cell_type": "code",
   "execution_count": 107,
   "metadata": {},
   "outputs": [
    {
     "name": "stdout",
     "output_type": "stream",
     "text": [
      "theta:[[-0.33169596  0.02358669 -0.04492385  0.10830812  0.07693783  0.22328937\n",
      "   0.18815518  0.36442408  0.17755379  0.18344299  0.12012449  0.09215546\n",
      "  -0.05500018  0.07314446  0.03029105  0.14547403  0.31564953  0.23603785\n",
      "   0.1665225   0.15249354  0.17879719  0.24456279  0.13697543  0.31770791\n",
      "   0.20134415 -0.18979517 -0.15043104 -0.16543644 -0.06282452 -0.07713969\n",
      "  -0.10548333 -0.06322367 -0.03372916 -0.10802443 -0.02809431 -0.08227351\n",
      "  -0.03691571 -0.09884579 -0.03256864 -0.09257717  0.00170708 -0.07264563\n",
      "  -0.13095867 -0.08066111 -0.07949071 -0.1466468  -0.15030603 -0.04129114\n",
      "  -0.08878453 -0.05063276 -0.05957211 -0.04931382  0.21219087  0.3049124\n",
      "   0.07286854  0.08264566  0.17291428  0.23061794]]\n",
      "duration:3.40s\n"
     ]
    },
    {
     "data": {
      "text/plain": [
       "0.904"
      ]
     },
     "execution_count": 107,
     "metadata": {},
     "output_type": "execute_result"
    },
    {
     "data": {
      "image/png": "[encoded data removed]",
      "text/plain": [
       "<Figure size 864x288 with 1 Axes>"
      ]
     },
     "metadata": {},
     "output_type": "display_data"
    }
   ],
   "source": [
    "theta6 = runExpe(dealed_X_train, dealed_y_train, theta, 30, STOP_ITER, thresh=5000, alpha=0.001)\n",
    "y_pred = predict(dealed_X_test, theta6)\n",
    "accuracy_score(dealed_y_test, y_pred)"
   ]
  },
  {
   "cell_type": "code",
   "execution_count": 108,
   "metadata": {},
   "outputs": [
    {
     "name": "stdout",
     "output_type": "stream",
     "text": [
      "theta:[[-0.05361771  0.02320341 -0.00817259  0.03550251  0.01427499  0.04930249\n",
      "   0.04869686  0.06996577  0.03976601  0.04977622  0.02995936  0.03975751\n",
      "  -0.00207769  0.02478261  0.01263267  0.03795377  0.06377802  0.05586792\n",
      "   0.04062437  0.05151587  0.04198924  0.07167138  0.02320865  0.06719331\n",
      "   0.04383187 -0.0453533  -0.04068729 -0.03811732 -0.02634765 -0.02153231\n",
      "  -0.02880938 -0.02053351 -0.01596558 -0.02394016 -0.01512998 -0.02416809\n",
      "  -0.0212229  -0.03157959 -0.00497889 -0.02444877 -0.00432444 -0.01814559\n",
      "  -0.02785537 -0.02431032 -0.01716671 -0.0300754  -0.03014291 -0.00796969\n",
      "  -0.01907874 -0.00818744 -0.01635509 -0.01314758  0.0452441   0.06319956\n",
      "   0.01468984  0.02194534  0.04115329  0.05500348]]\n",
      "duration:3.46s\n"
     ]
    },
    {
     "data": {
      "text/plain": [
       "0.9"
      ]
     },
     "execution_count": 108,
     "metadata": {},
     "output_type": "execute_result"
    },
    {
     "data": {
      "image/png": "[encoded data removed]",
      "text/plain": [
       "<Figure size 864x288 with 1 Axes>"
      ]
     },
     "metadata": {},
     "output_type": "display_data"
    }
   ],
   "source": [
    "theta12 = runExpe(dealed_X_train, dealed_y_train, theta, 30, STOP_ITER, thresh=5000, alpha=0.0001)\n",
    "y_pred = predict(dealed_X_test, theta12)\n",
    "accuracy_score(dealed_y_test, y_pred)"
   ]
  },
  {
   "cell_type": "code",
   "execution_count": 109,
   "metadata": {},
   "outputs": [
    {
     "name": "stdout",
     "output_type": "stream",
     "text": [
      "theta:[[-5.63734933e-03  3.19868629e-03 -8.89596709e-04  4.41226210e-03\n",
      "   1.60378074e-03  5.73163649e-03  5.86279135e-03  8.04371401e-03\n",
      "   4.72317141e-03  6.19703176e-03  3.63198861e-03  5.09258697e-03\n",
      "   2.82264958e-05  3.09459825e-03  1.64780923e-03  4.73034562e-03\n",
      "   7.39918723e-03  6.75848784e-03  4.86777857e-03  6.40714104e-03\n",
      "   5.05889271e-03  8.75041964e-03  2.54855038e-03  7.98891913e-03\n",
      "   5.24489711e-03 -5.71648270e-03 -5.25829562e-03 -4.52669265e-03\n",
      "  -3.68770432e-03 -2.92599143e-03 -3.90792974e-03 -2.99714585e-03\n",
      "  -2.58365501e-03 -2.84343860e-03 -2.48865380e-03 -3.32502327e-03\n",
      "  -3.18801991e-03 -3.98972400e-03 -5.29477700e-04 -3.06929784e-03\n",
      "  -1.09938760e-03 -2.20769667e-03 -3.30713031e-03 -3.08397721e-03\n",
      "  -2.02534060e-03 -3.51312724e-03 -3.47499825e-03 -8.94896549e-04\n",
      "  -2.24227776e-03 -9.17871787e-04 -2.04519393e-03 -1.65370083e-03\n",
      "   5.32744071e-03  7.55377442e-03  1.69007926e-03  2.79340480e-03\n",
      "   5.15083074e-03  6.69494956e-03]]\n",
      "duration:3.47s\n"
     ]
    },
    {
     "data": {
      "text/plain": [
       "0.899"
      ]
     },
     "execution_count": 109,
     "metadata": {},
     "output_type": "execute_result"
    },
    {
     "data": {
      "image/png": "[encoded data removed]",
      "text/plain": [
       "<Figure size 864x288 with 1 Axes>"
      ]
     },
     "metadata": {},
     "output_type": "display_data"
    }
   ],
   "source": [
    "theta14 = runExpe(dealed_X_train, dealed_y_train, theta, 30, STOP_ITER, thresh=5000, alpha=0.00001)\n",
    "y_pred = predict(dealed_X_test, theta14)\n",
    "accuracy_score(dealed_y_test, y_pred)"
   ]
  },
  {
   "cell_type": "code",
   "execution_count": 115,
   "metadata": {},
   "outputs": [
    {
     "name": "stdout",
     "output_type": "stream",
     "text": [
      "theta:[[-0.7  -0.05 -0.16  0.1   0.22  0.36  0.22  0.97  0.25  0.24  0.16 -0.02\n",
      "  -0.14  0.03  0.02  0.26  0.69  0.41  0.18  0.11  0.37  0.26  0.35  0.84\n",
      "   0.44 -0.71 -0.46 -0.52  0.07 -0.27 -0.28 -0.2  -0.08 -0.33 -0.04 -0.26\n",
      "   0.1  -0.05 -0.05 -0.25 -0.08 -0.24 -0.45 -0.14 -0.27 -0.43 -0.5  -0.1\n",
      "  -0.29 -0.22 -0.15 -0.18  0.36  0.86  0.2   0.12  0.4   0.39]]\n",
      "duration:3.40s\n"
     ]
    },
    {
     "data": {
      "text/plain": [
       "0.912"
      ]
     },
     "execution_count": 115,
     "metadata": {},
     "output_type": "execute_result"
    },
    {
     "data": {
      "image/png": "[encoded data removed]",
      "text/plain": [
       "<Figure size 864x288 with 1 Axes>"
      ]
     },
     "metadata": {},
     "output_type": "display_data"
    }
   ],
   "source": [
    "theta2 = runExpe(dealed_X_train, dealed_y_train, theta, 30, STOP_ITER, thresh=5000, alpha=0.01)\n",
    "y_pred = predict(dealed_X_test, theta2)\n",
    "accuracy_score(dealed_y_test, y_pred)"
   ]
  },
  {
   "cell_type": "code",
   "execution_count": 116,
   "metadata": {},
   "outputs": [
    {
     "name": "stdout",
     "output_type": "stream",
     "text": [
      "theta:[[-1.67 -0.05 -0.25  0.08  0.46  0.36  0.2   1.32  0.19  0.24  0.15 -0.08\n",
      "  -0.13  0.    0.01  0.26  0.72  0.46  0.11  0.08  0.46  0.24  0.52  1.32\n",
      "   0.35 -2.   -1.01 -1.8   0.26 -0.71 -0.3  -0.65 -0.22 -0.48  0.05 -0.81\n",
      "   0.3   0.14  0.07 -0.48 -0.12 -0.75 -1.26 -0.13 -0.68 -0.68 -1.09 -0.08\n",
      "  -0.74 -0.36 -0.24 -0.37  0.26  1.36  0.46 -0.2   0.86  0.4 ]]\n",
      "duration:34.66s\n"
     ]
    },
    {
     "data": {
      "text/plain": [
       "0.915"
      ]
     },
     "execution_count": 116,
     "metadata": {},
     "output_type": "execute_result"
    },
    {
     "data": {
      "image/png": "[encoded data removed]",
      "text/plain": [
       "<Figure size 864x288 with 1 Axes>"
      ]
     },
     "metadata": {},
     "output_type": "display_data"
    }
   ],
   "source": [
    "theta8 = runExpe(dealed_X_train, dealed_y_train, theta, 30, STOP_ITER, thresh=50000, alpha=0.01)\n",
    "y_pred = predict(dealed_X_test, theta8)\n",
    "accuracy_score(dealed_y_test, y_pred)"
   ]
  },
  {
   "cell_type": "code",
   "execution_count": 427,
   "metadata": {},
   "outputs": [
    {
     "name": "stdout",
     "output_type": "stream",
     "text": [
      "theta:[[-1.66 -0.05 -0.25  0.07  0.47  0.37  0.22  1.31  0.18  0.23  0.16 -0.08\n",
      "  -0.14  0.01  0.02  0.25  0.71  0.45  0.1   0.09  0.46  0.23  0.52  1.32\n",
      "   0.34 -1.99 -1.02 -1.82  0.26 -0.71 -0.28 -0.65 -0.23 -0.48  0.07 -0.81\n",
      "   0.29  0.14  0.07 -0.48 -0.12 -0.76 -1.27 -0.13 -0.67 -0.67 -1.08 -0.08\n",
      "  -0.74 -0.37 -0.23 -0.36  0.3   1.37  0.47 -0.2   0.88  0.39]]\n",
      "duration:3.51s\n"
     ]
    },
    {
     "data": {
      "text/plain": [
       "0.915"
      ]
     },
     "execution_count": 427,
     "metadata": {},
     "output_type": "execute_result"
    },
    {
     "data": {
      "image/png": "[encoded data removed]",
      "text/plain": [
       "<Figure size 864x288 with 1 Axes>"
      ]
     },
     "metadata": {},
     "output_type": "display_data"
    }
   ],
   "source": [
    "theta3 = runExpe(dealed_X_train, dealed_y_train, theta, 30, STOP_ITER, thresh=5000, alpha=0.1)\n",
    "y_pred = predict(dealed_X_test, theta3)\n",
    "accuracy_score(dealed_y_test, y_pred)"
   ]
  },
  {
   "cell_type": "code",
   "execution_count": 110,
   "metadata": {},
   "outputs": [
    {
     "name": "stdout",
     "output_type": "stream",
     "text": [
      "theta:[[-2.22712222 -0.06041374 -0.2635789   0.08007616  0.6049027   0.37184825\n",
      "   0.20035821  1.28949618  0.18836223  0.2200479   0.15710591 -0.08637339\n",
      "  -0.1215865   0.01575812  0.0094326   0.24272845  0.70240267  0.48997242\n",
      "   0.10091987  0.07109444  0.47813358  0.22191555  0.4852512   1.28002617\n",
      "   0.30880959 -2.38716511 -1.07588265 -2.74258051  0.2815711  -0.92580704\n",
      "  -0.26113378 -0.93096355 -0.3420345  -0.45840956  0.13170514 -1.01718275\n",
      "   0.34094823  0.13355054  0.09214662 -0.52202403 -0.12412471 -1.13074466\n",
      "  -1.60752967 -0.13375989 -0.7812093  -0.68647088 -1.20458588 -0.07296127\n",
      "  -0.92124526 -0.35280074 -0.22963816 -0.3545036   0.23006476  1.37839693\n",
      "   0.61690236 -0.31194812  1.12081887  0.41030432]]\n",
      "duration:7.20s\n"
     ]
    },
    {
     "data": {
      "text/plain": [
       "0.915"
      ]
     },
     "execution_count": 110,
     "metadata": {},
     "output_type": "execute_result"
    },
    {
     "data": {
      "image/png": "[encoded data removed]",
      "text/plain": [
       "<Figure size 864x288 with 1 Axes>"
      ]
     },
     "metadata": {},
     "output_type": "display_data"
    }
   ],
   "source": [
    "theta4 = runExpe(dealed_X_train, dealed_y_train, theta, 30, STOP_ITER, thresh=10000, alpha=0.1)\n",
    "y_pred = predict(dealed_X_test, theta4)\n",
    "accuracy_score(dealed_y_test, y_pred)"
   ]
  },
  {
   "cell_type": "code",
   "execution_count": 111,
   "metadata": {},
   "outputs": [
    {
     "name": "stdout",
     "output_type": "stream",
     "text": [
      "theta:[[-3.87709466 -0.0792167  -0.26834818  0.0736311   1.30570009  0.36871712\n",
      "   0.23742199  1.24165436  0.17680998  0.22887167  0.1535752  -0.09131547\n",
      "  -0.11959319  0.01626896  0.02733264  0.27935535  0.69497734  0.49791664\n",
      "   0.08948817  0.06229646  0.56061938  0.24025258  0.37272545  1.12599838\n",
      "   0.27690455 -2.80239333 -1.10336186 -6.47281427  0.30293405 -1.59295087\n",
      "  -0.23876959 -2.07087561 -0.73816133 -0.42545578  0.24774307 -1.11982778\n",
      "   0.3723377   0.14113969  0.09138248 -0.56776278 -0.12910255 -2.9010885\n",
      "  -2.61744926 -0.13457746 -0.86597951 -0.66519782 -1.25596002 -0.04833186\n",
      "  -1.23288728 -0.33420895 -0.21890209 -0.2889787   0.20645378  1.34902554\n",
      "   0.97020508 -0.39233816  1.31364869  0.47576998]]\n",
      "duration:34.92s\n"
     ]
    },
    {
     "data": {
      "text/plain": [
       "0.922"
      ]
     },
     "execution_count": 111,
     "metadata": {},
     "output_type": "execute_result"
    },
    {
     "data": {
      "image/png": "[encoded data removed]",
      "text/plain": [
       "<Figure size 864x288 with 1 Axes>"
      ]
     },
     "metadata": {},
     "output_type": "display_data"
    }
   ],
   "source": [
    "theta5 = runExpe(dealed_X_train, dealed_y_train, theta, 30, STOP_ITER, thresh=50000, alpha=0.1)\n",
    "y_pred = predict(dealed_X_test, theta5)\n",
    "accuracy_score(dealed_y_test, y_pred)"
   ]
  },
  {
   "cell_type": "markdown",
   "metadata": {},
   "source": [
    "#### 混淆矩阵"
   ]
  },
  {
   "cell_type": "code",
   "execution_count": 112,
   "metadata": {},
   "outputs": [],
   "source": [
    "def plot_confusion_matrix(cm, classes, title = 'Confusion matrix', cmap = plt.cm.Blues):\n",
    "    # this fuction is used tp print the confusion matrix\n",
    "    plt.imshow(cm, interpolation = 'nearest', cmap = cmap)\n",
    "    plt.title(title)\n",
    "    plt.colorbar()\n",
    "    tick_marks = np.arange(len(classes))\n",
    "    plt.xticks(tick_marks, classes, rotation = 0)\n",
    "    plt.yticks(tick_marks, classes)\n",
    "    thresh = cm.max() / 2.\n",
    "    for i, j in itertools.product(range(cm.shape[0]), range(cm.shape[1])):\n",
    "        plt.text(j, i, cm[i, j], \n",
    "                 horizontalalignment='center', \n",
    "                 color=\"white\" if cm[i, j] > thresh else \"black\")\n",
    "    plt.tight_layout()\n",
    "    plt.ylabel('True label')\n",
    "    plt.xlabel('Predict label')"
   ]
  },
  {
   "cell_type": "code",
   "execution_count": 113,
   "metadata": {
    "scrolled": true
   },
   "outputs": [
    {
     "name": "stdout",
     "output_type": "stream",
     "text": [
      "recall metric in the test data:  0.868020304568528\n",
      "accuracy in the test data:  0.922\n"
     ]
    },
    {
     "data": {
      "image/png": "[encoded data removed]",
      "text/plain": [
       "<Figure size 432x288 with 2 Axes>"
      ]
     },
     "metadata": {},
     "output_type": "display_data"
    }
   ],
   "source": [
    "import itertools\n",
    "from sklearn.metrics import confusion_matrix\n",
    "\n",
    "y_pred = predict(dealed_X_test, theta5)\n",
    "\n",
    "cnf_matrix = confusion_matrix(dealed_y_test, y_pred)\n",
    "np.set_printoptions(precision = 2)\n",
    "\n",
    "print(\"recall metric in the test data: \", cnf_matrix[1, 1]/(cnf_matrix[1, 0] + cnf_matrix[1, 1]))\n",
    "print(\"accuracy in the test data: \", (cnf_matrix[1, 1] + cnf_matrix[0, 0]) / (cnf_matrix[1,1]+cnf_matrix[1,0]+cnf_matrix[0,1]+cnf_matrix[0,0]))\n",
    "# plot non-normalized confusion matrix\n",
    "class_names = [0, 1]\n",
    "plt.figure()\n",
    "plot_confusion_matrix(cnf_matrix,\n",
    "                     classes=class_names,\n",
    "                     title = 'Confusion matrix')\n",
    "plt.show()"
   ]
  },
  {
   "cell_type": "code",
   "execution_count": null,
   "metadata": {},
   "outputs": [],
   "source": []
  }
 ],
 "metadata": {
  "kernelspec": {
   "display_name": "Python 3",
   "language": "python",
   "name": "python3"
  },
  "language_info": {
   "codemirror_mode": {
    "name": "ipython",
    "version": 3
   },
   "file_extension": ".py",
   "mimetype": "text/x-python",
   "name": "python",
   "nbconvert_exporter": "python",
   "pygments_lexer": "ipython3",
   "version": "3.7.6"
  }
 },
 "nbformat": 4,
 "nbformat_minor": 4
}
