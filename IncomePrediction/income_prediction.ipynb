{
 "cells": [
  {
   "cell_type": "markdown",
   "metadata": {},
   "source": [
    "### 逻辑回归\n",
    "\n",
    "目标：建立分类器，求解出57个参数\n",
    "\n",
    "设定阈值：根据阈值判断收入是否大于50k\n",
    "\n",
    "#### 公式推导：\n",
    "\n",
    "sigmoid函数：\n",
    "\n",
    "$$g(z)=\\frac{1}{1+e^ {-z}} $$\n",
    "\n",
    "根据线性回归中的预测函数$h_\\theta(x)$得到一个预测值\n",
    "\n",
    "$$h_\\theta(x)=\\theta_0+\\theta_1x_1+\\theta_2x_2+...$$\n",
    "\n",
    "$$h_\\theta(x)=\\sum_{i=0}^{m}{\\theta_ix_i}=\\theta^Tx$$\n",
    "\n",
    "再将$h_\\theta(x)$带入sigmoid函数里,就可以完成有预测值到概率的转换，即完成分类任务\n",
    "\n",
    "新的预测函数$h_\\theta(x)$为：\n",
    "\n",
    "$$h_\\theta(x)=g(\\theta^Tx)=\\frac{1}{1+e^{-\\theta^Tx}}$$\n",
    "\n",
    "\n",
    "这是一个二分类任务，所以概率可以表示为：\n",
    "\n",
    "$$ p(y=1|x;\\theta) = h_\\theta(x)$$\n",
    "\n",
    "$$p(y=0|x;\\theta)=1-h_\\theta(x)$$ \n",
    "\n",
    "上面两个式子整合在一起，可以得到\n",
    "\n",
    "$$p(y|x;\\theta)=(h_\\theta(x))^y(1-h_\\theta(x))^{1-y}$$\n",
    "\n",
    "得到似然函数\n",
    "\n",
    "$$L(\\theta)=\\prod_{i=1}^{m}{p(y_i|x;\\theta)}=\\prod_{i=1}^{m}{(h_\\theta(x))^{y_i}(1-h_\\theta(x))^{1-y_i}}$$\n",
    "\n",
    "再对数似然得到：\n",
    "\n",
    "$$l(\\theta)=logL(\\theta)=\\sum_{i=1}^{m}{(y_ilogh_\\theta(x_i)+(1-y_i)log(1-h_\\theta(x_i)))}$$\n",
    "\n",
    "\n",
    "根据极大似然估计，要求最大值，相当于梯度上升，但是要用梯度下降来解决问题，所以引入$J(\\theta)$\n",
    "\n",
    "$$J(\\theta) = -\\frac{1}{m}l(\\theta)$$\n",
    "\n",
    "引入正则化参数，使用L2正则化：\n",
    "\n",
    "$$J(\\theta) = -\\frac{1}{m}l(\\theta)+\\frac{\\lambda}{2m}\\sum_{j=1}^{n}{\\theta_{j}^2}$$\n",
    "\n",
    "即：\n",
    "\n",
    "$$J(\\theta) = -\\frac{1}{m}\\sum_{i=1}^{m}{(y_ilogh_\\theta(x_i)+(1-y_i)log(1-h_\\theta(x_i)))}+\\frac{\\lambda}{2m}\\sum_{j=1}^{n}{\\theta_{j}^2}$$\n",
    "\n",
    "然后在$J(\\theta)$中对$\\theta$求偏导，结果为：\n",
    "\n",
    "未引入正则化参数时：\n",
    "\n",
    "$$\\frac{\\partial J(\\theta)}{\\partial\\theta_j} = \\frac{1}{m}\\sum_{i=1}^{m}(h_\\theta(x_i)-y_i)x_i^j$$\n",
    "\n",
    "引入正则化参数$\\lambda$后：\n",
    "\n",
    "$$\\frac{\\partial J(\\theta)}{\\partial\\theta_j} = (\\frac{1}{m}\\sum_{i=1}^{m}(h_\\theta(x_i)-y_i)x_i^j)+\\frac{\\lambda}{m}\\theta_j$$\n",
    "\n",
    "$x_i^j$  :其中i表示第i个样本，j表示该样本的第j个特征\n",
    "\n",
    "\n",
    "最后就可以进行参数更新了\n",
    "\n",
    "未引入正则化参数时：\n",
    "\n",
    "$$\\theta_j=\\theta_j-\\alpha\\frac{1}{m}\\sum_{i=1}^{m}(h_\\theta(x_i)-y_i)x_i^j$$\n",
    "\n",
    "引入正则化参数$\\lambda$后：\n",
    "\n",
    "$$\\theta_j=\\theta_j-\\alpha\\frac{1}{m}\\sum_{i=1}^{m}((h_\\theta(x_i)-y_i)x_i^j+\\frac{\\lambda}{m}\\theta_j)$$\n",
    "\n",
    "式子中$\\alpha$表示学习率或步长\n",
    "\n",
    "$\\frac{1}{m}\\sum_{i=1}^{m}(h_\\theta(x_i)-y_i)x_i^j$表示更新的方向\n",
    "\n",
    "步长* 方向=更新的值\n",
    "\n"
   ]
  },
  {
   "cell_type": "markdown",
   "metadata": {},
   "source": [
    "### 要完成的模块\n",
    "\n",
    "0.数据切分:分为测试集（3000）和验证集（1000）\n",
    "\n",
    "1.sigmoid：映射到概率的函数\n",
    "\n",
    "2.model：返回预测结果\n",
    "\n",
    "3.cost：根据参数计算损失\n",
    "\n",
    "4.gradient：计算每个参数的梯度方向\n",
    "\n",
    "5.descent：进行参数更新\n",
    "\n",
    "6.accuracy：计算精度"
   ]
  },
  {
   "cell_type": "code",
   "execution_count": 12,
   "metadata": {},
   "outputs": [],
   "source": [
    "import numpy as np\n",
    "import pandas as pd\n",
    "import matplotlib.pyplot as plt\n",
    "import seaborn as sns\n",
    "import matplotlib as mpl\n",
    "%matplotlib inline"
   ]
  },
  {
   "cell_type": "code",
   "execution_count": 13,
   "metadata": {
    "scrolled": false
   },
   "outputs": [
    {
     "data": {
      "text/html": [
       "<div>\n",
       "<style scoped>\n",
       "    .dataframe tbody tr th:only-of-type {\n",
       "        vertical-align: middle;\n",
       "    }\n",
       "\n",
       "    .dataframe tbody tr th {\n",
       "        vertical-align: top;\n",
       "    }\n",
       "\n",
       "    .dataframe thead th {\n",
       "        text-align: right;\n",
       "    }\n",
       "</style>\n",
       "<table border=\"1\" class=\"dataframe\">\n",
       "  <thead>\n",
       "    <tr style=\"text-align: right;\">\n",
       "      <th></th>\n",
       "      <th>0</th>\n",
       "      <th>1</th>\n",
       "      <th>2</th>\n",
       "      <th>3</th>\n",
       "      <th>4</th>\n",
       "      <th>5</th>\n",
       "      <th>6</th>\n",
       "      <th>7</th>\n",
       "      <th>8</th>\n",
       "      <th>9</th>\n",
       "      <th>...</th>\n",
       "      <th>49</th>\n",
       "      <th>50</th>\n",
       "      <th>51</th>\n",
       "      <th>52</th>\n",
       "      <th>53</th>\n",
       "      <th>54</th>\n",
       "      <th>55</th>\n",
       "      <th>56</th>\n",
       "      <th>57</th>\n",
       "      <th>58</th>\n",
       "    </tr>\n",
       "  </thead>\n",
       "  <tbody>\n",
       "    <tr>\n",
       "      <th>0</th>\n",
       "      <td>1</td>\n",
       "      <td>0.0</td>\n",
       "      <td>0.00</td>\n",
       "      <td>1.13</td>\n",
       "      <td>0.0</td>\n",
       "      <td>0.37</td>\n",
       "      <td>0.00</td>\n",
       "      <td>0.00</td>\n",
       "      <td>0.0</td>\n",
       "      <td>0.00</td>\n",
       "      <td>...</td>\n",
       "      <td>0.0</td>\n",
       "      <td>0.145</td>\n",
       "      <td>0.000</td>\n",
       "      <td>0.436</td>\n",
       "      <td>0.000</td>\n",
       "      <td>0.0</td>\n",
       "      <td>1.792</td>\n",
       "      <td>55</td>\n",
       "      <td>147</td>\n",
       "      <td>0</td>\n",
       "    </tr>\n",
       "    <tr>\n",
       "      <th>1</th>\n",
       "      <td>2</td>\n",
       "      <td>0.0</td>\n",
       "      <td>0.00</td>\n",
       "      <td>0.60</td>\n",
       "      <td>0.0</td>\n",
       "      <td>0.00</td>\n",
       "      <td>0.60</td>\n",
       "      <td>0.00</td>\n",
       "      <td>0.0</td>\n",
       "      <td>0.60</td>\n",
       "      <td>...</td>\n",
       "      <td>0.0</td>\n",
       "      <td>0.143</td>\n",
       "      <td>0.047</td>\n",
       "      <td>0.191</td>\n",
       "      <td>0.143</td>\n",
       "      <td>0.0</td>\n",
       "      <td>2.041</td>\n",
       "      <td>31</td>\n",
       "      <td>196</td>\n",
       "      <td>1</td>\n",
       "    </tr>\n",
       "    <tr>\n",
       "      <th>2</th>\n",
       "      <td>3</td>\n",
       "      <td>0.0</td>\n",
       "      <td>0.00</td>\n",
       "      <td>0.48</td>\n",
       "      <td>0.0</td>\n",
       "      <td>0.00</td>\n",
       "      <td>0.00</td>\n",
       "      <td>0.00</td>\n",
       "      <td>0.0</td>\n",
       "      <td>0.00</td>\n",
       "      <td>...</td>\n",
       "      <td>0.0</td>\n",
       "      <td>0.000</td>\n",
       "      <td>0.000</td>\n",
       "      <td>0.450</td>\n",
       "      <td>0.000</td>\n",
       "      <td>0.0</td>\n",
       "      <td>1.138</td>\n",
       "      <td>4</td>\n",
       "      <td>41</td>\n",
       "      <td>0</td>\n",
       "    </tr>\n",
       "    <tr>\n",
       "      <th>3</th>\n",
       "      <td>4</td>\n",
       "      <td>0.0</td>\n",
       "      <td>0.51</td>\n",
       "      <td>0.00</td>\n",
       "      <td>0.0</td>\n",
       "      <td>0.51</td>\n",
       "      <td>0.51</td>\n",
       "      <td>1.02</td>\n",
       "      <td>0.0</td>\n",
       "      <td>0.00</td>\n",
       "      <td>...</td>\n",
       "      <td>0.0</td>\n",
       "      <td>0.142</td>\n",
       "      <td>0.000</td>\n",
       "      <td>0.071</td>\n",
       "      <td>1.212</td>\n",
       "      <td>0.0</td>\n",
       "      <td>7.025</td>\n",
       "      <td>130</td>\n",
       "      <td>281</td>\n",
       "      <td>1</td>\n",
       "    </tr>\n",
       "    <tr>\n",
       "      <th>4</th>\n",
       "      <td>5</td>\n",
       "      <td>0.0</td>\n",
       "      <td>0.00</td>\n",
       "      <td>0.00</td>\n",
       "      <td>0.0</td>\n",
       "      <td>0.00</td>\n",
       "      <td>0.00</td>\n",
       "      <td>0.00</td>\n",
       "      <td>0.0</td>\n",
       "      <td>0.64</td>\n",
       "      <td>...</td>\n",
       "      <td>0.0</td>\n",
       "      <td>0.116</td>\n",
       "      <td>0.000</td>\n",
       "      <td>0.232</td>\n",
       "      <td>0.000</td>\n",
       "      <td>0.0</td>\n",
       "      <td>1.551</td>\n",
       "      <td>6</td>\n",
       "      <td>45</td>\n",
       "      <td>0</td>\n",
       "    </tr>\n",
       "  </tbody>\n",
       "</table>\n",
       "<p>5 rows × 59 columns</p>\n",
       "</div>"
      ],
      "text/plain": [
       "   0    1     2     3    4     5     6     7    8     9   ...   49     50  \\\n",
       "0   1  0.0  0.00  1.13  0.0  0.37  0.00  0.00  0.0  0.00  ...  0.0  0.145   \n",
       "1   2  0.0  0.00  0.60  0.0  0.00  0.60  0.00  0.0  0.60  ...  0.0  0.143   \n",
       "2   3  0.0  0.00  0.48  0.0  0.00  0.00  0.00  0.0  0.00  ...  0.0  0.000   \n",
       "3   4  0.0  0.51  0.00  0.0  0.51  0.51  1.02  0.0  0.00  ...  0.0  0.142   \n",
       "4   5  0.0  0.00  0.00  0.0  0.00  0.00  0.00  0.0  0.64  ...  0.0  0.116   \n",
       "\n",
       "      51     52     53   54     55   56   57  58  \n",
       "0  0.000  0.436  0.000  0.0  1.792   55  147   0  \n",
       "1  0.047  0.191  0.143  0.0  2.041   31  196   1  \n",
       "2  0.000  0.450  0.000  0.0  1.138    4   41   0  \n",
       "3  0.000  0.071  1.212  0.0  7.025  130  281   1  \n",
       "4  0.000  0.232  0.000  0.0  1.551    6   45   0  \n",
       "\n",
       "[5 rows x 59 columns]"
      ]
     },
     "execution_count": 13,
     "metadata": {},
     "output_type": "execute_result"
    }
   ],
   "source": [
    "import os\n",
    "path = 'income.csv'\n",
    "data = pd.read_csv(path, header = None)\n",
    "\n",
    "data.head()"
   ]
  },
  {
   "cell_type": "code",
   "execution_count": 14,
   "metadata": {},
   "outputs": [
    {
     "data": {
      "text/plain": [
       "(4000, 59)"
      ]
     },
     "execution_count": 14,
     "metadata": {},
     "output_type": "execute_result"
    }
   ],
   "source": [
    "data.shape"
   ]
  },
  {
   "cell_type": "markdown",
   "metadata": {},
   "source": [
    "因为这个数据中ID没啥用，所以为了方便处理，将ID那一列置为1，作为第一个特征，方便确定$\\theta_0$"
   ]
  },
  {
   "cell_type": "code",
   "execution_count": 15,
   "metadata": {
    "scrolled": true
   },
   "outputs": [
    {
     "data": {
      "text/html": [
       "<div>\n",
       "<style scoped>\n",
       "    .dataframe tbody tr th:only-of-type {\n",
       "        vertical-align: middle;\n",
       "    }\n",
       "\n",
       "    .dataframe tbody tr th {\n",
       "        vertical-align: top;\n",
       "    }\n",
       "\n",
       "    .dataframe thead th {\n",
       "        text-align: right;\n",
       "    }\n",
       "</style>\n",
       "<table border=\"1\" class=\"dataframe\">\n",
       "  <thead>\n",
       "    <tr style=\"text-align: right;\">\n",
       "      <th></th>\n",
       "      <th>0</th>\n",
       "      <th>1</th>\n",
       "      <th>2</th>\n",
       "      <th>3</th>\n",
       "      <th>4</th>\n",
       "      <th>5</th>\n",
       "      <th>6</th>\n",
       "      <th>7</th>\n",
       "      <th>8</th>\n",
       "      <th>9</th>\n",
       "      <th>...</th>\n",
       "      <th>49</th>\n",
       "      <th>50</th>\n",
       "      <th>51</th>\n",
       "      <th>52</th>\n",
       "      <th>53</th>\n",
       "      <th>54</th>\n",
       "      <th>55</th>\n",
       "      <th>56</th>\n",
       "      <th>57</th>\n",
       "      <th>58</th>\n",
       "    </tr>\n",
       "  </thead>\n",
       "  <tbody>\n",
       "    <tr>\n",
       "      <th>0</th>\n",
       "      <td>1.0</td>\n",
       "      <td>0.0</td>\n",
       "      <td>0.00</td>\n",
       "      <td>1.13</td>\n",
       "      <td>0.0</td>\n",
       "      <td>0.37</td>\n",
       "      <td>0.00</td>\n",
       "      <td>0.00</td>\n",
       "      <td>0.0</td>\n",
       "      <td>0.00</td>\n",
       "      <td>...</td>\n",
       "      <td>0.0</td>\n",
       "      <td>0.145</td>\n",
       "      <td>0.000</td>\n",
       "      <td>0.436</td>\n",
       "      <td>0.000</td>\n",
       "      <td>0.0</td>\n",
       "      <td>1.792</td>\n",
       "      <td>55</td>\n",
       "      <td>147</td>\n",
       "      <td>0</td>\n",
       "    </tr>\n",
       "    <tr>\n",
       "      <th>1</th>\n",
       "      <td>1.0</td>\n",
       "      <td>0.0</td>\n",
       "      <td>0.00</td>\n",
       "      <td>0.60</td>\n",
       "      <td>0.0</td>\n",
       "      <td>0.00</td>\n",
       "      <td>0.60</td>\n",
       "      <td>0.00</td>\n",
       "      <td>0.0</td>\n",
       "      <td>0.60</td>\n",
       "      <td>...</td>\n",
       "      <td>0.0</td>\n",
       "      <td>0.143</td>\n",
       "      <td>0.047</td>\n",
       "      <td>0.191</td>\n",
       "      <td>0.143</td>\n",
       "      <td>0.0</td>\n",
       "      <td>2.041</td>\n",
       "      <td>31</td>\n",
       "      <td>196</td>\n",
       "      <td>1</td>\n",
       "    </tr>\n",
       "    <tr>\n",
       "      <th>2</th>\n",
       "      <td>1.0</td>\n",
       "      <td>0.0</td>\n",
       "      <td>0.00</td>\n",
       "      <td>0.48</td>\n",
       "      <td>0.0</td>\n",
       "      <td>0.00</td>\n",
       "      <td>0.00</td>\n",
       "      <td>0.00</td>\n",
       "      <td>0.0</td>\n",
       "      <td>0.00</td>\n",
       "      <td>...</td>\n",
       "      <td>0.0</td>\n",
       "      <td>0.000</td>\n",
       "      <td>0.000</td>\n",
       "      <td>0.450</td>\n",
       "      <td>0.000</td>\n",
       "      <td>0.0</td>\n",
       "      <td>1.138</td>\n",
       "      <td>4</td>\n",
       "      <td>41</td>\n",
       "      <td>0</td>\n",
       "    </tr>\n",
       "    <tr>\n",
       "      <th>3</th>\n",
       "      <td>1.0</td>\n",
       "      <td>0.0</td>\n",
       "      <td>0.51</td>\n",
       "      <td>0.00</td>\n",
       "      <td>0.0</td>\n",
       "      <td>0.51</td>\n",
       "      <td>0.51</td>\n",
       "      <td>1.02</td>\n",
       "      <td>0.0</td>\n",
       "      <td>0.00</td>\n",
       "      <td>...</td>\n",
       "      <td>0.0</td>\n",
       "      <td>0.142</td>\n",
       "      <td>0.000</td>\n",
       "      <td>0.071</td>\n",
       "      <td>1.212</td>\n",
       "      <td>0.0</td>\n",
       "      <td>7.025</td>\n",
       "      <td>130</td>\n",
       "      <td>281</td>\n",
       "      <td>1</td>\n",
       "    </tr>\n",
       "    <tr>\n",
       "      <th>4</th>\n",
       "      <td>1.0</td>\n",
       "      <td>0.0</td>\n",
       "      <td>0.00</td>\n",
       "      <td>0.00</td>\n",
       "      <td>0.0</td>\n",
       "      <td>0.00</td>\n",
       "      <td>0.00</td>\n",
       "      <td>0.00</td>\n",
       "      <td>0.0</td>\n",
       "      <td>0.64</td>\n",
       "      <td>...</td>\n",
       "      <td>0.0</td>\n",
       "      <td>0.116</td>\n",
       "      <td>0.000</td>\n",
       "      <td>0.232</td>\n",
       "      <td>0.000</td>\n",
       "      <td>0.0</td>\n",
       "      <td>1.551</td>\n",
       "      <td>6</td>\n",
       "      <td>45</td>\n",
       "      <td>0</td>\n",
       "    </tr>\n",
       "  </tbody>\n",
       "</table>\n",
       "<p>5 rows × 59 columns</p>\n",
       "</div>"
      ],
      "text/plain": [
       "    0    1     2     3    4     5     6     7    8     9   ...   49     50  \\\n",
       "0  1.0  0.0  0.00  1.13  0.0  0.37  0.00  0.00  0.0  0.00  ...  0.0  0.145   \n",
       "1  1.0  0.0  0.00  0.60  0.0  0.00  0.60  0.00  0.0  0.60  ...  0.0  0.143   \n",
       "2  1.0  0.0  0.00  0.48  0.0  0.00  0.00  0.00  0.0  0.00  ...  0.0  0.000   \n",
       "3  1.0  0.0  0.51  0.00  0.0  0.51  0.51  1.02  0.0  0.00  ...  0.0  0.142   \n",
       "4  1.0  0.0  0.00  0.00  0.0  0.00  0.00  0.00  0.0  0.64  ...  0.0  0.116   \n",
       "\n",
       "      51     52     53   54     55   56   57  58  \n",
       "0  0.000  0.436  0.000  0.0  1.792   55  147   0  \n",
       "1  0.047  0.191  0.143  0.0  2.041   31  196   1  \n",
       "2  0.000  0.450  0.000  0.0  1.138    4   41   0  \n",
       "3  0.000  0.071  1.212  0.0  7.025  130  281   1  \n",
       "4  0.000  0.232  0.000  0.0  1.551    6   45   0  \n",
       "\n",
       "[5 rows x 59 columns]"
      ]
     },
     "execution_count": 15,
     "metadata": {},
     "output_type": "execute_result"
    }
   ],
   "source": [
    "data[[0]] = data[[0]] / data[[0]]\n",
    "data.head()"
   ]
  },
  {
   "cell_type": "code",
   "execution_count": 16,
   "metadata": {},
   "outputs": [
    {
     "data": {
      "text/plain": [
       "Text(0, 0.5, 'Frequency')"
      ]
     },
     "execution_count": 16,
     "metadata": {},
     "output_type": "execute_result"
    },
    {
     "data": {
      "image/png": "[encoded data removed]",
      "text/plain": [
       "<Figure size 432x288 with 1 Axes>"
      ]
     },
     "metadata": {
      "needs_background": "light"
     },
     "output_type": "display_data"
    }
   ],
   "source": [
    "count_classes = pd.value_counts(data[58], sort = True).sort_index()\n",
    "count_classes.plot(kind = 'bar')# kind = 'bar',表示画条形图\n",
    "plt.title(\"income > 50k\")\n",
    "plt.xlabel(\"F or T\")\n",
    "plt.ylabel(\"Frequency\")"
   ]
  },
  {
   "cell_type": "markdown",
   "metadata": {},
   "source": [
    "可以发现样本中收入大于60k和小于的差距不是特别悬殊，故暂时不对样本进行均衡处理\n",
    "\n",
    "均衡处理方案：下采样（同样少）、过采样（同样多）"
   ]
  },
  {
   "cell_type": "markdown",
   "metadata": {},
   "source": [
    "#### 0.数据切分\n",
    "\n",
    "利用sklearn中的train_test_split函数"
   ]
  },
  {
   "cell_type": "code",
   "execution_count": 17,
   "metadata": {
    "scrolled": true
   },
   "outputs": [
    {
     "name": "stdout",
     "output_type": "stream",
     "text": [
      "Number transactions train dataset:  3000\n",
      "Number transactions test dataset:  1000\n",
      "Total number of transactions:  4000\n"
     ]
    }
   ],
   "source": [
    "Data = data.values \n",
    "cols = Data.shape[1]\n",
    "X = Data[:,0:cols-1] # 特征\n",
    "y = Data[:,cols-1:cols]  # class\n",
    "\n",
    "from sklearn.model_selection import train_test_split\n",
    "\n",
    "X_train, X_test, y_train, y_test = train_test_split(X, y, test_size = 0.25, random_state = 0)\n",
    "\n",
    "print(\"Number transactions train dataset: \", len(X_train))\n",
    "print(\"Number transactions test dataset: \", len(X_test))\n",
    "print(\"Total number of transactions: \", len(X_train)+len(X_test))"
   ]
  },
  {
   "cell_type": "code",
   "execution_count": 18,
   "metadata": {
    "scrolled": true
   },
   "outputs": [
    {
     "data": {
      "text/plain": [
       "array([[1.000e+00, 0.000e+00, 0.000e+00, 0.000e+00, 0.000e+00, 0.000e+00,\n",
       "        0.000e+00, 0.000e+00, 5.880e+00, 0.000e+00, 0.000e+00, 0.000e+00,\n",
       "        0.000e+00, 0.000e+00, 0.000e+00, 0.000e+00, 0.000e+00, 0.000e+00,\n",
       "        0.000e+00, 0.000e+00, 0.000e+00, 0.000e+00, 0.000e+00, 0.000e+00,\n",
       "        0.000e+00, 0.000e+00, 0.000e+00, 0.000e+00, 0.000e+00, 0.000e+00,\n",
       "        0.000e+00, 0.000e+00, 0.000e+00, 0.000e+00, 0.000e+00, 0.000e+00,\n",
       "        0.000e+00, 0.000e+00, 0.000e+00, 0.000e+00, 0.000e+00, 0.000e+00,\n",
       "        0.000e+00, 0.000e+00, 0.000e+00, 0.000e+00, 0.000e+00, 0.000e+00,\n",
       "        0.000e+00, 0.000e+00, 0.000e+00, 0.000e+00, 0.000e+00, 0.000e+00,\n",
       "        0.000e+00, 1.000e+00, 1.000e+00, 1.000e+01],\n",
       "       [1.000e+00, 0.000e+00, 0.000e+00, 0.000e+00, 0.000e+00, 0.000e+00,\n",
       "        0.000e+00, 0.000e+00, 0.000e+00, 0.000e+00, 0.000e+00, 0.000e+00,\n",
       "        1.470e+00, 0.000e+00, 0.000e+00, 0.000e+00, 0.000e+00, 0.000e+00,\n",
       "        0.000e+00, 2.200e+00, 0.000e+00, 7.300e-01, 0.000e+00, 0.000e+00,\n",
       "        0.000e+00, 7.300e-01, 7.300e-01, 0.000e+00, 0.000e+00, 0.000e+00,\n",
       "        0.000e+00, 0.000e+00, 0.000e+00, 0.000e+00, 0.000e+00, 0.000e+00,\n",
       "        0.000e+00, 0.000e+00, 0.000e+00, 0.000e+00, 0.000e+00, 0.000e+00,\n",
       "        0.000e+00, 0.000e+00, 0.000e+00, 0.000e+00, 0.000e+00, 0.000e+00,\n",
       "        0.000e+00, 0.000e+00, 0.000e+00, 0.000e+00, 1.110e-01, 2.230e-01,\n",
       "        0.000e+00, 1.760e+00, 6.000e+00, 8.800e+01],\n",
       "       [1.000e+00, 0.000e+00, 0.000e+00, 0.000e+00, 0.000e+00, 0.000e+00,\n",
       "        1.120e+00, 0.000e+00, 0.000e+00, 0.000e+00, 0.000e+00, 0.000e+00,\n",
       "        0.000e+00, 0.000e+00, 0.000e+00, 0.000e+00, 0.000e+00, 0.000e+00,\n",
       "        0.000e+00, 2.240e+00, 0.000e+00, 0.000e+00, 0.000e+00, 0.000e+00,\n",
       "        0.000e+00, 0.000e+00, 0.000e+00, 0.000e+00, 0.000e+00, 0.000e+00,\n",
       "        0.000e+00, 0.000e+00, 0.000e+00, 0.000e+00, 0.000e+00, 0.000e+00,\n",
       "        0.000e+00, 0.000e+00, 0.000e+00, 0.000e+00, 0.000e+00, 0.000e+00,\n",
       "        0.000e+00, 0.000e+00, 0.000e+00, 0.000e+00, 0.000e+00, 0.000e+00,\n",
       "        0.000e+00, 0.000e+00, 3.920e-01, 0.000e+00, 3.333e+00, 0.000e+00,\n",
       "        0.000e+00, 2.551e+00, 1.200e+01, 7.400e+01],\n",
       "       [1.000e+00, 0.000e+00, 0.000e+00, 1.330e+00, 0.000e+00, 1.780e+00,\n",
       "        4.400e-01, 0.000e+00, 4.400e-01, 0.000e+00, 0.000e+00, 0.000e+00,\n",
       "        0.000e+00, 0.000e+00, 0.000e+00, 0.000e+00, 0.000e+00, 0.000e+00,\n",
       "        0.000e+00, 4.460e+00, 8.900e-01, 8.900e-01, 0.000e+00, 4.400e-01,\n",
       "        0.000e+00, 0.000e+00, 0.000e+00, 0.000e+00, 0.000e+00, 0.000e+00,\n",
       "        0.000e+00, 0.000e+00, 0.000e+00, 0.000e+00, 0.000e+00, 0.000e+00,\n",
       "        0.000e+00, 0.000e+00, 0.000e+00, 0.000e+00, 0.000e+00, 0.000e+00,\n",
       "        0.000e+00, 0.000e+00, 0.000e+00, 4.400e-01, 0.000e+00, 0.000e+00,\n",
       "        0.000e+00, 7.800e-02, 7.800e-02, 0.000e+00, 0.000e+00, 0.000e+00,\n",
       "        0.000e+00, 1.541e+00, 5.000e+00, 3.700e+01],\n",
       "       [1.000e+00, 0.000e+00, 0.000e+00, 0.000e+00, 0.000e+00, 0.000e+00,\n",
       "        0.000e+00, 0.000e+00, 0.000e+00, 0.000e+00, 0.000e+00, 0.000e+00,\n",
       "        4.220e+00, 0.000e+00, 0.000e+00, 0.000e+00, 0.000e+00, 0.000e+00,\n",
       "        0.000e+00, 0.000e+00, 0.000e+00, 1.400e+00, 0.000e+00, 0.000e+00,\n",
       "        0.000e+00, 0.000e+00, 2.810e+00, 0.000e+00, 0.000e+00, 0.000e+00,\n",
       "        0.000e+00, 0.000e+00, 0.000e+00, 0.000e+00, 0.000e+00, 0.000e+00,\n",
       "        0.000e+00, 0.000e+00, 0.000e+00, 0.000e+00, 0.000e+00, 0.000e+00,\n",
       "        2.810e+00, 0.000e+00, 0.000e+00, 0.000e+00, 0.000e+00, 0.000e+00,\n",
       "        0.000e+00, 0.000e+00, 0.000e+00, 0.000e+00, 0.000e+00, 0.000e+00,\n",
       "        0.000e+00, 3.153e+00, 3.800e+01, 8.200e+01]])"
      ]
     },
     "execution_count": 18,
     "metadata": {},
     "output_type": "execute_result"
    }
   ],
   "source": [
    "X_train[:5]"
   ]
  },
  {
   "cell_type": "code",
   "execution_count": 19,
   "metadata": {},
   "outputs": [
    {
     "data": {
      "text/plain": [
       "array([[0.],\n",
       "       [0.],\n",
       "       [1.],\n",
       "       [1.],\n",
       "       [0.]])"
      ]
     },
     "execution_count": 19,
     "metadata": {},
     "output_type": "execute_result"
    }
   ],
   "source": [
    "y_train[:5]"
   ]
  },
  {
   "cell_type": "markdown",
   "metadata": {},
   "source": [
    "将参数$\\theta$初始化"
   ]
  },
  {
   "cell_type": "code",
   "execution_count": 20,
   "metadata": {},
   "outputs": [
    {
     "data": {
      "text/plain": [
       "(1, 58)"
      ]
     },
     "execution_count": 20,
     "metadata": {},
     "output_type": "execute_result"
    }
   ],
   "source": [
    "theta = np.zeros([1,58])\n",
    "theta.shape"
   ]
  },
  {
   "cell_type": "markdown",
   "metadata": {},
   "source": [
    "#### 1.sigmoid函数实现\n",
    "\n",
    "$$g(z)=\\frac{1}{1+e^ {-z}} $$"
   ]
  },
  {
   "cell_type": "code",
   "execution_count": 21,
   "metadata": {},
   "outputs": [],
   "source": [
    "def sigmoid(z):\n",
    "    return 1. / (1 + np.exp(-z))"
   ]
  },
  {
   "cell_type": "code",
   "execution_count": 22,
   "metadata": {},
   "outputs": [
    {
     "data": {
      "text/plain": [
       "[<matplotlib.lines.Line2D at 0x247f70f7248>]"
      ]
     },
     "execution_count": 22,
     "metadata": {},
     "output_type": "execute_result"
    },
    {
     "data": {
      "image/png": "[encoded data removed]",
      "text/plain": [
       "<Figure size 864x288 with 1 Axes>"
      ]
     },
     "metadata": {},
     "output_type": "display_data"
    }
   ],
   "source": [
    "sns.set_style(\"whitegrid\")\n",
    "nums = np.arange(-10, 10, step = 1)\n",
    "fig, ax = plt.subplots(figsize=(12, 4))\n",
    "ax.plot(nums, sigmoid(nums), 'r')"
   ]
  },
  {
   "cell_type": "markdown",
   "metadata": {},
   "source": [
    "#### 2.model(预测函数)实现\n",
    "\n",
    "$$ h_\\theta(x)=g(\\theta^Tx)=\\frac{1}{1+e^{-\\theta^Tx}}$$"
   ]
  },
  {
   "cell_type": "code",
   "execution_count": 23,
   "metadata": {},
   "outputs": [],
   "source": [
    "def model(X, theta):\n",
    "    return sigmoid(np.dot(X,theta.T))"
   ]
  },
  {
   "cell_type": "markdown",
   "metadata": {},
   "source": [
    "#### 3.损失函数\n",
    "\n",
    "将对数似然函数去掉负号\n",
    "\n",
    "$$Cost(h_\\theta(x),y) = -y\\log(h_\\theta(x))-(1-y)\\log(1-h_\\theta(x))$$\n",
    "\n",
    "另外引入正则化参数后，损失函数变为，使用L2正则化：\n",
    "\n",
    "求平均损失：\n",
    "\n",
    "$$J(\\theta)=\\frac{1}{m}\\sum_{i=1}^{m}{Cost(h_\\theta(x_i),y_i)}$$\n",
    "\n",
    "另外引入正则化参数后，损失函数变为，使用L2正则化：\n",
    "\n",
    "$$J(\\theta) = -\\frac{1}{m}\\sum_{i=1}^{m}{(y_ilogh_\\theta(x_i)+(1-y_i)log(1-h_\\theta(x_i)))}+\\frac{\\lambda}{2m}\\sum_{j=1}^{n}{\\theta_{j}^2}$$\n",
    "\n",
    "\n",
    "\n",
    "$$model(X,theta) = h_\\theta(x)$$"
   ]
  },
  {
   "cell_type": "code",
   "execution_count": 24,
   "metadata": {},
   "outputs": [],
   "source": [
    "def cost(X, y, theta):\n",
    "    left = np.multiply(-y, np.log(model(X, theta)+0.000000001))\n",
    "    right = np.multiply(1-y, np.log(1-model(X, theta)+0.000000001))\n",
    "    return (np.sum(left - right) / len(X))"
   ]
  },
  {
   "cell_type": "code",
   "execution_count": 25,
   "metadata": {},
   "outputs": [
    {
     "data": {
      "text/plain": [
       "0.6931471785599455"
      ]
     },
     "execution_count": 25,
     "metadata": {},
     "output_type": "execute_result"
    }
   ],
   "source": [
    "cost(X_train,y_train,theta)"
   ]
  },
  {
   "cell_type": "markdown",
   "metadata": {},
   "source": [
    "#### 4.计算梯度\n",
    "\n",
    "$$\\frac{\\partial J}{\\partial\\theta_j} = -\\frac{1}{m}\\sum_{i=1}^{m}(y_i-\n",
    "h_\\theta(x_i))x_i^j$$\n",
    "\n",
    "引入正则化后：\n",
    "\n",
    "$$\\frac{\\partial J(\\theta)}{\\partial\\theta_j} = (\\frac{1}{m}\\sum_{i=1}^{m}(h_\\theta(x_i)-y_i)x_i^j)+\\frac{\\lambda}{m}\\theta_j$$"
   ]
  },
  {
   "cell_type": "code",
   "execution_count": 26,
   "metadata": {},
   "outputs": [],
   "source": [
    "def gradient(X, y, theta):\n",
    "    grad = np.zeros(theta.shape)\n",
    "    error = (model(X, theta)-y).ravel()\n",
    "    for j in range(len(theta.ravel())):\n",
    "        term = np.multiply(error, X[:,j])\n",
    "        grad[0, j] = np.sum(term) / len(X)\n",
    "        \n",
    "    return grad"
   ]
  },
  {
   "cell_type": "markdown",
   "metadata": {},
   "source": [
    "#### 几种停止策略"
   ]
  },
  {
   "cell_type": "code",
   "execution_count": 27,
   "metadata": {},
   "outputs": [],
   "source": [
    "STOP_ITER = 0 # 以迭代次数为准\n",
    "STOP_COST = 1 # 以损失值为准\n",
    "STOP_GRAD = 2 # 以梯度为准\n",
    "# 上面是三种梯度下降停止策略\n",
    "def stopCriterion(type, value, threshold):\n",
    "    if type == STOP_ITER:\n",
    "        return value > threshold\n",
    "    elif type == STOP_COST:\n",
    "        return abs(value[-1]-value[-2]) < threshold\n",
    "    elif type == STOP_GRAD:\n",
    "        return np.linalg.norm(value) < threshold"
   ]
  },
  {
   "cell_type": "markdown",
   "metadata": {},
   "source": [
    "#### 梯度下降求解"
   ]
  },
  {
   "cell_type": "code",
   "execution_count": 28,
   "metadata": {},
   "outputs": [],
   "source": [
    "import time\n",
    "# 梯度下降求解\n",
    "def descent(X, y, theta, batchSize, stopType, thresh, alpha):\n",
    "    init_time = time.time()\n",
    "    i = 0  # 迭代次数\n",
    "    k = 0  # batch\n",
    "    # X, y = shuffleData(data)\n",
    "    grad = np.zeros(theta.shape)  # 计算的梯度\n",
    "    costs = [cost(X, y, theta)]  # 损失值\n",
    "    \n",
    "    while True:\n",
    "        grad = gradient(X[k:k+batchSize], y[k:k+batchSize], theta)\n",
    "        k += batchSize  # 取batch数量个数据\n",
    "        if k >= n:\n",
    "            k = 0\n",
    "            # X, y = shuffleData(data)  # 重新洗牌\n",
    "        theta = theta - alpha*grad  # 参数更新\n",
    "        costs.append(cost(X, y, theta))  # 计算新的损失\n",
    "        i += 1\n",
    "        \n",
    "        if stopType == STOP_ITER:\n",
    "            value = i\n",
    "        elif stopType == STOP_COST:\n",
    "            value = costs\n",
    "        elif stopType == STOP_GRAD:\n",
    "            value = grad\n",
    "        if stopCriterion(stopType, value, thresh):\n",
    "            break\n",
    "        \n",
    "    return theta, i-1, costs, grad, time.time() - init_time"
   ]
  },
  {
   "cell_type": "code",
   "execution_count": 29,
   "metadata": {},
   "outputs": [],
   "source": [
    "def runExpe(X, y, theta, batchSize, stopType, thresh, alpha):\n",
    "    theta, iter, costs, grad, dur = descent(X, y, theta, batchSize, stopType, thresh, alpha)  \n",
    "    print(\"theta:{}\".format(theta))\n",
    "    print(\"duration:{:03.2f}s\".format(dur))\n",
    "    fig, ax = plt.subplots(figsize=(12,4))\n",
    "    # print(costs)\n",
    "    # print(len(costs))\n",
    "    # print(type(costs))\n",
    "    ax.plot(np.arange(len(costs)), costs, 'r')\n",
    "    ax.set_xlabel('Iteration')\n",
    "    ax.set_ylabel('Cost')\n",
    "    #ax.set_title(name.upper() + ' - Error vs. Iteration')\n",
    "    ax.set_title('loss')\n",
    "    return theta"
   ]
  },
  {
   "cell_type": "markdown",
   "metadata": {},
   "source": [
    "### 不同停止策略对结果的影响\n",
    "\n",
    "#### 1.设定迭代次数\n",
    "\n",
    "#### 2.设定阈值\n",
    "\n",
    "直到损失函数减小的值小于thresh时，停止迭代\n",
    "\n",
    "#### 3.根据梯度变化\n",
    "\n",
    "设定阈值thresh，当梯度变化小于这个值的时候停止迭代"
   ]
  },
  {
   "cell_type": "markdown",
   "metadata": {},
   "source": [
    "### 对比不同的梯度下降方法\n",
    "\n",
    "#### 1.随机梯度下降\n",
    "\n",
    "#### 2.Mini-batch"
   ]
  },
  {
   "cell_type": "code",
   "execution_count": 30,
   "metadata": {},
   "outputs": [],
   "source": [
    "n = 3000"
   ]
  },
  {
   "cell_type": "code",
   "execution_count": 31,
   "metadata": {
    "scrolled": true
   },
   "outputs": [
    {
     "name": "stderr",
     "output_type": "stream",
     "text": [
      "G:\\Anaconda3\\lib\\site-packages\\ipykernel_launcher.py:2: RuntimeWarning: overflow encountered in exp\n",
      "  \n"
     ]
    },
    {
     "name": "stdout",
     "output_type": "stream",
     "text": [
      "theta:[[-1.1875267  -0.05127322 -0.47364156 -0.14221558  0.04034296 -0.0148043\n",
      "   0.02768807  0.11014966  0.05429383  0.0492578  -0.06272375  0.01519528\n",
      "  -0.68668975 -0.02756297 -0.03183571  0.04694768  0.16305574  0.07792847\n",
      "  -0.01189918 -0.88832029  0.12550831 -0.06348344  0.153882    0.14169783\n",
      "   0.12284113 -1.44894026 -0.7329898  -0.92355607 -0.34717649 -0.25585104\n",
      "  -0.26258639 -0.17672846 -0.10607129 -0.30193131 -0.10424317 -0.32351625\n",
      "  -0.20409517 -0.34425865 -0.02162298 -0.23704423 -0.11076514 -0.16046604\n",
      "  -0.39925214 -0.11871195 -0.19243118 -0.62451224 -0.55038813 -0.00890981\n",
      "  -0.09346236 -0.06907859 -0.22154556 -0.03491131  0.07917127  0.08057946\n",
      "   0.02050078 -1.84046134  2.71333048 -0.21080113]]\n",
      "duration:0.35s\n"
     ]
    },
    {
     "data": {
      "text/plain": [
       "array([[-1.1875267 , -0.05127322, -0.47364156, -0.14221558,  0.04034296,\n",
       "        -0.0148043 ,  0.02768807,  0.11014966,  0.05429383,  0.0492578 ,\n",
       "        -0.06272375,  0.01519528, -0.68668975, -0.02756297, -0.03183571,\n",
       "         0.04694768,  0.16305574,  0.07792847, -0.01189918, -0.88832029,\n",
       "         0.12550831, -0.06348344,  0.153882  ,  0.14169783,  0.12284113,\n",
       "        -1.44894026, -0.7329898 , -0.92355607, -0.34717649, -0.25585104,\n",
       "        -0.26258639, -0.17672846, -0.10607129, -0.30193131, -0.10424317,\n",
       "        -0.32351625, -0.20409517, -0.34425865, -0.02162298, -0.23704423,\n",
       "        -0.11076514, -0.16046604, -0.39925214, -0.11871195, -0.19243118,\n",
       "        -0.62451224, -0.55038813, -0.00890981, -0.09346236, -0.06907859,\n",
       "        -0.22154556, -0.03491131,  0.07917127,  0.08057946,  0.02050078,\n",
       "        -1.84046134,  2.71333048, -0.21080113]])"
      ]
     },
     "execution_count": 31,
     "metadata": {},
     "output_type": "execute_result"
    },
    {
     "data": {
      "image/png": "[encoded data removed]",
      "text/plain": [
       "<Figure size 864x288 with 1 Axes>"
      ]
     },
     "metadata": {},
     "output_type": "display_data"
    }
   ],
   "source": [
    "runExpe(X_train, y_train, theta, 32, STOP_ITER, thresh=500, alpha=0.01)"
   ]
  },
  {
   "cell_type": "code",
   "execution_count": 32,
   "metadata": {},
   "outputs": [
    {
     "name": "stdout",
     "output_type": "stream",
     "text": [
      "theta:[[-8.22248225e-04 -1.86265948e-06 -3.07294722e-04 -3.63738548e-05\n",
      "   1.14390835e-04  1.13647338e-04  6.10551029e-05  2.00006935e-04\n",
      "   9.63911585e-05  5.12037682e-05 -1.93104842e-06  3.97099555e-05\n",
      "  -4.44944769e-04  4.59272428e-06 -1.28651992e-05  5.06743042e-05\n",
      "   3.12782302e-04  1.46836496e-04  8.08185711e-05 -2.30321848e-04\n",
      "   1.46920329e-04  3.15043984e-04  1.34174371e-04  1.72763307e-04\n",
      "   1.48013713e-04 -1.34039577e-03 -6.33429065e-04 -2.12156912e-03\n",
      "  -2.72131034e-04 -2.26696446e-04 -2.28167738e-04 -1.51753749e-04\n",
      "  -9.78602790e-05 -2.37478173e-04 -9.68516609e-05 -2.44346420e-04\n",
      "  -1.78747779e-04 -2.81376363e-04 -2.26779427e-05 -2.00417950e-04\n",
      "  -8.53615482e-05 -1.17396275e-04 -3.52790998e-04 -1.07352046e-04\n",
      "  -1.86833408e-04 -5.58562483e-04 -4.41336100e-04 -9.57122426e-06\n",
      "  -7.44151537e-05 -5.50352735e-05 -1.70988242e-04 -2.82068352e-05\n",
      "   1.97175496e-04  1.06841880e-04  2.98288733e-05 -7.52974039e-04\n",
      "   7.05346840e-03 -1.09360881e-04]]\n",
      "duration:33.86s\n"
     ]
    },
    {
     "data": {
      "image/png": "[encoded data removed]",
      "text/plain": [
       "<Figure size 864x288 with 1 Axes>"
      ]
     },
     "metadata": {},
     "output_type": "display_data"
    }
   ],
   "source": [
    "theta0 = runExpe(X_train, y_train, theta, 32, STOP_ITER, thresh=50000, alpha=0.0000001)"
   ]
  },
  {
   "cell_type": "code",
   "execution_count": 33,
   "metadata": {},
   "outputs": [
    {
     "data": {
      "text/plain": [
       "array([[-8.22248225e-04, -1.86265948e-06, -3.07294722e-04,\n",
       "        -3.63738548e-05,  1.14390835e-04,  1.13647338e-04,\n",
       "         6.10551029e-05,  2.00006935e-04,  9.63911585e-05,\n",
       "         5.12037682e-05, -1.93104842e-06,  3.97099555e-05,\n",
       "        -4.44944769e-04,  4.59272428e-06, -1.28651992e-05,\n",
       "         5.06743042e-05,  3.12782302e-04,  1.46836496e-04,\n",
       "         8.08185711e-05, -2.30321848e-04,  1.46920329e-04,\n",
       "         3.15043984e-04,  1.34174371e-04,  1.72763307e-04,\n",
       "         1.48013713e-04, -1.34039577e-03, -6.33429065e-04,\n",
       "        -2.12156912e-03, -2.72131034e-04, -2.26696446e-04,\n",
       "        -2.28167738e-04, -1.51753749e-04, -9.78602790e-05,\n",
       "        -2.37478173e-04, -9.68516609e-05, -2.44346420e-04,\n",
       "        -1.78747779e-04, -2.81376363e-04, -2.26779427e-05,\n",
       "        -2.00417950e-04, -8.53615482e-05, -1.17396275e-04,\n",
       "        -3.52790998e-04, -1.07352046e-04, -1.86833408e-04,\n",
       "        -5.58562483e-04, -4.41336100e-04, -9.57122426e-06,\n",
       "        -7.44151537e-05, -5.50352735e-05, -1.70988242e-04,\n",
       "        -2.82068352e-05,  1.97175496e-04,  1.06841880e-04,\n",
       "         2.98288733e-05, -7.52974039e-04,  7.05346840e-03,\n",
       "        -1.09360881e-04]])"
      ]
     },
     "execution_count": 33,
     "metadata": {},
     "output_type": "execute_result"
    }
   ],
   "source": [
    "theta0"
   ]
  },
  {
   "cell_type": "markdown",
   "metadata": {},
   "source": [
    "### 精度预测"
   ]
  },
  {
   "cell_type": "code",
   "execution_count": 402,
   "metadata": {},
   "outputs": [],
   "source": [
    "def predict(X, theta):\n",
    "    # 阈值设定为0.5，概率大于0.5预测值为1，小于0.5则为0\n",
    "    return [1 if x>= 0.5 else 0 for x in model(X, theta)]"
   ]
  },
  {
   "cell_type": "code",
   "execution_count": 464,
   "metadata": {
    "scrolled": false
   },
   "outputs": [
    {
     "data": {
      "text/plain": [
       "0.436"
      ]
     },
     "execution_count": 464,
     "metadata": {},
     "output_type": "execute_result"
    }
   ],
   "source": [
    "from sklearn.metrics import accuracy_score\n",
    "from sklearn.metrics import classification_report\n",
    "\n",
    "y_pred = predict(X_test, theta0)\n",
    "\n",
    "accuracy_score(y_test, y_pred)\n",
    "# classification_report(y_test, y_pred)"
   ]
  },
  {
   "cell_type": "markdown",
   "metadata": {},
   "source": [
    "### 实验优化\n",
    "\n",
    "### 用数据预处理之后再次进行实验"
   ]
  },
  {
   "cell_type": "markdown",
   "metadata": {},
   "source": [
    "#### 数据预处理\n",
    "\n",
    "利用sklearn的一个函数preprocessing对数据进行预处理，使得生成的数据都在一定范围内波动，可以与没有进行预处理的数据最终的结果进行对比"
   ]
  },
  {
   "cell_type": "code",
   "execution_count": 410,
   "metadata": {
    "collapsed": true
   },
   "outputs": [
    {
     "name": "stdout",
     "output_type": "stream",
     "text": [
      "<class 'pandas.core.frame.DataFrame'>\n",
      "<class 'numpy.ndarray'>\n"
     ]
    },
    {
     "data": {
      "text/plain": [
       "array([[ 0.00e+00, -3.46e-01, -1.66e-01,  1.68e+00, -4.53e-02,  8.56e-02,\n",
       "        -3.57e-01, -2.82e-01, -2.59e-01, -3.34e-01, -3.64e-01, -2.92e-01,\n",
       "        -6.23e-01, -3.11e-01, -1.75e-01, -1.90e-01,  1.82e-01, -3.25e-01,\n",
       "         3.54e-01, -2.90e-01, -1.67e-01, -3.61e-01, -1.17e-01, -2.87e-01,\n",
       "        -2.07e-01, -3.26e-01, -3.01e-01, -2.32e-01, -2.27e-01, -1.57e-01,\n",
       "        -2.24e-01, -1.55e-01, -1.43e-01, -1.72e-01, -1.45e-01, -1.89e-01,\n",
       "        -2.47e-01, -3.23e-01, -6.25e-02, -1.80e-01, -1.94e-01, -1.24e-01,\n",
       "        -1.74e-01, -2.06e-01, -1.27e-01, -3.04e-01, -2.01e-01, -6.93e-02,\n",
       "        -1.19e-01, -1.60e-01,  3.37e-02, -1.76e-01,  2.01e-01, -3.02e-01,\n",
       "        -1.03e-01, -1.04e-01,  1.35e-02, -2.38e-01, -7.97e-01],\n",
       "       [ 0.00e+00, -3.46e-01, -1.66e-01,  6.36e-01, -4.53e-02, -4.57e-01,\n",
       "         1.94e+00, -2.82e-01, -2.59e-01,  1.91e+00, -3.64e-01, -2.92e-01,\n",
       "         1.53e+00, -3.11e-01, -1.75e-01, -1.90e-01,  8.54e-02, -3.25e-01,\n",
       "        -3.42e-01,  6.13e-01, -1.67e-01,  3.40e-01, -1.17e-01, -2.87e-01,\n",
       "         1.09e+00, -3.26e-01, -3.01e-01, -2.32e-01, -2.27e-01, -1.57e-01,\n",
       "        -2.24e-01, -1.55e-01, -1.43e-01, -1.72e-01, -1.45e-01, -1.89e-01,\n",
       "        -2.47e-01, -3.23e-01, -6.25e-02, -1.80e-01, -1.94e-01, -1.24e-01,\n",
       "        -1.74e-01, -2.06e-01, -1.27e-01, -3.04e-01, -2.01e-01, -6.93e-02,\n",
       "        -1.19e-01, -1.60e-01,  2.62e-02,  3.27e-01, -9.05e-02,  2.68e-01,\n",
       "        -1.03e-01, -9.64e-02, -1.04e-01, -1.51e-01,  1.25e+00],\n",
       "       [ 0.00e+00, -3.46e-01, -1.66e-01,  4.00e-01, -4.53e-02, -4.57e-01,\n",
       "        -3.57e-01, -2.82e-01, -2.59e-01, -3.34e-01, -3.64e-01, -2.92e-01,\n",
       "        -6.23e-01, -3.11e-01, -1.75e-01, -1.90e-01,  3.35e-01, -3.25e-01,\n",
       "        -3.42e-01,  4.39e-01, -1.67e-01,  1.39e-01, -1.17e-01, -2.87e-01,\n",
       "         8.31e-01, -3.26e-01, -3.01e-01, -2.32e-01, -2.27e-01, -1.57e-01,\n",
       "        -2.24e-01, -1.55e-01, -1.43e-01, -1.72e-01, -1.45e-01, -1.89e-01,\n",
       "        -2.47e-01, -3.23e-01, -6.25e-02, -1.80e-01, -1.94e-01, -1.24e-01,\n",
       "        -1.74e-01, -2.06e-01, -1.27e-01,  1.85e-01, -2.01e-01, -6.93e-02,\n",
       "        -1.19e-01, -1.60e-01, -5.07e-01, -1.76e-01,  2.18e-01, -3.02e-01,\n",
       "        -1.03e-01, -1.24e-01, -2.37e-01, -4.27e-01, -7.97e-01],\n",
       "       [ 0.00e+00, -3.46e-01,  2.04e-01, -5.48e-01, -4.53e-02,  2.91e-01,\n",
       "         1.60e+00,  2.36e+00, -2.59e-01, -3.34e-01, -3.64e-01, -2.92e-01,\n",
       "        -6.23e-01, -3.11e-01, -1.75e-01, -1.90e-01, -3.30e-01, -3.25e-01,\n",
       "         6.17e-01, -6.38e-01, -1.67e-01, -2.45e-01, -1.17e-01,  1.14e+00,\n",
       "        -2.07e-01, -3.26e-01, -3.01e-01, -2.32e-01, -2.27e-01, -1.57e-01,\n",
       "        -2.24e-01, -1.55e-01, -1.43e-01, -1.72e-01, -1.45e-01, -1.89e-01,\n",
       "        -2.47e-01, -3.23e-01, -6.25e-02, -1.80e-01, -1.94e-01, -1.24e-01,\n",
       "        -1.74e-01, -2.06e-01, -1.27e-01, -3.04e-01, -2.01e-01, -6.93e-02,\n",
       "        -1.19e-01, -1.60e-01,  2.25e-02, -1.76e-01, -2.33e-01,  4.53e+00,\n",
       "        -1.03e-01,  5.39e-02,  3.82e-01,  1.26e-03,  1.25e+00],\n",
       "       [ 0.00e+00, -3.46e-01, -1.66e-01, -5.48e-01, -4.53e-02, -4.57e-01,\n",
       "        -3.57e-01, -2.82e-01, -2.59e-01,  2.06e+00, -3.64e-01, -2.92e-01,\n",
       "        -6.23e-01, -3.11e-01, -1.75e-01, -1.90e-01, -3.30e-01, -3.25e-01,\n",
       "        -3.42e-01, -2.00e-01, -1.67e-01, -6.70e-01, -1.17e-01, -2.87e-01,\n",
       "        -2.07e-01, -3.26e-01, -3.01e-01, -2.32e-01, -2.27e-01, -1.57e-01,\n",
       "        -2.24e-01, -1.55e-01, -1.43e-01, -1.72e-01, -1.45e-01, -1.89e-01,\n",
       "        -2.47e-01, -3.23e-01, -6.25e-02, -1.80e-01, -1.94e-01, -1.24e-01,\n",
       "        -1.74e-01, -2.06e-01, -1.27e-01,  3.48e-01, -2.01e-01, -6.93e-02,\n",
       "        -1.19e-01, -1.60e-01, -7.44e-02, -1.76e-01, -4.17e-02, -3.02e-01,\n",
       "        -1.03e-01, -1.11e-01, -2.27e-01, -4.20e-01, -7.97e-01]])"
      ]
     },
     "execution_count": 410,
     "metadata": {},
     "output_type": "execute_result"
    }
   ],
   "source": [
    "from sklearn import preprocessing as pp\n",
    "\n",
    "dealed_data = data.copy()\n",
    "print(type(dealed_data))\n",
    "dealed_data = pp.scale(data, axis=0)\n",
    "print(type(dealed_data))\n",
    "dealed_data[:5]"
   ]
  },
  {
   "cell_type": "markdown",
   "metadata": {},
   "source": [
    "标准化后数据格式变成了ndarray，不方便观察标准化后结果，给变回来变成dataframe"
   ]
  },
  {
   "cell_type": "code",
   "execution_count": 411,
   "metadata": {
    "scrolled": true
   },
   "outputs": [
    {
     "data": {
      "text/html": [
       "<div>\n",
       "<style scoped>\n",
       "    .dataframe tbody tr th:only-of-type {\n",
       "        vertical-align: middle;\n",
       "    }\n",
       "\n",
       "    .dataframe tbody tr th {\n",
       "        vertical-align: top;\n",
       "    }\n",
       "\n",
       "    .dataframe thead th {\n",
       "        text-align: right;\n",
       "    }\n",
       "</style>\n",
       "<table border=\"1\" class=\"dataframe\">\n",
       "  <thead>\n",
       "    <tr style=\"text-align: right;\">\n",
       "      <th></th>\n",
       "      <th>0</th>\n",
       "      <th>1</th>\n",
       "      <th>2</th>\n",
       "      <th>3</th>\n",
       "      <th>4</th>\n",
       "      <th>5</th>\n",
       "      <th>6</th>\n",
       "      <th>7</th>\n",
       "      <th>8</th>\n",
       "      <th>9</th>\n",
       "      <th>...</th>\n",
       "      <th>49</th>\n",
       "      <th>50</th>\n",
       "      <th>51</th>\n",
       "      <th>52</th>\n",
       "      <th>53</th>\n",
       "      <th>54</th>\n",
       "      <th>55</th>\n",
       "      <th>56</th>\n",
       "      <th>57</th>\n",
       "      <th>58</th>\n",
       "    </tr>\n",
       "  </thead>\n",
       "  <tbody>\n",
       "    <tr>\n",
       "      <th>0</th>\n",
       "      <td>0.0</td>\n",
       "      <td>-0.345874</td>\n",
       "      <td>-0.165937</td>\n",
       "      <td>1.682807</td>\n",
       "      <td>-0.045272</td>\n",
       "      <td>0.085624</td>\n",
       "      <td>-0.356976</td>\n",
       "      <td>-0.282492</td>\n",
       "      <td>-0.25936</td>\n",
       "      <td>-0.334026</td>\n",
       "      <td>...</td>\n",
       "      <td>-0.159701</td>\n",
       "      <td>0.033670</td>\n",
       "      <td>-0.176108</td>\n",
       "      <td>0.201020</td>\n",
       "      <td>-0.302462</td>\n",
       "      <td>-0.102646</td>\n",
       "      <td>-0.103960</td>\n",
       "      <td>0.013458</td>\n",
       "      <td>-0.238062</td>\n",
       "      <td>-0.797072</td>\n",
       "    </tr>\n",
       "    <tr>\n",
       "      <th>1</th>\n",
       "      <td>0.0</td>\n",
       "      <td>-0.345874</td>\n",
       "      <td>-0.165937</td>\n",
       "      <td>0.636491</td>\n",
       "      <td>-0.045272</td>\n",
       "      <td>-0.456581</td>\n",
       "      <td>1.942201</td>\n",
       "      <td>-0.282492</td>\n",
       "      <td>-0.25936</td>\n",
       "      <td>1.914865</td>\n",
       "      <td>...</td>\n",
       "      <td>-0.159701</td>\n",
       "      <td>0.026219</td>\n",
       "      <td>0.327348</td>\n",
       "      <td>-0.090481</td>\n",
       "      <td>0.268144</td>\n",
       "      <td>-0.102646</td>\n",
       "      <td>-0.096448</td>\n",
       "      <td>-0.104431</td>\n",
       "      <td>-0.150551</td>\n",
       "      <td>1.254593</td>\n",
       "    </tr>\n",
       "    <tr>\n",
       "      <th>2</th>\n",
       "      <td>0.0</td>\n",
       "      <td>-0.345874</td>\n",
       "      <td>-0.165937</td>\n",
       "      <td>0.399589</td>\n",
       "      <td>-0.045272</td>\n",
       "      <td>-0.456581</td>\n",
       "      <td>-0.356976</td>\n",
       "      <td>-0.282492</td>\n",
       "      <td>-0.25936</td>\n",
       "      <td>-0.334026</td>\n",
       "      <td>...</td>\n",
       "      <td>-0.159701</td>\n",
       "      <td>-0.506573</td>\n",
       "      <td>-0.176108</td>\n",
       "      <td>0.217677</td>\n",
       "      <td>-0.302462</td>\n",
       "      <td>-0.102646</td>\n",
       "      <td>-0.123691</td>\n",
       "      <td>-0.237055</td>\n",
       "      <td>-0.427374</td>\n",
       "      <td>-0.797072</td>\n",
       "    </tr>\n",
       "    <tr>\n",
       "      <th>3</th>\n",
       "      <td>0.0</td>\n",
       "      <td>-0.345874</td>\n",
       "      <td>0.204054</td>\n",
       "      <td>-0.548018</td>\n",
       "      <td>-0.045272</td>\n",
       "      <td>0.290783</td>\n",
       "      <td>1.597325</td>\n",
       "      <td>2.360100</td>\n",
       "      <td>-0.25936</td>\n",
       "      <td>-0.334026</td>\n",
       "      <td>...</td>\n",
       "      <td>-0.159701</td>\n",
       "      <td>0.022493</td>\n",
       "      <td>-0.176108</td>\n",
       "      <td>-0.233257</td>\n",
       "      <td>4.533722</td>\n",
       "      <td>-0.102646</td>\n",
       "      <td>0.053915</td>\n",
       "      <td>0.381859</td>\n",
       "      <td>0.001256</td>\n",
       "      <td>1.254593</td>\n",
       "    </tr>\n",
       "    <tr>\n",
       "      <th>4</th>\n",
       "      <td>0.0</td>\n",
       "      <td>-0.345874</td>\n",
       "      <td>-0.165937</td>\n",
       "      <td>-0.548018</td>\n",
       "      <td>-0.045272</td>\n",
       "      <td>-0.456581</td>\n",
       "      <td>-0.356976</td>\n",
       "      <td>-0.282492</td>\n",
       "      <td>-0.25936</td>\n",
       "      <td>2.064791</td>\n",
       "      <td>...</td>\n",
       "      <td>-0.159701</td>\n",
       "      <td>-0.074378</td>\n",
       "      <td>-0.176108</td>\n",
       "      <td>-0.041699</td>\n",
       "      <td>-0.302462</td>\n",
       "      <td>-0.102646</td>\n",
       "      <td>-0.111231</td>\n",
       "      <td>-0.227231</td>\n",
       "      <td>-0.420230</td>\n",
       "      <td>-0.797072</td>\n",
       "    </tr>\n",
       "  </tbody>\n",
       "</table>\n",
       "<p>5 rows × 59 columns</p>\n",
       "</div>"
      ],
      "text/plain": [
       "    0         1         2         3         4         5         6         7   \\\n",
       "0  0.0 -0.345874 -0.165937  1.682807 -0.045272  0.085624 -0.356976 -0.282492   \n",
       "1  0.0 -0.345874 -0.165937  0.636491 -0.045272 -0.456581  1.942201 -0.282492   \n",
       "2  0.0 -0.345874 -0.165937  0.399589 -0.045272 -0.456581 -0.356976 -0.282492   \n",
       "3  0.0 -0.345874  0.204054 -0.548018 -0.045272  0.290783  1.597325  2.360100   \n",
       "4  0.0 -0.345874 -0.165937 -0.548018 -0.045272 -0.456581 -0.356976 -0.282492   \n",
       "\n",
       "        8         9   ...        49        50        51        52        53  \\\n",
       "0 -0.25936 -0.334026  ... -0.159701  0.033670 -0.176108  0.201020 -0.302462   \n",
       "1 -0.25936  1.914865  ... -0.159701  0.026219  0.327348 -0.090481  0.268144   \n",
       "2 -0.25936 -0.334026  ... -0.159701 -0.506573 -0.176108  0.217677 -0.302462   \n",
       "3 -0.25936 -0.334026  ... -0.159701  0.022493 -0.176108 -0.233257  4.533722   \n",
       "4 -0.25936  2.064791  ... -0.159701 -0.074378 -0.176108 -0.041699 -0.302462   \n",
       "\n",
       "         54        55        56        57        58  \n",
       "0 -0.102646 -0.103960  0.013458 -0.238062 -0.797072  \n",
       "1 -0.102646 -0.096448 -0.104431 -0.150551  1.254593  \n",
       "2 -0.102646 -0.123691 -0.237055 -0.427374 -0.797072  \n",
       "3 -0.102646  0.053915  0.381859  0.001256  1.254593  \n",
       "4 -0.102646 -0.111231 -0.227231 -0.420230 -0.797072  \n",
       "\n",
       "[5 rows x 59 columns]"
      ]
     },
     "execution_count": 411,
     "metadata": {},
     "output_type": "execute_result"
    }
   ],
   "source": [
    "dealed_data = pd.DataFrame(dealed_data)\n",
    "dealed_data.head()"
   ]
  },
  {
   "cell_type": "markdown",
   "metadata": {},
   "source": [
    "因为前面用sklearn的一个函数对数据进行标准化的时候把class的值也改变了，所以这里给改回来"
   ]
  },
  {
   "cell_type": "code",
   "execution_count": 412,
   "metadata": {},
   "outputs": [
    {
     "data": {
      "text/html": [
       "<div>\n",
       "<style scoped>\n",
       "    .dataframe tbody tr th:only-of-type {\n",
       "        vertical-align: middle;\n",
       "    }\n",
       "\n",
       "    .dataframe tbody tr th {\n",
       "        vertical-align: top;\n",
       "    }\n",
       "\n",
       "    .dataframe thead th {\n",
       "        text-align: right;\n",
       "    }\n",
       "</style>\n",
       "<table border=\"1\" class=\"dataframe\">\n",
       "  <thead>\n",
       "    <tr style=\"text-align: right;\">\n",
       "      <th></th>\n",
       "      <th>0</th>\n",
       "      <th>1</th>\n",
       "      <th>2</th>\n",
       "      <th>3</th>\n",
       "      <th>4</th>\n",
       "      <th>5</th>\n",
       "      <th>6</th>\n",
       "      <th>7</th>\n",
       "      <th>8</th>\n",
       "      <th>9</th>\n",
       "      <th>...</th>\n",
       "      <th>49</th>\n",
       "      <th>50</th>\n",
       "      <th>51</th>\n",
       "      <th>52</th>\n",
       "      <th>53</th>\n",
       "      <th>54</th>\n",
       "      <th>55</th>\n",
       "      <th>56</th>\n",
       "      <th>57</th>\n",
       "      <th>58</th>\n",
       "    </tr>\n",
       "  </thead>\n",
       "  <tbody>\n",
       "    <tr>\n",
       "      <th>0</th>\n",
       "      <td>1</td>\n",
       "      <td>-0.345874</td>\n",
       "      <td>-0.165937</td>\n",
       "      <td>1.682807</td>\n",
       "      <td>-0.045272</td>\n",
       "      <td>0.085624</td>\n",
       "      <td>-0.356976</td>\n",
       "      <td>-0.282492</td>\n",
       "      <td>-0.25936</td>\n",
       "      <td>-0.334026</td>\n",
       "      <td>...</td>\n",
       "      <td>-0.159701</td>\n",
       "      <td>0.033670</td>\n",
       "      <td>-0.176108</td>\n",
       "      <td>0.201020</td>\n",
       "      <td>-0.302462</td>\n",
       "      <td>-0.102646</td>\n",
       "      <td>-0.103960</td>\n",
       "      <td>0.013458</td>\n",
       "      <td>-0.238062</td>\n",
       "      <td>0.0</td>\n",
       "    </tr>\n",
       "    <tr>\n",
       "      <th>1</th>\n",
       "      <td>1</td>\n",
       "      <td>-0.345874</td>\n",
       "      <td>-0.165937</td>\n",
       "      <td>0.636491</td>\n",
       "      <td>-0.045272</td>\n",
       "      <td>-0.456581</td>\n",
       "      <td>1.942201</td>\n",
       "      <td>-0.282492</td>\n",
       "      <td>-0.25936</td>\n",
       "      <td>1.914865</td>\n",
       "      <td>...</td>\n",
       "      <td>-0.159701</td>\n",
       "      <td>0.026219</td>\n",
       "      <td>0.327348</td>\n",
       "      <td>-0.090481</td>\n",
       "      <td>0.268144</td>\n",
       "      <td>-0.102646</td>\n",
       "      <td>-0.096448</td>\n",
       "      <td>-0.104431</td>\n",
       "      <td>-0.150551</td>\n",
       "      <td>1.0</td>\n",
       "    </tr>\n",
       "    <tr>\n",
       "      <th>2</th>\n",
       "      <td>1</td>\n",
       "      <td>-0.345874</td>\n",
       "      <td>-0.165937</td>\n",
       "      <td>0.399589</td>\n",
       "      <td>-0.045272</td>\n",
       "      <td>-0.456581</td>\n",
       "      <td>-0.356976</td>\n",
       "      <td>-0.282492</td>\n",
       "      <td>-0.25936</td>\n",
       "      <td>-0.334026</td>\n",
       "      <td>...</td>\n",
       "      <td>-0.159701</td>\n",
       "      <td>-0.506573</td>\n",
       "      <td>-0.176108</td>\n",
       "      <td>0.217677</td>\n",
       "      <td>-0.302462</td>\n",
       "      <td>-0.102646</td>\n",
       "      <td>-0.123691</td>\n",
       "      <td>-0.237055</td>\n",
       "      <td>-0.427374</td>\n",
       "      <td>0.0</td>\n",
       "    </tr>\n",
       "    <tr>\n",
       "      <th>3</th>\n",
       "      <td>1</td>\n",
       "      <td>-0.345874</td>\n",
       "      <td>0.204054</td>\n",
       "      <td>-0.548018</td>\n",
       "      <td>-0.045272</td>\n",
       "      <td>0.290783</td>\n",
       "      <td>1.597325</td>\n",
       "      <td>2.360100</td>\n",
       "      <td>-0.25936</td>\n",
       "      <td>-0.334026</td>\n",
       "      <td>...</td>\n",
       "      <td>-0.159701</td>\n",
       "      <td>0.022493</td>\n",
       "      <td>-0.176108</td>\n",
       "      <td>-0.233257</td>\n",
       "      <td>4.533722</td>\n",
       "      <td>-0.102646</td>\n",
       "      <td>0.053915</td>\n",
       "      <td>0.381859</td>\n",
       "      <td>0.001256</td>\n",
       "      <td>1.0</td>\n",
       "    </tr>\n",
       "    <tr>\n",
       "      <th>4</th>\n",
       "      <td>1</td>\n",
       "      <td>-0.345874</td>\n",
       "      <td>-0.165937</td>\n",
       "      <td>-0.548018</td>\n",
       "      <td>-0.045272</td>\n",
       "      <td>-0.456581</td>\n",
       "      <td>-0.356976</td>\n",
       "      <td>-0.282492</td>\n",
       "      <td>-0.25936</td>\n",
       "      <td>2.064791</td>\n",
       "      <td>...</td>\n",
       "      <td>-0.159701</td>\n",
       "      <td>-0.074378</td>\n",
       "      <td>-0.176108</td>\n",
       "      <td>-0.041699</td>\n",
       "      <td>-0.302462</td>\n",
       "      <td>-0.102646</td>\n",
       "      <td>-0.111231</td>\n",
       "      <td>-0.227231</td>\n",
       "      <td>-0.420230</td>\n",
       "      <td>0.0</td>\n",
       "    </tr>\n",
       "  </tbody>\n",
       "</table>\n",
       "<p>5 rows × 59 columns</p>\n",
       "</div>"
      ],
      "text/plain": [
       "   0         1         2         3         4         5         6         7   \\\n",
       "0   1 -0.345874 -0.165937  1.682807 -0.045272  0.085624 -0.356976 -0.282492   \n",
       "1   1 -0.345874 -0.165937  0.636491 -0.045272 -0.456581  1.942201 -0.282492   \n",
       "2   1 -0.345874 -0.165937  0.399589 -0.045272 -0.456581 -0.356976 -0.282492   \n",
       "3   1 -0.345874  0.204054 -0.548018 -0.045272  0.290783  1.597325  2.360100   \n",
       "4   1 -0.345874 -0.165937 -0.548018 -0.045272 -0.456581 -0.356976 -0.282492   \n",
       "\n",
       "        8         9   ...        49        50        51        52        53  \\\n",
       "0 -0.25936 -0.334026  ... -0.159701  0.033670 -0.176108  0.201020 -0.302462   \n",
       "1 -0.25936  1.914865  ... -0.159701  0.026219  0.327348 -0.090481  0.268144   \n",
       "2 -0.25936 -0.334026  ... -0.159701 -0.506573 -0.176108  0.217677 -0.302462   \n",
       "3 -0.25936 -0.334026  ... -0.159701  0.022493 -0.176108 -0.233257  4.533722   \n",
       "4 -0.25936  2.064791  ... -0.159701 -0.074378 -0.176108 -0.041699 -0.302462   \n",
       "\n",
       "         54        55        56        57   58  \n",
       "0 -0.102646 -0.103960  0.013458 -0.238062  0.0  \n",
       "1 -0.102646 -0.096448 -0.104431 -0.150551  1.0  \n",
       "2 -0.102646 -0.123691 -0.237055 -0.427374  0.0  \n",
       "3 -0.102646  0.053915  0.381859  0.001256  1.0  \n",
       "4 -0.102646 -0.111231 -0.227231 -0.420230  0.0  \n",
       "\n",
       "[5 rows x 59 columns]"
      ]
     },
     "execution_count": 412,
     "metadata": {},
     "output_type": "execute_result"
    }
   ],
   "source": [
    "dealed_data[58][dealed_data[58]<0]=0\n",
    "dealed_data[58][dealed_data[58]>0]=1\n",
    "dealed_data[0] = 1\n",
    "dealed_data.head()"
   ]
  },
  {
   "cell_type": "code",
   "execution_count": 413,
   "metadata": {},
   "outputs": [
    {
     "name": "stdout",
     "output_type": "stream",
     "text": [
      "Number transactions train dataset:  3000\n",
      "Number transactions test dataset:  1000\n",
      "Total number of transactions:  4000\n"
     ]
    }
   ],
   "source": [
    "# 预处理过的数据\n",
    "\n",
    "dealed_Data = dealed_data.values \n",
    "cols2 = dealed_Data.shape[1]\n",
    "dealed_X = dealed_Data[:,0:cols2-1]\n",
    "dealed_y = dealed_Data[:,cols2-1:cols2]\n",
    "\n",
    "from sklearn.model_selection import train_test_split\n",
    "\n",
    "dealed_X_train, dealed_X_test, dealed_y_train, dealed_y_test = train_test_split(dealed_X, dealed_y, test_size = 0.25, random_state = 0)\n",
    "\n",
    "print(\"Number transactions train dataset: \", len(dealed_X_train))\n",
    "print(\"Number transactions test dataset: \", len(dealed_X_test))\n",
    "print(\"Total number of transactions: \", len(dealed_X_train)+len(dealed_X_test))"
   ]
  },
  {
   "cell_type": "code",
   "execution_count": 414,
   "metadata": {
    "collapsed": true
   },
   "outputs": [
    {
     "data": {
      "text/plain": [
       "array([[ 1.  , -0.35, -0.17, -0.55, -0.05, -0.46, -0.36, -0.28, 14.05,\n",
       "        -0.33, -0.36, -0.29, -0.62, -0.31, -0.17, -0.19, -0.33, -0.32,\n",
       "        -0.34, -0.92, -0.17, -0.67, -0.12, -0.29, -0.21, -0.33, -0.3 ,\n",
       "        -0.23, -0.23, -0.16, -0.22, -0.15, -0.14, -0.17, -0.15, -0.19,\n",
       "        -0.25, -0.32, -0.06, -0.18, -0.19, -0.12, -0.17, -0.21, -0.13,\n",
       "        -0.3 , -0.2 , -0.07, -0.12, -0.16, -0.51, -0.18, -0.32, -0.3 ,\n",
       "        -0.1 , -0.13, -0.25, -0.48],\n",
       "       [ 1.  , -0.35, -0.17, -0.55, -0.05, -0.46, -0.36, -0.28, -0.26,\n",
       "        -0.33, -0.36, -0.29,  1.12, -0.31, -0.17, -0.19, -0.33, -0.32,\n",
       "        -0.34,  0.31, -0.17, -0.06, -0.12, -0.29, -0.21,  0.12,  0.56,\n",
       "        -0.23, -0.23, -0.16, -0.22, -0.15, -0.14, -0.17, -0.15, -0.19,\n",
       "        -0.25, -0.32, -0.06, -0.18, -0.19, -0.12, -0.17, -0.21, -0.13,\n",
       "        -0.3 , -0.2 , -0.07, -0.12, -0.16, -0.51, -0.18, -0.19,  0.59,\n",
       "        -0.1 , -0.1 , -0.23, -0.34],\n",
       "       [ 1.  , -0.35, -0.17, -0.55, -0.05, -0.46,  3.93, -0.28, -0.26,\n",
       "        -0.33, -0.36, -0.29, -0.62, -0.31, -0.17, -0.19, -0.33, -0.32,\n",
       "        -0.34,  0.33, -0.17, -0.67, -0.12, -0.29, -0.21, -0.33, -0.3 ,\n",
       "        -0.23, -0.23, -0.16, -0.22, -0.15, -0.14, -0.17, -0.15, -0.19,\n",
       "        -0.25, -0.32, -0.06, -0.18, -0.19, -0.12, -0.17, -0.21, -0.13,\n",
       "        -0.3 , -0.2 , -0.07, -0.12, -0.16,  0.95, -0.18,  3.65, -0.3 ,\n",
       "        -0.1 , -0.08, -0.2 , -0.37],\n",
       "       [ 1.  , -0.35, -0.17,  2.08, -0.05,  2.15,  1.33, -0.28,  0.81,\n",
       "        -0.33, -0.36, -0.29, -0.62, -0.31, -0.17, -0.19, -0.33, -0.32,\n",
       "        -0.34,  1.58,  1.53,  0.07, -0.12,  0.94, -0.21, -0.33, -0.3 ,\n",
       "        -0.23, -0.23, -0.16, -0.22, -0.15, -0.14, -0.17, -0.15, -0.19,\n",
       "        -0.25, -0.32, -0.06, -0.18, -0.19, -0.12, -0.17, -0.21, -0.13,\n",
       "         0.14, -0.2 , -0.07, -0.12,  0.15, -0.22, -0.18, -0.32, -0.3 ,\n",
       "        -0.1 , -0.11, -0.23, -0.43],\n",
       "       [ 1.  , -0.35, -0.17, -0.55, -0.05, -0.46, -0.36, -0.28, -0.26,\n",
       "        -0.33, -0.36, -0.29,  4.38, -0.31, -0.17, -0.19, -0.33, -0.32,\n",
       "        -0.34, -0.92, -0.17,  0.5 , -0.12, -0.29, -0.21, -0.33,  3.01,\n",
       "        -0.23, -0.23, -0.16, -0.22, -0.15, -0.14, -0.17, -0.15, -0.19,\n",
       "        -0.25, -0.32, -0.06, -0.18, -0.19, -0.12,  3.39, -0.21, -0.13,\n",
       "        -0.3 , -0.2 , -0.07, -0.12, -0.16, -0.51, -0.18, -0.32, -0.3 ,\n",
       "        -0.1 , -0.06, -0.07, -0.35]])"
      ]
     },
     "execution_count": 414,
     "metadata": {},
     "output_type": "execute_result"
    }
   ],
   "source": [
    "dealed_X_train[:5]"
   ]
  },
  {
   "cell_type": "code",
   "execution_count": 415,
   "metadata": {},
   "outputs": [],
   "source": [
    "# theta2 = np.zeros([1,58])\n",
    "# theta2 = pd.DataFrame(theta)\n",
    "# theta2.head()\n",
    "# theta2.shape"
   ]
  },
  {
   "cell_type": "code",
   "execution_count": 420,
   "metadata": {},
   "outputs": [
    {
     "data": {
      "text/plain": [
       "0.6931471785599455"
      ]
     },
     "execution_count": 420,
     "metadata": {},
     "output_type": "execute_result"
    }
   ],
   "source": [
    "cost(dealed_X_train, dealed_y_train, theta)"
   ]
  },
  {
   "cell_type": "code",
   "execution_count": 421,
   "metadata": {},
   "outputs": [
    {
     "name": "stdout",
     "output_type": "stream",
     "text": [
      "theta:[[-0.33  0.02 -0.05  0.11  0.08  0.23  0.19  0.36  0.18  0.18  0.12  0.09\n",
      "  -0.06  0.07  0.03  0.15  0.32  0.23  0.17  0.15  0.18  0.25  0.14  0.32\n",
      "   0.2  -0.19 -0.15 -0.17 -0.06 -0.08 -0.11 -0.06 -0.03 -0.11 -0.03 -0.08\n",
      "  -0.04 -0.1  -0.03 -0.09  0.   -0.07 -0.13 -0.08 -0.08 -0.15 -0.15 -0.04\n",
      "  -0.09 -0.05 -0.06 -0.05  0.22  0.31  0.07  0.08  0.17  0.23]]\n",
      "duration:0.37s\n"
     ]
    },
    {
     "data": {
      "image/png": "[encoded data removed]",
      "text/plain": [
       "<Figure size 864x288 with 1 Axes>"
      ]
     },
     "metadata": {},
     "output_type": "display_data"
    }
   ],
   "source": [
    "theta1 = runExpe(dealed_X_train, dealed_y_train, theta, 32, STOP_ITER, thresh=500, alpha=0.01)"
   ]
  },
  {
   "cell_type": "code",
   "execution_count": 422,
   "metadata": {},
   "outputs": [
    {
     "name": "stdout",
     "output_type": "stream",
     "text": [
      "[[-0.33  0.02 -0.05  0.11  0.08  0.23  0.19  0.36  0.18  0.18  0.12  0.09\n",
      "  -0.06  0.07  0.03  0.15  0.32  0.23  0.17  0.15  0.18  0.25  0.14  0.32\n",
      "   0.2  -0.19 -0.15 -0.17 -0.06 -0.08 -0.11 -0.06 -0.03 -0.11 -0.03 -0.08\n",
      "  -0.04 -0.1  -0.03 -0.09  0.   -0.07 -0.13 -0.08 -0.08 -0.15 -0.15 -0.04\n",
      "  -0.09 -0.05 -0.06 -0.05  0.22  0.31  0.07  0.08  0.17  0.23]]\n"
     ]
    }
   ],
   "source": [
    "print(theta1)"
   ]
  },
  {
   "cell_type": "code",
   "execution_count": 423,
   "metadata": {},
   "outputs": [
    {
     "data": {
      "text/plain": [
       "0.904"
      ]
     },
     "execution_count": 423,
     "metadata": {},
     "output_type": "execute_result"
    }
   ],
   "source": [
    "y_pred = predict(dealed_X_test, theta1)\n",
    "# y_pred = ()\n",
    "# print(y_pred)\n",
    "# print(y_test)\n",
    "accuracy_score(dealed_y_test, y_pred)\n",
    "# classification_report(y_test, y_pred)"
   ]
  },
  {
   "cell_type": "code",
   "execution_count": 452,
   "metadata": {
    "scrolled": false
   },
   "outputs": [
    {
     "name": "stdout",
     "output_type": "stream",
     "text": [
      "theta:[[-0.05  0.02 -0.01  0.04  0.01  0.05  0.05  0.07  0.04  0.05  0.03  0.04\n",
      "  -0.    0.02  0.01  0.04  0.06  0.06  0.04  0.05  0.04  0.07  0.02  0.07\n",
      "   0.04 -0.05 -0.04 -0.04 -0.03 -0.02 -0.03 -0.02 -0.02 -0.02 -0.01 -0.02\n",
      "  -0.02 -0.03 -0.   -0.02 -0.   -0.02 -0.03 -0.02 -0.02 -0.03 -0.03 -0.01\n",
      "  -0.02 -0.01 -0.02 -0.01  0.05  0.06  0.01  0.02  0.04  0.05]]\n",
      "duration:0.33s\n"
     ]
    },
    {
     "data": {
      "text/plain": [
       "0.902"
      ]
     },
     "execution_count": 452,
     "metadata": {},
     "output_type": "execute_result"
    },
    {
     "data": {
      "image/png": "[encoded data removed]",
      "text/plain": [
       "<Figure size 864x288 with 1 Axes>"
      ]
     },
     "metadata": {},
     "output_type": "display_data"
    }
   ],
   "source": [
    "theta6 = runExpe(dealed_X_train, dealed_y_train, theta, 32, STOP_ITER, thresh=500, alpha=0.001)\n",
    "y_pred = predict(dealed_X_test, theta6)\n",
    "accuracy_score(dealed_y_test, y_pred)"
   ]
  },
  {
   "cell_type": "code",
   "execution_count": 470,
   "metadata": {},
   "outputs": [
    {
     "name": "stdout",
     "output_type": "stream",
     "text": [
      "theta:[[-3.80e+00 -4.28e-02 -3.00e-01  6.96e-02  1.37e+00  3.54e-01  3.41e-01\n",
      "   1.19e+00  4.40e-01  1.50e-01  1.78e-01 -1.78e-01 -3.29e-01  4.22e-02\n",
      "   3.58e-02  1.19e-01  7.13e-01  4.07e-01  1.99e-01  2.72e-01  5.99e-01\n",
      "   3.23e-01  2.84e-01  1.18e+00  3.12e-01 -2.87e+00 -1.11e+00 -6.93e+00\n",
      "   3.07e-01 -1.77e+00 -1.56e-01 -2.23e+00 -6.51e-01 -4.86e-01  2.73e-01\n",
      "  -1.15e+00  3.20e-01  2.48e-01  1.70e-01 -5.41e-01 -1.61e-01 -2.97e+00\n",
      "  -2.68e+00 -2.11e-01 -8.62e-01 -5.84e-01 -1.26e+00 -2.51e-03 -1.28e+00\n",
      "  -4.71e-01 -2.09e-01 -2.37e-01  5.55e-01  1.41e+00  1.13e+00 -3.39e-01\n",
      "   1.31e+00  3.93e-01]]\n",
      "duration:3.45s\n"
     ]
    },
    {
     "data": {
      "text/plain": [
       "0.926"
      ]
     },
     "execution_count": 470,
     "metadata": {},
     "output_type": "execute_result"
    },
    {
     "data": {
      "image/png": "[encoded data removed]",
      "text/plain": [
       "<Figure size 864x288 with 1 Axes>"
      ]
     },
     "metadata": {},
     "output_type": "display_data"
    }
   ],
   "source": [
    "theta9 = runExpe(dealed_X_train, dealed_y_train, theta, 32, STOP_ITER, thresh=5000, alpha=1)\n",
    "y_pred = predict(dealed_X_test, theta9)\n",
    "accuracy_score(dealed_y_test, y_pred)"
   ]
  },
  {
   "cell_type": "code",
   "execution_count": 471,
   "metadata": {},
   "outputs": [
    {
     "name": "stdout",
     "output_type": "stream",
     "text": [
      "theta:[[-1.66 -0.05 -0.25  0.07  0.47  0.37  0.22  1.31  0.18  0.23  0.16 -0.08\n",
      "  -0.14  0.01  0.02  0.25  0.71  0.45  0.1   0.09  0.46  0.23  0.52  1.32\n",
      "   0.34 -1.99 -1.02 -1.82  0.26 -0.71 -0.28 -0.65 -0.23 -0.48  0.07 -0.81\n",
      "   0.29  0.14  0.07 -0.48 -0.12 -0.76 -1.27 -0.13 -0.67 -0.67 -1.08 -0.08\n",
      "  -0.74 -0.37 -0.23 -0.36  0.3   1.37  0.47 -0.2   0.88  0.39]]\n",
      "duration:3.42s\n"
     ]
    },
    {
     "data": {
      "text/plain": [
       "0.915"
      ]
     },
     "execution_count": 471,
     "metadata": {},
     "output_type": "execute_result"
    },
    {
     "data": {
      "image/png": "[encoded data removed]",
      "text/plain": [
       "<Figure size 864x288 with 1 Axes>"
      ]
     },
     "metadata": {},
     "output_type": "display_data"
    }
   ],
   "source": [
    "theta10 = runExpe(dealed_X_train, dealed_y_train, theta, 32, STOP_ITER, thresh=5000, alpha=0.1)\n",
    "y_pred = predict(dealed_X_test, theta10)\n",
    "accuracy_score(dealed_y_test, y_pred)"
   ]
  },
  {
   "cell_type": "code",
   "execution_count": 472,
   "metadata": {},
   "outputs": [
    {
     "name": "stdout",
     "output_type": "stream",
     "text": [
      "theta:[[-0.7  -0.05 -0.16  0.09  0.22  0.36  0.22  0.97  0.25  0.24  0.16 -0.02\n",
      "  -0.14  0.03  0.02  0.26  0.69  0.41  0.18  0.11  0.36  0.26  0.35  0.83\n",
      "   0.44 -0.71 -0.47 -0.52  0.07 -0.26 -0.28 -0.2  -0.08 -0.33 -0.04 -0.26\n",
      "   0.09 -0.05 -0.05 -0.25 -0.08 -0.24 -0.45 -0.14 -0.27 -0.43 -0.5  -0.1\n",
      "  -0.29 -0.22 -0.14 -0.18  0.37  0.86  0.19  0.13  0.4   0.39]]\n",
      "duration:3.38s\n"
     ]
    },
    {
     "data": {
      "text/plain": [
       "0.912"
      ]
     },
     "execution_count": 472,
     "metadata": {},
     "output_type": "execute_result"
    },
    {
     "data": {
      "image/png": "[encoded data removed]",
      "text/plain": [
       "<Figure size 864x288 with 1 Axes>"
      ]
     },
     "metadata": {},
     "output_type": "display_data"
    }
   ],
   "source": [
    "theta11 = runExpe(dealed_X_train, dealed_y_train, theta, 32, STOP_ITER, thresh=5000, alpha=0.01)\n",
    "y_pred = predict(dealed_X_test, theta11)\n",
    "accuracy_score(dealed_y_test, y_pred)"
   ]
  },
  {
   "cell_type": "code",
   "execution_count": 453,
   "metadata": {},
   "outputs": [
    {
     "name": "stdout",
     "output_type": "stream",
     "text": [
      "theta:[[-0.33  0.02 -0.05  0.11  0.08  0.22  0.19  0.36  0.18  0.18  0.12  0.09\n",
      "  -0.05  0.07  0.03  0.15  0.32  0.24  0.17  0.15  0.18  0.24  0.14  0.32\n",
      "   0.2  -0.19 -0.15 -0.17 -0.06 -0.08 -0.11 -0.06 -0.03 -0.11 -0.03 -0.08\n",
      "  -0.04 -0.1  -0.03 -0.09  0.   -0.07 -0.13 -0.08 -0.08 -0.15 -0.15 -0.04\n",
      "  -0.09 -0.05 -0.06 -0.05  0.21  0.31  0.07  0.08  0.17  0.23]]\n",
      "duration:3.36s\n"
     ]
    },
    {
     "data": {
      "text/plain": [
       "0.904"
      ]
     },
     "execution_count": 453,
     "metadata": {},
     "output_type": "execute_result"
    },
    {
     "data": {
      "image/png": "[encoded data removed]",
      "text/plain": [
       "<Figure size 864x288 with 1 Axes>"
      ]
     },
     "metadata": {},
     "output_type": "display_data"
    }
   ],
   "source": [
    "theta6 = runExpe(dealed_X_train, dealed_y_train, theta, 32, STOP_ITER, thresh=5000, alpha=0.001)\n",
    "y_pred = predict(dealed_X_test, theta6)\n",
    "accuracy_score(dealed_y_test, y_pred)"
   ]
  },
  {
   "cell_type": "code",
   "execution_count": 473,
   "metadata": {},
   "outputs": [
    {
     "name": "stdout",
     "output_type": "stream",
     "text": [
      "theta:[[-0.05  0.02 -0.01  0.04  0.01  0.05  0.05  0.07  0.04  0.05  0.03  0.04\n",
      "  -0.    0.02  0.01  0.04  0.06  0.06  0.04  0.05  0.04  0.07  0.02  0.07\n",
      "   0.04 -0.05 -0.04 -0.04 -0.03 -0.02 -0.03 -0.02 -0.02 -0.02 -0.02 -0.02\n",
      "  -0.02 -0.03 -0.   -0.02 -0.   -0.02 -0.03 -0.02 -0.02 -0.03 -0.03 -0.01\n",
      "  -0.02 -0.01 -0.02 -0.01  0.05  0.06  0.01  0.02  0.04  0.05]]\n",
      "duration:3.25s\n"
     ]
    },
    {
     "data": {
      "text/plain": [
       "0.9"
      ]
     },
     "execution_count": 473,
     "metadata": {},
     "output_type": "execute_result"
    },
    {
     "data": {
      "image/png": "[encoded data removed]",
      "text/plain": [
       "<Figure size 864x288 with 1 Axes>"
      ]
     },
     "metadata": {},
     "output_type": "display_data"
    }
   ],
   "source": [
    "theta12 = runExpe(dealed_X_train, dealed_y_train, theta, 32, STOP_ITER, thresh=5000, alpha=0.0001)\n",
    "y_pred = predict(dealed_X_test, theta12)\n",
    "accuracy_score(dealed_y_test, y_pred)"
   ]
  },
  {
   "cell_type": "code",
   "execution_count": 424,
   "metadata": {},
   "outputs": [
    {
     "name": "stdout",
     "output_type": "stream",
     "text": [
      "theta:[[-0.7  -0.05 -0.16  0.09  0.22  0.36  0.22  0.97  0.25  0.24  0.16 -0.02\n",
      "  -0.14  0.03  0.02  0.26  0.69  0.41  0.18  0.11  0.36  0.26  0.35  0.83\n",
      "   0.44 -0.71 -0.47 -0.52  0.07 -0.26 -0.28 -0.2  -0.08 -0.33 -0.04 -0.26\n",
      "   0.09 -0.05 -0.05 -0.25 -0.08 -0.24 -0.45 -0.14 -0.27 -0.43 -0.5  -0.1\n",
      "  -0.29 -0.22 -0.14 -0.18  0.37  0.86  0.19  0.13  0.4   0.39]]\n",
      "duration:3.37s\n"
     ]
    },
    {
     "data": {
      "text/plain": [
       "0.912"
      ]
     },
     "execution_count": 424,
     "metadata": {},
     "output_type": "execute_result"
    },
    {
     "data": {
      "image/png": "[encoded data removed]",
      "text/plain": [
       "<Figure size 864x288 with 1 Axes>"
      ]
     },
     "metadata": {},
     "output_type": "display_data"
    }
   ],
   "source": [
    "theta2 = runExpe(dealed_X_train, dealed_y_train, theta, 32, STOP_ITER, thresh=5000, alpha=0.01)\n",
    "y_pred = predict(dealed_X_test, theta2)\n",
    "accuracy_score(dealed_y_test, y_pred)"
   ]
  },
  {
   "cell_type": "code",
   "execution_count": 468,
   "metadata": {},
   "outputs": [
    {
     "name": "stdout",
     "output_type": "stream",
     "text": [
      "theta:[[-1.67 -0.05 -0.25  0.08  0.46  0.36  0.2   1.32  0.2   0.24  0.15 -0.08\n",
      "  -0.13  0.    0.01  0.26  0.72  0.45  0.11  0.08  0.46  0.24  0.52  1.32\n",
      "   0.35 -1.99 -1.01 -1.8   0.26 -0.71 -0.3  -0.65 -0.22 -0.48  0.05 -0.81\n",
      "   0.29  0.14  0.07 -0.48 -0.12 -0.75 -1.26 -0.13 -0.68 -0.67 -1.09 -0.08\n",
      "  -0.73 -0.36 -0.24 -0.37  0.27  1.37  0.46 -0.2   0.86  0.4 ]]\n",
      "duration:34.54s\n"
     ]
    },
    {
     "data": {
      "text/plain": [
       "0.915"
      ]
     },
     "execution_count": 468,
     "metadata": {},
     "output_type": "execute_result"
    },
    {
     "data": {
      "image/png": "[encoded data removed]",
      "text/plain": [
       "<Figure size 864x288 with 1 Axes>"
      ]
     },
     "metadata": {},
     "output_type": "display_data"
    }
   ],
   "source": [
    "theta8 = runExpe(dealed_X_train, dealed_y_train, theta, 32, STOP_ITER, thresh=50000, alpha=0.01)\n",
    "y_pred = predict(dealed_X_test, theta8)\n",
    "accuracy_score(dealed_y_test, y_pred)"
   ]
  },
  {
   "cell_type": "code",
   "execution_count": 427,
   "metadata": {},
   "outputs": [
    {
     "name": "stdout",
     "output_type": "stream",
     "text": [
      "theta:[[-1.66 -0.05 -0.25  0.07  0.47  0.37  0.22  1.31  0.18  0.23  0.16 -0.08\n",
      "  -0.14  0.01  0.02  0.25  0.71  0.45  0.1   0.09  0.46  0.23  0.52  1.32\n",
      "   0.34 -1.99 -1.02 -1.82  0.26 -0.71 -0.28 -0.65 -0.23 -0.48  0.07 -0.81\n",
      "   0.29  0.14  0.07 -0.48 -0.12 -0.76 -1.27 -0.13 -0.67 -0.67 -1.08 -0.08\n",
      "  -0.74 -0.37 -0.23 -0.36  0.3   1.37  0.47 -0.2   0.88  0.39]]\n",
      "duration:3.51s\n"
     ]
    },
    {
     "data": {
      "text/plain": [
       "0.915"
      ]
     },
     "execution_count": 427,
     "metadata": {},
     "output_type": "execute_result"
    },
    {
     "data": {
      "image/png": "[encoded data removed]",
      "text/plain": [
       "<Figure size 864x288 with 1 Axes>"
      ]
     },
     "metadata": {},
     "output_type": "display_data"
    }
   ],
   "source": [
    "theta3 = runExpe(dealed_X_train, dealed_y_train, theta, 32, STOP_ITER, thresh=5000, alpha=0.1)\n",
    "y_pred = predict(dealed_X_test, theta3)\n",
    "accuracy_score(dealed_y_test, y_pred)"
   ]
  },
  {
   "cell_type": "code",
   "execution_count": 430,
   "metadata": {},
   "outputs": [
    {
     "name": "stdout",
     "output_type": "stream",
     "text": [
      "theta:[[-2.19e+00 -6.59e-02 -2.62e-01  6.02e-02  6.16e-01  3.82e-01  2.22e-01\n",
      "   1.28e+00  1.81e-01  2.33e-01  1.58e-01 -7.85e-02 -1.48e-01  4.19e-03\n",
      "  -1.57e-03  2.43e-01  7.09e-01  4.57e-01  1.06e-01  9.34e-02  4.65e-01\n",
      "   2.60e-01  4.75e-01  1.28e+00  3.25e-01 -2.38e+00 -1.09e+00 -2.74e+00\n",
      "   2.80e-01 -9.26e-01 -2.56e-01 -9.34e-01 -3.43e-01 -4.51e-01  1.19e-01\n",
      "  -1.03e+00  3.04e-01  1.71e-01  8.02e-02 -5.25e-01 -1.20e-01 -1.13e+00\n",
      "  -1.61e+00 -1.30e-01 -7.88e-01 -6.70e-01 -1.20e+00 -7.09e-02 -9.22e-01\n",
      "  -3.65e-01 -2.37e-01 -3.62e-01  3.18e-01  1.38e+00  6.15e-01 -3.08e-01\n",
      "   1.12e+00  3.94e-01]]\n",
      "duration:7.36s\n"
     ]
    },
    {
     "data": {
      "text/plain": [
       "0.92"
      ]
     },
     "execution_count": 430,
     "metadata": {},
     "output_type": "execute_result"
    },
    {
     "data": {
      "image/png": "[encoded data removed]",
      "text/plain": [
       "<Figure size 864x288 with 1 Axes>"
      ]
     },
     "metadata": {},
     "output_type": "display_data"
    }
   ],
   "source": [
    "theta4 = runExpe(dealed_X_train, dealed_y_train, theta, 32, STOP_ITER, thresh=10000, alpha=0.1)\n",
    "y_pred = predict(dealed_X_test, theta4)\n",
    "accuracy_score(dealed_y_test, y_pred)"
   ]
  },
  {
   "cell_type": "code",
   "execution_count": 431,
   "metadata": {},
   "outputs": [
    {
     "name": "stdout",
     "output_type": "stream",
     "text": [
      "theta:[[-3.87 -0.09 -0.27  0.09  1.34  0.36  0.23  1.24  0.2   0.22  0.15 -0.1\n",
      "  -0.12  0.02  0.03  0.28  0.72  0.49  0.09  0.06  0.56  0.24  0.37  1.12\n",
      "   0.27 -2.78 -1.11 -6.47  0.31 -1.59 -0.24 -2.07 -0.73 -0.42  0.24 -1.13\n",
      "   0.35  0.15  0.09 -0.56 -0.13 -2.89 -2.61 -0.13 -0.87 -0.66 -1.26 -0.05\n",
      "  -1.23 -0.33 -0.23 -0.29  0.2   1.37  0.96 -0.4   1.3   0.48]]\n",
      "duration:33.93s\n"
     ]
    },
    {
     "data": {
      "text/plain": [
       "0.921"
      ]
     },
     "execution_count": 431,
     "metadata": {},
     "output_type": "execute_result"
    },
    {
     "data": {
      "image/png": "[encoded data removed]",
      "text/plain": [
       "<Figure size 864x288 with 1 Axes>"
      ]
     },
     "metadata": {},
     "output_type": "display_data"
    }
   ],
   "source": [
    "theta5 = runExpe(dealed_X_train, dealed_y_train, theta, 32, STOP_ITER, thresh=50000, alpha=0.1)\n",
    "y_pred = predict(dealed_X_test, theta5)\n",
    "accuracy_score(dealed_y_test, y_pred)"
   ]
  },
  {
   "cell_type": "markdown",
   "metadata": {},
   "source": [
    "#### 混淆矩阵"
   ]
  },
  {
   "cell_type": "code",
   "execution_count": 385,
   "metadata": {},
   "outputs": [],
   "source": [
    "def plot_confusion_matrix(cm, classes, title = 'Confusion matrix', cmap = plt.cm.Blues):\n",
    "    # this fuction is used tp print the confusion matrix\n",
    "    plt.imshow(cm, interpolation = 'nearest', cmap = cmap)\n",
    "    plt.title(title)\n",
    "    plt.colorbar()\n",
    "    tick_marks = np.arange(len(classes))\n",
    "    plt.xticks(tick_marks, classes, rotation = 0)\n",
    "    plt.yticks(tick_marks, classes)\n",
    "    thresh = cm.max() / 2.\n",
    "    for i, j in itertools.product(range(cm.shape[0]), range(cm.shape[1])):\n",
    "        plt.text(j, i, cm[i, j], \n",
    "                 horizontalalignment='center', \n",
    "                 color=\"white\" if cm[i, j] > thresh else \"black\")\n",
    "    plt.tight_layout()\n",
    "    plt.ylabel('True label')\n",
    "    plt.xlabel('Predict label')"
   ]
  },
  {
   "cell_type": "code",
   "execution_count": 437,
   "metadata": {
    "scrolled": true
   },
   "outputs": [
    {
     "name": "stdout",
     "output_type": "stream",
     "text": [
      "recall metric in the test data:  0.8654822335025381\n",
      "accuracy in the test data:  0.921\n"
     ]
    },
    {
     "data": {
      "image/png": "[encoded data removed]",
      "text/plain": [
       "<Figure size 432x288 with 2 Axes>"
      ]
     },
     "metadata": {},
     "output_type": "display_data"
    }
   ],
   "source": [
    "import itertools\n",
    "from sklearn.metrics import confusion_matrix\n",
    "\n",
    "y_pred = predict(dealed_X_test, theta5)\n",
    "\n",
    "cnf_matrix = confusion_matrix(dealed_y_test, y_pred)\n",
    "np.set_printoptions(precision = 2)\n",
    "\n",
    "print(\"recall metric in the test data: \", cnf_matrix[1, 1]/(cnf_matrix[1, 0] + cnf_matrix[1, 1]))\n",
    "print(\"accuracy in the test data: \", (cnf_matrix[1, 1] + cnf_matrix[0, 0]) / (cnf_matrix[1,1]+cnf_matrix[1,0]+cnf_matrix[0,1]+cnf_matrix[0,0]))\n",
    "# plot non-normalized confusion matrix\n",
    "class_names = [0, 1]\n",
    "plt.figure()\n",
    "plot_confusion_matrix(cnf_matrix,\n",
    "                     classes=class_names,\n",
    "                     title = 'Confusion matrix')\n",
    "plt.show()"
   ]
  }
 ],
 "metadata": {
  "kernelspec": {
   "display_name": "Python 3",
   "language": "python",
   "name": "python3"
  },
  "language_info": {
   "codemirror_mode": {
    "name": "ipython",
    "version": 3
   },
   "file_extension": ".py",
   "mimetype": "text/x-python",
   "name": "python",
   "nbconvert_exporter": "python",
   "pygments_lexer": "ipython3",
   "version": "3.7.6"
  }
 },
 "nbformat": 4,
 "nbformat_minor": 4
}
